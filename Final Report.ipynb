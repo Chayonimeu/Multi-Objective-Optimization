{
 "cells": [
  {
   "cell_type": "markdown",
   "metadata": {},
   "source": [
    "# Multi-Objective Optimization for Human Development and Environmental Sustainability Using Enhanced Genetic Algorithms\n"
   ]
  },
  {
   "cell_type": "markdown",
   "metadata": {},
   "source": [
    "## Step 1: Load the Dataset and Perform Initial Data Checks"
   ]
  },
  {
   "cell_type": "markdown",
   "metadata": {},
   "source": [
    "### Step 1.1: Import Libraries and Download Dataset"
   ]
  },
  {
   "cell_type": "code",
   "execution_count": 15,
   "metadata": {},
   "outputs": [],
   "source": [
    "import pandas as pd\n",
    "import numpy as np\n",
    "import matplotlib.pyplot as plt\n",
    "import seaborn as sns\n",
    "from sklearn.preprocessing import StandardScaler, LabelEncoder\n",
    "from sklearn.model_selection import train_test_split\n",
    "from sklearn.metrics import mean_squared_error\n",
    "from sklearn.preprocessing import MinMaxScaler  # Import MinMaxScaler\n",
    "from deap import base, creator, tools, algorithms"
   ]
  },
  {
   "cell_type": "code",
   "execution_count": 16,
   "metadata": {},
   "outputs": [
    {
     "name": "stdout",
     "output_type": "stream",
     "text": [
      "Path to dataset files: /Users/chayonimeu/.cache/kagglehub/datasets/iamsouravbanerjee/human-development-index-dataset/versions/7\n"
     ]
    },
    {
     "data": {
      "text/html": [
       "<div>\n",
       "<style scoped>\n",
       "    .dataframe tbody tr th:only-of-type {\n",
       "        vertical-align: middle;\n",
       "    }\n",
       "\n",
       "    .dataframe tbody tr th {\n",
       "        vertical-align: top;\n",
       "    }\n",
       "\n",
       "    .dataframe thead th {\n",
       "        text-align: right;\n",
       "    }\n",
       "</style>\n",
       "<table border=\"1\" class=\"dataframe\">\n",
       "  <thead>\n",
       "    <tr style=\"text-align: right;\">\n",
       "      <th></th>\n",
       "      <th>ISO3</th>\n",
       "      <th>Country</th>\n",
       "      <th>Human Development Groups</th>\n",
       "      <th>UNDP Developing Regions</th>\n",
       "      <th>HDI Rank (2021)</th>\n",
       "      <th>Human Development Index (1990)</th>\n",
       "      <th>Human Development Index (1991)</th>\n",
       "      <th>Human Development Index (1992)</th>\n",
       "      <th>Human Development Index (1993)</th>\n",
       "      <th>Human Development Index (1994)</th>\n",
       "      <th>...</th>\n",
       "      <th>Material footprint per capita (tonnes) (2012)</th>\n",
       "      <th>Material footprint per capita (tonnes) (2013)</th>\n",
       "      <th>Material footprint per capita (tonnes) (2014)</th>\n",
       "      <th>Material footprint per capita (tonnes) (2015)</th>\n",
       "      <th>Material footprint per capita (tonnes) (2016)</th>\n",
       "      <th>Material footprint per capita (tonnes) (2017)</th>\n",
       "      <th>Material footprint per capita (tonnes) (2018)</th>\n",
       "      <th>Material footprint per capita (tonnes) (2019)</th>\n",
       "      <th>Material footprint per capita (tonnes) (2020)</th>\n",
       "      <th>Material footprint per capita (tonnes) (2021)</th>\n",
       "    </tr>\n",
       "  </thead>\n",
       "  <tbody>\n",
       "    <tr>\n",
       "      <th>0</th>\n",
       "      <td>AFG</td>\n",
       "      <td>Afghanistan</td>\n",
       "      <td>Low</td>\n",
       "      <td>SA</td>\n",
       "      <td>180.0</td>\n",
       "      <td>0.273</td>\n",
       "      <td>0.279</td>\n",
       "      <td>0.287</td>\n",
       "      <td>0.297</td>\n",
       "      <td>0.292</td>\n",
       "      <td>...</td>\n",
       "      <td>1.86</td>\n",
       "      <td>1.88</td>\n",
       "      <td>1.66</td>\n",
       "      <td>1.62</td>\n",
       "      <td>1.66</td>\n",
       "      <td>1.41</td>\n",
       "      <td>1.32</td>\n",
       "      <td>1.38</td>\n",
       "      <td>1.38</td>\n",
       "      <td>1.38</td>\n",
       "    </tr>\n",
       "    <tr>\n",
       "      <th>1</th>\n",
       "      <td>AGO</td>\n",
       "      <td>Angola</td>\n",
       "      <td>Medium</td>\n",
       "      <td>SSA</td>\n",
       "      <td>148.0</td>\n",
       "      <td>NaN</td>\n",
       "      <td>NaN</td>\n",
       "      <td>NaN</td>\n",
       "      <td>NaN</td>\n",
       "      <td>NaN</td>\n",
       "      <td>...</td>\n",
       "      <td>4.09</td>\n",
       "      <td>4.53</td>\n",
       "      <td>3.97</td>\n",
       "      <td>3.59</td>\n",
       "      <td>2.79</td>\n",
       "      <td>2.64</td>\n",
       "      <td>2.28</td>\n",
       "      <td>2.18</td>\n",
       "      <td>2.18</td>\n",
       "      <td>2.18</td>\n",
       "    </tr>\n",
       "    <tr>\n",
       "      <th>2</th>\n",
       "      <td>ALB</td>\n",
       "      <td>Albania</td>\n",
       "      <td>High</td>\n",
       "      <td>ECA</td>\n",
       "      <td>67.0</td>\n",
       "      <td>0.647</td>\n",
       "      <td>0.629</td>\n",
       "      <td>0.614</td>\n",
       "      <td>0.617</td>\n",
       "      <td>0.624</td>\n",
       "      <td>...</td>\n",
       "      <td>12.44</td>\n",
       "      <td>11.49</td>\n",
       "      <td>13.14</td>\n",
       "      <td>12.61</td>\n",
       "      <td>14.39</td>\n",
       "      <td>14.46</td>\n",
       "      <td>12.85</td>\n",
       "      <td>12.96</td>\n",
       "      <td>12.96</td>\n",
       "      <td>12.96</td>\n",
       "    </tr>\n",
       "    <tr>\n",
       "      <th>3</th>\n",
       "      <td>AND</td>\n",
       "      <td>Andorra</td>\n",
       "      <td>Very High</td>\n",
       "      <td>NaN</td>\n",
       "      <td>40.0</td>\n",
       "      <td>NaN</td>\n",
       "      <td>NaN</td>\n",
       "      <td>NaN</td>\n",
       "      <td>NaN</td>\n",
       "      <td>NaN</td>\n",
       "      <td>...</td>\n",
       "      <td>NaN</td>\n",
       "      <td>NaN</td>\n",
       "      <td>NaN</td>\n",
       "      <td>NaN</td>\n",
       "      <td>NaN</td>\n",
       "      <td>NaN</td>\n",
       "      <td>NaN</td>\n",
       "      <td>NaN</td>\n",
       "      <td>NaN</td>\n",
       "      <td>NaN</td>\n",
       "    </tr>\n",
       "    <tr>\n",
       "      <th>4</th>\n",
       "      <td>ARE</td>\n",
       "      <td>United Arab Emirates</td>\n",
       "      <td>Very High</td>\n",
       "      <td>AS</td>\n",
       "      <td>26.0</td>\n",
       "      <td>0.728</td>\n",
       "      <td>0.739</td>\n",
       "      <td>0.742</td>\n",
       "      <td>0.748</td>\n",
       "      <td>0.755</td>\n",
       "      <td>...</td>\n",
       "      <td>49.56</td>\n",
       "      <td>49.68</td>\n",
       "      <td>55.49</td>\n",
       "      <td>59.76</td>\n",
       "      <td>64.95</td>\n",
       "      <td>75.61</td>\n",
       "      <td>65.97</td>\n",
       "      <td>68.95</td>\n",
       "      <td>68.95</td>\n",
       "      <td>68.95</td>\n",
       "    </tr>\n",
       "  </tbody>\n",
       "</table>\n",
       "<p>5 rows × 880 columns</p>\n",
       "</div>"
      ],
      "text/plain": [
       "  ISO3               Country Human Development Groups UNDP Developing Regions  \\\n",
       "0  AFG           Afghanistan                      Low                      SA   \n",
       "1  AGO                Angola                   Medium                     SSA   \n",
       "2  ALB               Albania                     High                     ECA   \n",
       "3  AND               Andorra                Very High                     NaN   \n",
       "4  ARE  United Arab Emirates                Very High                      AS   \n",
       "\n",
       "   HDI Rank (2021)  Human Development Index (1990)  \\\n",
       "0            180.0                           0.273   \n",
       "1            148.0                             NaN   \n",
       "2             67.0                           0.647   \n",
       "3             40.0                             NaN   \n",
       "4             26.0                           0.728   \n",
       "\n",
       "   Human Development Index (1991)  Human Development Index (1992)  \\\n",
       "0                           0.279                           0.287   \n",
       "1                             NaN                             NaN   \n",
       "2                           0.629                           0.614   \n",
       "3                             NaN                             NaN   \n",
       "4                           0.739                           0.742   \n",
       "\n",
       "   Human Development Index (1993)  Human Development Index (1994)  ...  \\\n",
       "0                           0.297                           0.292  ...   \n",
       "1                             NaN                             NaN  ...   \n",
       "2                           0.617                           0.624  ...   \n",
       "3                             NaN                             NaN  ...   \n",
       "4                           0.748                           0.755  ...   \n",
       "\n",
       "   Material footprint per capita (tonnes) (2012)  \\\n",
       "0                                           1.86   \n",
       "1                                           4.09   \n",
       "2                                          12.44   \n",
       "3                                            NaN   \n",
       "4                                          49.56   \n",
       "\n",
       "   Material footprint per capita (tonnes) (2013)  \\\n",
       "0                                           1.88   \n",
       "1                                           4.53   \n",
       "2                                          11.49   \n",
       "3                                            NaN   \n",
       "4                                          49.68   \n",
       "\n",
       "   Material footprint per capita (tonnes) (2014)  \\\n",
       "0                                           1.66   \n",
       "1                                           3.97   \n",
       "2                                          13.14   \n",
       "3                                            NaN   \n",
       "4                                          55.49   \n",
       "\n",
       "   Material footprint per capita (tonnes) (2015)  \\\n",
       "0                                           1.62   \n",
       "1                                           3.59   \n",
       "2                                          12.61   \n",
       "3                                            NaN   \n",
       "4                                          59.76   \n",
       "\n",
       "   Material footprint per capita (tonnes) (2016)  \\\n",
       "0                                           1.66   \n",
       "1                                           2.79   \n",
       "2                                          14.39   \n",
       "3                                            NaN   \n",
       "4                                          64.95   \n",
       "\n",
       "   Material footprint per capita (tonnes) (2017)  \\\n",
       "0                                           1.41   \n",
       "1                                           2.64   \n",
       "2                                          14.46   \n",
       "3                                            NaN   \n",
       "4                                          75.61   \n",
       "\n",
       "   Material footprint per capita (tonnes) (2018)  \\\n",
       "0                                           1.32   \n",
       "1                                           2.28   \n",
       "2                                          12.85   \n",
       "3                                            NaN   \n",
       "4                                          65.97   \n",
       "\n",
       "   Material footprint per capita (tonnes) (2019)  \\\n",
       "0                                           1.38   \n",
       "1                                           2.18   \n",
       "2                                          12.96   \n",
       "3                                            NaN   \n",
       "4                                          68.95   \n",
       "\n",
       "   Material footprint per capita (tonnes) (2020)  \\\n",
       "0                                           1.38   \n",
       "1                                           2.18   \n",
       "2                                          12.96   \n",
       "3                                            NaN   \n",
       "4                                          68.95   \n",
       "\n",
       "   Material footprint per capita (tonnes) (2021)  \n",
       "0                                           1.38  \n",
       "1                                           2.18  \n",
       "2                                          12.96  \n",
       "3                                            NaN  \n",
       "4                                          68.95  \n",
       "\n",
       "[5 rows x 880 columns]"
      ]
     },
     "execution_count": 16,
     "metadata": {},
     "output_type": "execute_result"
    }
   ],
   "source": [
    "import kagglehub\n",
    "\n",
    "# Downloading the latest version of the dataset\n",
    "path = kagglehub.dataset_download(\"iamsouravbanerjee/human-development-index-dataset\")\n",
    "print(\"Path to dataset files:\", path)\n",
    "\n",
    "# Load the dataset\n",
    "data_file = path + \"/Human Development Index - Full.csv\"\n",
    "df = pd.read_csv(data_file)\n",
    "\n",
    "# Display the first few rows to understand the dataset structure\n",
    "df.head()"
   ]
  },
  {
   "cell_type": "markdown",
   "metadata": {},
   "source": [
    "### Step 1.2: Initial Data Exploration and Structure Check"
   ]
  },
  {
   "cell_type": "code",
   "execution_count": 17,
   "metadata": {},
   "outputs": [
    {
     "name": "stdout",
     "output_type": "stream",
     "text": [
      "Dataset Shape: (195, 880)\n",
      "Column Names: ['ISO3', 'Country', 'Human Development Groups', 'UNDP Developing Regions', 'HDI Rank (2021)', 'Human Development Index (1990)', 'Human Development Index (1991)', 'Human Development Index (1992)', 'Human Development Index (1993)', 'Human Development Index (1994)', 'Human Development Index (1995)', 'Human Development Index (1996)', 'Human Development Index (1997)', 'Human Development Index (1998)', 'Human Development Index (1999)', 'Human Development Index (2000)', 'Human Development Index (2001)', 'Human Development Index (2002)', 'Human Development Index (2003)', 'Human Development Index (2004)', 'Human Development Index (2005)', 'Human Development Index (2006)', 'Human Development Index (2007)', 'Human Development Index (2008)', 'Human Development Index (2009)', 'Human Development Index (2010)', 'Human Development Index (2011)', 'Human Development Index (2012)', 'Human Development Index (2013)', 'Human Development Index (2014)', 'Human Development Index (2015)', 'Human Development Index (2016)', 'Human Development Index (2017)', 'Human Development Index (2018)', 'Human Development Index (2019)', 'Human Development Index (2020)', 'Human Development Index (2021)', 'Life Expectancy at Birth (1990)', 'Life Expectancy at Birth (1991)', 'Life Expectancy at Birth (1992)', 'Life Expectancy at Birth (1993)', 'Life Expectancy at Birth (1994)', 'Life Expectancy at Birth (1995)', 'Life Expectancy at Birth (1996)', 'Life Expectancy at Birth (1997)', 'Life Expectancy at Birth (1998)', 'Life Expectancy at Birth (1999)', 'Life Expectancy at Birth (2000)', 'Life Expectancy at Birth (2001)', 'Life Expectancy at Birth (2002)', 'Life Expectancy at Birth (2003)', 'Life Expectancy at Birth (2004)', 'Life Expectancy at Birth (2005)', 'Life Expectancy at Birth (2006)', 'Life Expectancy at Birth (2007)', 'Life Expectancy at Birth (2008)', 'Life Expectancy at Birth (2009)', 'Life Expectancy at Birth (2010)', 'Life Expectancy at Birth (2011)', 'Life Expectancy at Birth (2012)', 'Life Expectancy at Birth (2013)', 'Life Expectancy at Birth (2014)', 'Life Expectancy at Birth (2015)', 'Life Expectancy at Birth (2016)', 'Life Expectancy at Birth (2017)', 'Life Expectancy at Birth (2018)', 'Life Expectancy at Birth (2019)', 'Life Expectancy at Birth (2020)', 'Life Expectancy at Birth (2021)', 'Expected Years of Schooling (1990)', 'Expected Years of Schooling (1991)', 'Expected Years of Schooling (1992)', 'Expected Years of Schooling (1993)', 'Expected Years of Schooling (1994)', 'Expected Years of Schooling (1995)', 'Expected Years of Schooling (1996)', 'Expected Years of Schooling (1997)', 'Expected Years of Schooling (1998)', 'Expected Years of Schooling (1999)', 'Expected Years of Schooling (2000)', 'Expected Years of Schooling (2001)', 'Expected Years of Schooling (2002)', 'Expected Years of Schooling (2003)', 'Expected Years of Schooling (2004)', 'Expected Years of Schooling (2005)', 'Expected Years of Schooling (2006)', 'Expected Years of Schooling (2007)', 'Expected Years of Schooling (2008)', 'Expected Years of Schooling (2009)', 'Expected Years of Schooling (2010)', 'Expected Years of Schooling (2011)', 'Expected Years of Schooling (2012)', 'Expected Years of Schooling (2013)', 'Expected Years of Schooling (2014)', 'Expected Years of Schooling (2015)', 'Expected Years of Schooling (2016)', 'Expected Years of Schooling (2017)', 'Expected Years of Schooling (2018)', 'Expected Years of Schooling (2019)', 'Expected Years of Schooling (2020)', 'Expected Years of Schooling (2021)', 'Mean Years of Schooling (1990)', 'Mean Years of Schooling (1991)', 'Mean Years of Schooling (1992)', 'Mean Years of Schooling (1993)', 'Mean Years of Schooling (1994)', 'Mean Years of Schooling (1995)', 'Mean Years of Schooling (1996)', 'Mean Years of Schooling (1997)', 'Mean Years of Schooling (1998)', 'Mean Years of Schooling (1999)', 'Mean Years of Schooling (2000)', 'Mean Years of Schooling (2001)', 'Mean Years of Schooling (2002)', 'Mean Years of Schooling (2003)', 'Mean Years of Schooling (2004)', 'Mean Years of Schooling (2005)', 'Mean Years of Schooling (2006)', 'Mean Years of Schooling (2007)', 'Mean Years of Schooling (2008)', 'Mean Years of Schooling (2009)', 'Mean Years of Schooling (2010)', 'Mean Years of Schooling (2011)', 'Mean Years of Schooling (2012)', 'Mean Years of Schooling (2013)', 'Mean Years of Schooling (2014)', 'Mean Years of Schooling (2015)', 'Mean Years of Schooling (2016)', 'Mean Years of Schooling (2017)', 'Mean Years of Schooling (2018)', 'Mean Years of Schooling (2019)', 'Mean Years of Schooling (2020)', 'Mean Years of Schooling (2021)', 'Gross National Income Per Capita (1990)', 'Gross National Income Per Capita (1991)', 'Gross National Income Per Capita (1992)', 'Gross National Income Per Capita (1993)', 'Gross National Income Per Capita (1994)', 'Gross National Income Per Capita (1995)', 'Gross National Income Per Capita (1996)', 'Gross National Income Per Capita (1997)', 'Gross National Income Per Capita (1998)', 'Gross National Income Per Capita (1999)', 'Gross National Income Per Capita (2000)', 'Gross National Income Per Capita (2001)', 'Gross National Income Per Capita (2002)', 'Gross National Income Per Capita (2003)', 'Gross National Income Per Capita (2004)', 'Gross National Income Per Capita (2005)', 'Gross National Income Per Capita (2006)', 'Gross National Income Per Capita (2007)', 'Gross National Income Per Capita (2008)', 'Gross National Income Per Capita (2009)', 'Gross National Income Per Capita (2010)', 'Gross National Income Per Capita (2011)', 'Gross National Income Per Capita (2012)', 'Gross National Income Per Capita (2013)', 'Gross National Income Per Capita (2014)', 'Gross National Income Per Capita (2015)', 'Gross National Income Per Capita (2016)', 'Gross National Income Per Capita (2017)', 'Gross National Income Per Capita (2018)', 'Gross National Income Per Capita (2019)', 'Gross National Income Per Capita (2020)', 'Gross National Income Per Capita (2021)', 'GDI Group (2021)', 'Gender Development Index (1990)', 'Gender Development Index (1991)', 'Gender Development Index (1992)', 'Gender Development Index (1993)', 'Gender Development Index (1994)', 'Gender Development Index (1995)', 'Gender Development Index (1996)', 'Gender Development Index (1997)', 'Gender Development Index (1998)', 'Gender Development Index (1999)', 'Gender Development Index (2000)', 'Gender Development Index (2001)', 'Gender Development Index (2002)', 'Gender Development Index (2003)', 'Gender Development Index (2004)', 'Gender Development Index (2005)', 'Gender Development Index (2006)', 'Gender Development Index (2007)', 'Gender Development Index (2008)', 'Gender Development Index (2009)', 'Gender Development Index (2010)', 'Gender Development Index (2011)', 'Gender Development Index (2012)', 'Gender Development Index (2013)', 'Gender Development Index (2014)', 'Gender Development Index (2015)', 'Gender Development Index (2016)', 'Gender Development Index (2017)', 'Gender Development Index (2018)', 'Gender Development Index (2019)', 'Gender Development Index (2020)', 'Gender Development Index (2021)', 'HDI female (1990)', 'HDI female (1991)', 'HDI female (1992)', 'HDI female (1993)', 'HDI female (1994)', 'HDI female (1995)', 'HDI female (1996)', 'HDI female (1997)', 'HDI female (1998)', 'HDI female (1999)', 'HDI female (2000)', 'HDI female (2001)', 'HDI female (2002)', 'HDI female (2003)', 'HDI female (2004)', 'HDI female (2005)', 'HDI female (2006)', 'HDI female (2007)', 'HDI female (2008)', 'HDI female (2009)', 'HDI female (2010)', 'HDI female (2011)', 'HDI female (2012)', 'HDI female (2013)', 'HDI female (2014)', 'HDI female (2015)', 'HDI female (2016)', 'HDI female (2017)', 'HDI female (2018)', 'HDI female (2019)', 'HDI female (2020)', 'HDI female (2021)', 'Life Expectancy at Birth, female (1990)', 'Life Expectancy at Birth, female (1991)', 'Life Expectancy at Birth, female (1992)', 'Life Expectancy at Birth, female (1993)', 'Life Expectancy at Birth, female (1994)', 'Life Expectancy at Birth, female (1995)', 'Life Expectancy at Birth, female (1996)', 'Life Expectancy at Birth, female (1997)', 'Life Expectancy at Birth, female (1998)', 'Life Expectancy at Birth, female (1999)', 'Life Expectancy at Birth, female (2000)', 'Life Expectancy at Birth, female (2001)', 'Life Expectancy at Birth, female (2002)', 'Life Expectancy at Birth, female (2003)', 'Life Expectancy at Birth, female (2004)', 'Life Expectancy at Birth, female (2005)', 'Life Expectancy at Birth, female (2006)', 'Life Expectancy at Birth, female (2007)', 'Life Expectancy at Birth, female (2008)', 'Life Expectancy at Birth, female (2009)', 'Life Expectancy at Birth, female (2010)', 'Life Expectancy at Birth, female (2011)', 'Life Expectancy at Birth, female (2012)', 'Life Expectancy at Birth, female (2013)', 'Life Expectancy at Birth, female (2014)', 'Life Expectancy at Birth, female (2015)', 'Life Expectancy at Birth, female (2016)', 'Life Expectancy at Birth, female (2017)', 'Life Expectancy at Birth, female (2018)', 'Life Expectancy at Birth, female (2019)', 'Life Expectancy at Birth, female (2020)', 'Life Expectancy at Birth, female (2021)', 'Expected Years of Schooling, female (1990)', 'Expected Years of Schooling, female (1991)', 'Expected Years of Schooling, female (1992)', 'Expected Years of Schooling, female (1993)', 'Expected Years of Schooling, female (1994)', 'Expected Years of Schooling, female (1995)', 'Expected Years of Schooling, female (1996)', 'Expected Years of Schooling, female (1997)', 'Expected Years of Schooling, female (1998)', 'Expected Years of Schooling, female (1999)', 'Expected Years of Schooling, female (2000)', 'Expected Years of Schooling, female (2001)', 'Expected Years of Schooling, female (2002)', 'Expected Years of Schooling, female (2003)', 'Expected Years of Schooling, female (2004)', 'Expected Years of Schooling, female (2005)', 'Expected Years of Schooling, female (2006)', 'Expected Years of Schooling, female (2007)', 'Expected Years of Schooling, female (2008)', 'Expected Years of Schooling, female (2009)', 'Expected Years of Schooling, female (2010)', 'Expected Years of Schooling, female (2011)', 'Expected Years of Schooling, female (2012)', 'Expected Years of Schooling, female (2013)', 'Expected Years of Schooling, female (2014)', 'Expected Years of Schooling, female (2015)', 'Expected Years of Schooling, female (2016)', 'Expected Years of Schooling, female (2017)', 'Expected Years of Schooling, female (2018)', 'Expected Years of Schooling, female (2019)', 'Expected Years of Schooling, female (2020)', 'Expected Years of Schooling, female (2021)', 'Mean Years of Schooling, female (1990)', 'Mean Years of Schooling, female (1991)', 'Mean Years of Schooling, female (1992)', 'Mean Years of Schooling, female (1993)', 'Mean Years of Schooling, female (1994)', 'Mean Years of Schooling, female (1995)', 'Mean Years of Schooling, female (1996)', 'Mean Years of Schooling, female (1997)', 'Mean Years of Schooling, female (1998)', 'Mean Years of Schooling, female (1999)', 'Mean Years of Schooling, female (2000)', 'Mean Years of Schooling, female (2001)', 'Mean Years of Schooling, female (2002)', 'Mean Years of Schooling, female (2003)', 'Mean Years of Schooling, female (2004)', 'Mean Years of Schooling, female (2005)', 'Mean Years of Schooling, female (2006)', 'Mean Years of Schooling, female (2007)', 'Mean Years of Schooling, female (2008)', 'Mean Years of Schooling, female (2009)', 'Mean Years of Schooling, female (2010)', 'Mean Years of Schooling, female (2011)', 'Mean Years of Schooling, female (2012)', 'Mean Years of Schooling, female (2013)', 'Mean Years of Schooling, female (2014)', 'Mean Years of Schooling, female (2015)', 'Mean Years of Schooling, female (2016)', 'Mean Years of Schooling, female (2017)', 'Mean Years of Schooling, female (2018)', 'Mean Years of Schooling, female (2019)', 'Mean Years of Schooling, female (2020)', 'Mean Years of Schooling, female (2021)', 'Gross National Income Per Capita, female (1990)', 'Gross National Income Per Capita, female (1991)', 'Gross National Income Per Capita, female (1992)', 'Gross National Income Per Capita, female (1993)', 'Gross National Income Per Capita, female (1994)', 'Gross National Income Per Capita, female (1995)', 'Gross National Income Per Capita, female (1996)', 'Gross National Income Per Capita, female (1997)', 'Gross National Income Per Capita, female (1998)', 'Gross National Income Per Capita, female (1999)', 'Gross National Income Per Capita, female (2000)', 'Gross National Income Per Capita, female (2001)', 'Gross National Income Per Capita, female (2002)', 'Gross National Income Per Capita, female (2003)', 'Gross National Income Per Capita, female (2004)', 'Gross National Income Per Capita, female (2005)', 'Gross National Income Per Capita, female (2006)', 'Gross National Income Per Capita, female (2007)', 'Gross National Income Per Capita, female (2008)', 'Gross National Income Per Capita, female (2009)', 'Gross National Income Per Capita, female (2010)', 'Gross National Income Per Capita, female (2011)', 'Gross National Income Per Capita, female (2012)', 'Gross National Income Per Capita, female (2013)', 'Gross National Income Per Capita, female (2014)', 'Gross National Income Per Capita, female (2015)', 'Gross National Income Per Capita, female (2016)', 'Gross National Income Per Capita, female (2017)', 'Gross National Income Per Capita, female (2018)', 'Gross National Income Per Capita, female (2019)', 'Gross National Income Per Capita, female (2020)', 'Gross National Income Per Capita, female (2021)', 'HDI male (1990)', 'HDI male (1991)', 'HDI male (1992)', 'HDI male (1993)', 'HDI male (1994)', 'HDI male (1995)', 'HDI male (1996)', 'HDI male (1997)', 'HDI male (1998)', 'HDI male (1999)', 'HDI male (2000)', 'HDI male (2001)', 'HDI male (2002)', 'HDI male (2003)', 'HDI male (2004)', 'HDI male (2005)', 'HDI male (2006)', 'HDI male (2007)', 'HDI male (2008)', 'HDI male (2009)', 'HDI male (2010)', 'HDI male (2011)', 'HDI male (2012)', 'HDI male (2013)', 'HDI male (2014)', 'HDI male (2015)', 'HDI male (2016)', 'HDI male (2017)', 'HDI male (2018)', 'HDI male (2019)', 'HDI male (2020)', 'HDI male (2021)', 'Life Expectancy at Birth, male (1990)', 'Life Expectancy at Birth, male (1991)', 'Life Expectancy at Birth, male (1992)', 'Life Expectancy at Birth, male (1993)', 'Life Expectancy at Birth, male (1994)', 'Life Expectancy at Birth, male (1995)', 'Life Expectancy at Birth, male (1996)', 'Life Expectancy at Birth, male (1997)', 'Life Expectancy at Birth, male (1998)', 'Life Expectancy at Birth, male (1999)', 'Life Expectancy at Birth, male (2000)', 'Life Expectancy at Birth, male (2001)', 'Life Expectancy at Birth, male (2002)', 'Life Expectancy at Birth, male (2003)', 'Life Expectancy at Birth, male (2004)', 'Life Expectancy at Birth, male (2005)', 'Life Expectancy at Birth, male (2006)', 'Life Expectancy at Birth, male (2007)', 'Life Expectancy at Birth, male (2008)', 'Life Expectancy at Birth, male (2009)', 'Life Expectancy at Birth, male (2010)', 'Life Expectancy at Birth, male (2011)', 'Life Expectancy at Birth, male (2012)', 'Life Expectancy at Birth, male (2013)', 'Life Expectancy at Birth, male (2014)', 'Life Expectancy at Birth, male (2015)', 'Life Expectancy at Birth, male (2016)', 'Life Expectancy at Birth, male (2017)', 'Life Expectancy at Birth, male (2018)', 'Life Expectancy at Birth, male (2019)', 'Life Expectancy at Birth, male (2020)', 'Life Expectancy at Birth, male (2021)', 'Expected Years of Schooling, male (1990)', 'Expected Years of Schooling, male (1991)', 'Expected Years of Schooling, male (1992)', 'Expected Years of Schooling, male (1993)', 'Expected Years of Schooling, male (1994)', 'Expected Years of Schooling, male (1995)', 'Expected Years of Schooling, male (1996)', 'Expected Years of Schooling, male (1997)', 'Expected Years of Schooling, male (1998)', 'Expected Years of Schooling, male (1999)', 'Expected Years of Schooling, male (2000)', 'Expected Years of Schooling, male (2001)', 'Expected Years of Schooling, male (2002)', 'Expected Years of Schooling, male (2003)', 'Expected Years of Schooling, male (2004)', 'Expected Years of Schooling, male (2005)', 'Expected Years of Schooling, male (2006)', 'Expected Years of Schooling, male (2007)', 'Expected Years of Schooling, male (2008)', 'Expected Years of Schooling, male (2009)', 'Expected Years of Schooling, male (2010)', 'Expected Years of Schooling, male (2011)', 'Expected Years of Schooling, male (2012)', 'Expected Years of Schooling, male (2013)', 'Expected Years of Schooling, male (2014)', 'Expected Years of Schooling, male (2015)', 'Expected Years of Schooling, male (2016)', 'Expected Years of Schooling, male (2017)', 'Expected Years of Schooling, male (2018)', 'Expected Years of Schooling, male (2019)', 'Expected Years of Schooling, male (2020)', 'Expected Years of Schooling, male (2021)', 'Mean Years of Schooling, male (1990)', 'Mean Years of Schooling, male (1991)', 'Mean Years of Schooling, male (1992)', 'Mean Years of Schooling, male (1993)', 'Mean Years of Schooling, male (1994)', 'Mean Years of Schooling, male (1995)', 'Mean Years of Schooling, male (1996)', 'Mean Years of Schooling, male (1997)', 'Mean Years of Schooling, male (1998)', 'Mean Years of Schooling, male (1999)', 'Mean Years of Schooling, male (2000)', 'Mean Years of Schooling, male (2001)', 'Mean Years of Schooling, male (2002)', 'Mean Years of Schooling, male (2003)', 'Mean Years of Schooling, male (2004)', 'Mean Years of Schooling, male (2005)', 'Mean Years of Schooling, male (2006)', 'Mean Years of Schooling, male (2007)', 'Mean Years of Schooling, male (2008)', 'Mean Years of Schooling, male (2009)', 'Mean Years of Schooling, male (2010)', 'Mean Years of Schooling, male (2011)', 'Mean Years of Schooling, male (2012)', 'Mean Years of Schooling, male (2013)', 'Mean Years of Schooling, male (2014)', 'Mean Years of Schooling, male (2015)', 'Mean Years of Schooling, male (2016)', 'Mean Years of Schooling, male (2017)', 'Mean Years of Schooling, male (2018)', 'Mean Years of Schooling, male (2019)', 'Mean Years of Schooling, male (2020)', 'Mean Years of Schooling, male (2021)', 'Gross National Income Per Capita, male (1990)', 'Gross National Income Per Capita, male (1991)', 'Gross National Income Per Capita, male (1992)', 'Gross National Income Per Capita, male (1993)', 'Gross National Income Per Capita, male (1994)', 'Gross National Income Per Capita, male (1995)', 'Gross National Income Per Capita, male (1996)', 'Gross National Income Per Capita, male (1997)', 'Gross National Income Per Capita, male (1998)', 'Gross National Income Per Capita, male (1999)', 'Gross National Income Per Capita, male (2000)', 'Gross National Income Per Capita, male (2001)', 'Gross National Income Per Capita, male (2002)', 'Gross National Income Per Capita, male (2003)', 'Gross National Income Per Capita, male (2004)', 'Gross National Income Per Capita, male (2005)', 'Gross National Income Per Capita, male (2006)', 'Gross National Income Per Capita, male (2007)', 'Gross National Income Per Capita, male (2008)', 'Gross National Income Per Capita, male (2009)', 'Gross National Income Per Capita, male (2010)', 'Gross National Income Per Capita, male (2011)', 'Gross National Income Per Capita, male (2012)', 'Gross National Income Per Capita, male (2013)', 'Gross National Income Per Capita, male (2014)', 'Gross National Income Per Capita, male (2015)', 'Gross National Income Per Capita, male (2016)', 'Gross National Income Per Capita, male (2017)', 'Gross National Income Per Capita, male (2018)', 'Gross National Income Per Capita, male (2019)', 'Gross National Income Per Capita, male (2020)', 'Gross National Income Per Capita, male (2021)', 'Inequality-adjusted Human Development Index (2010)', 'Inequality-adjusted Human Development Index (2011)', 'Inequality-adjusted Human Development Index (2012)', 'Inequality-adjusted Human Development Index (2013)', 'Inequality-adjusted Human Development Index (2014)', 'Inequality-adjusted Human Development Index (2015)', 'Inequality-adjusted Human Development Index (2016)', 'Inequality-adjusted Human Development Index (2017)', 'Inequality-adjusted Human Development Index (2018)', 'Inequality-adjusted Human Development Index (2019)', 'Inequality-adjusted Human Development Index (2020)', 'Inequality-adjusted Human Development Index (2021)', 'Coefficient of human inequality (2010)', 'Coefficient of human inequality (2011)', 'Coefficient of human inequality (2012)', 'Coefficient of human inequality (2013)', 'Coefficient of human inequality (2014)', 'Coefficient of human inequality (2015)', 'Coefficient of human inequality (2016)', 'Coefficient of human inequality (2017)', 'Coefficient of human inequality (2018)', 'Coefficient of human inequality (2019)', 'Coefficient of human inequality (2020)', 'Coefficient of human inequality (2021)', 'Overall loss (%) (2010)', 'Overall loss (%) (2011)', 'Overall loss (%) (2012)', 'Overall loss (%) (2013)', 'Overall loss (%) (2014)', 'Overall loss (%) (2015)', 'Overall loss (%) (2016)', 'Overall loss (%) (2017)', 'Overall loss (%) (2018)', 'Overall loss (%) (2019)', 'Overall loss (%) (2020)', 'Overall loss (%) (2021)', 'Inequality in life expectancy (2010)', 'Inequality in life expectancy (2011)', 'Inequality in life expectancy (2012)', 'Inequality in life expectancy (2013)', 'Inequality in life expectancy (2014)', 'Inequality in life expectancy (2015)', 'Inequality in life expectancy (2016)', 'Inequality in life expectancy (2017)', 'Inequality in life expectancy (2018)', 'Inequality in life expectancy (2019)', 'Inequality in life expectancy (2020)', 'Inequality in life expectancy (2021)', 'Inequality in eduation (2010)', 'Inequality in eduation (2011)', 'Inequality in eduation (2012)', 'Inequality in eduation (2013)', 'Inequality in eduation (2014)', 'Inequality in eduation (2015)', 'Inequality in eduation (2016)', 'Inequality in eduation (2017)', 'Inequality in eduation (2018)', 'Inequality in eduation (2019)', 'Inequality in eduation (2020)', 'Inequality in eduation (2021)', 'Inequality in income (2010)', 'Inequality in income (2011)', 'Inequality in income (2012)', 'Inequality in income (2013)', 'Inequality in income (2014)', 'Inequality in income (2015)', 'Inequality in income (2016)', 'Inequality in income (2017)', 'Inequality in income (2018)', 'Inequality in income (2019)', 'Inequality in income (2020)', 'Inequality in income (2021)', 'GII Rank (2021)', 'Gender Inequality Index (1990)', 'Gender Inequality Index (1991)', 'Gender Inequality Index (1992)', 'Gender Inequality Index (1993)', 'Gender Inequality Index (1994)', 'Gender Inequality Index (1995)', 'Gender Inequality Index (1996)', 'Gender Inequality Index (1997)', 'Gender Inequality Index (1998)', 'Gender Inequality Index (1999)', 'Gender Inequality Index (2000)', 'Gender Inequality Index (2001)', 'Gender Inequality Index (2002)', 'Gender Inequality Index (2003)', 'Gender Inequality Index (2004)', 'Gender Inequality Index (2005)', 'Gender Inequality Index (2006)', 'Gender Inequality Index (2007)', 'Gender Inequality Index (2008)', 'Gender Inequality Index (2009)', 'Gender Inequality Index (2010)', 'Gender Inequality Index (2011)', 'Gender Inequality Index (2012)', 'Gender Inequality Index (2013)', 'Gender Inequality Index (2014)', 'Gender Inequality Index (2015)', 'Gender Inequality Index (2016)', 'Gender Inequality Index (2017)', 'Gender Inequality Index (2018)', 'Gender Inequality Index (2019)', 'Gender Inequality Index (2020)', 'Gender Inequality Index (2021)', 'Maternal Mortality Ratio (deaths per 100,000 live births) (1990)', 'Maternal Mortality Ratio (deaths per 100,000 live births) (1991)', 'Maternal Mortality Ratio (deaths per 100,000 live births) (1992)', 'Maternal Mortality Ratio (deaths per 100,000 live births) (1993)', 'Maternal Mortality Ratio (deaths per 100,000 live births) (1994)', 'Maternal Mortality Ratio (deaths per 100,000 live births) (1995)', 'Maternal Mortality Ratio (deaths per 100,000 live births) (1996)', 'Maternal Mortality Ratio (deaths per 100,000 live births) (1997)', 'Maternal Mortality Ratio (deaths per 100,000 live births) (1998)', 'Maternal Mortality Ratio (deaths per 100,000 live births) (1999)', 'Maternal Mortality Ratio (deaths per 100,000 live births) (2000)', 'Maternal Mortality Ratio (deaths per 100,000 live births) (2001)', 'Maternal Mortality Ratio (deaths per 100,000 live births) (2002)', 'Maternal Mortality Ratio (deaths per 100,000 live births) (2003)', 'Maternal Mortality Ratio (deaths per 100,000 live births) (2004)', 'Maternal Mortality Ratio (deaths per 100,000 live births) (2005)', 'Maternal Mortality Ratio (deaths per 100,000 live births) (2006)', 'Maternal Mortality Ratio (deaths per 100,000 live births) (2007)', 'Maternal Mortality Ratio (deaths per 100,000 live births) (2008)', 'Maternal Mortality Ratio (deaths per 100,000 live births) (2009)', 'Maternal Mortality Ratio (deaths per 100,000 live births) (2010)', 'Maternal Mortality Ratio (deaths per 100,000 live births) (2011)', 'Maternal Mortality Ratio (deaths per 100,000 live births) (2012)', 'Maternal Mortality Ratio (deaths per 100,000 live births) (2013)', 'Maternal Mortality Ratio (deaths per 100,000 live births) (2014)', 'Maternal Mortality Ratio (deaths per 100,000 live births) (2015)', 'Maternal Mortality Ratio (deaths per 100,000 live births) (2016)', 'Maternal Mortality Ratio (deaths per 100,000 live births) (2017)', 'Maternal Mortality Ratio (deaths per 100,000 live births) (2018)', 'Maternal Mortality Ratio (deaths per 100,000 live births) (2019)', 'Maternal Mortality Ratio (deaths per 100,000 live births) (2020)', 'Maternal Mortality Ratio (deaths per 100,000 live births) (2021)', 'Adolescent Birth Rate (births per 1,000 women ages 15-19) (1990)', 'Adolescent Birth Rate (births per 1,000 women ages 15-19) (1991)', 'Adolescent Birth Rate (births per 1,000 women ages 15-19) (1992)', 'Adolescent Birth Rate (births per 1,000 women ages 15-19) (1993)', 'Adolescent Birth Rate (births per 1,000 women ages 15-19) (1994)', 'Adolescent Birth Rate (births per 1,000 women ages 15-19) (1995)', 'Adolescent Birth Rate (births per 1,000 women ages 15-19) (1996)', 'Adolescent Birth Rate (births per 1,000 women ages 15-19) (1997)', 'Adolescent Birth Rate (births per 1,000 women ages 15-19) (1998)', 'Adolescent Birth Rate (births per 1,000 women ages 15-19) (1999)', 'Adolescent Birth Rate (births per 1,000 women ages 15-19) (2000)', 'Adolescent Birth Rate (births per 1,000 women ages 15-19) (2001)', 'Adolescent Birth Rate (births per 1,000 women ages 15-19) (2002)', 'Adolescent Birth Rate (births per 1,000 women ages 15-19) (2003)', 'Adolescent Birth Rate (births per 1,000 women ages 15-19) (2004)', 'Adolescent Birth Rate (births per 1,000 women ages 15-19) (2005)', 'Adolescent Birth Rate (births per 1,000 women ages 15-19) (2006)', 'Adolescent Birth Rate (births per 1,000 women ages 15-19) (2007)', 'Adolescent Birth Rate (births per 1,000 women ages 15-19) (2008)', 'Adolescent Birth Rate (births per 1,000 women ages 15-19) (2009)', 'Adolescent Birth Rate (births per 1,000 women ages 15-19) (2010)', 'Adolescent Birth Rate (births per 1,000 women ages 15-19) (2011)', 'Adolescent Birth Rate (births per 1,000 women ages 15-19) (2012)', 'Adolescent Birth Rate (births per 1,000 women ages 15-19) (2013)', 'Adolescent Birth Rate (births per 1,000 women ages 15-19) (2014)', 'Adolescent Birth Rate (births per 1,000 women ages 15-19) (2015)', 'Adolescent Birth Rate (births per 1,000 women ages 15-19) (2016)', 'Adolescent Birth Rate (births per 1,000 women ages 15-19) (2017)', 'Adolescent Birth Rate (births per 1,000 women ages 15-19) (2018)', 'Adolescent Birth Rate (births per 1,000 women ages 15-19) (2019)', 'Adolescent Birth Rate (births per 1,000 women ages 15-19) (2020)', 'Adolescent Birth Rate (births per 1,000 women ages 15-19) (2021)', 'Labour force participation rate, female (% ages 15 and older) (1990)', 'Labour force participation rate, female (% ages 15 and older) (1991)', 'Labour force participation rate, female (% ages 15 and older) (1992)', 'Labour force participation rate, female (% ages 15 and older) (1993)', 'Labour force participation rate, female (% ages 15 and older) (1994)', 'Labour force participation rate, female (% ages 15 and older) (1995)', 'Labour force participation rate, female (% ages 15 and older) (1996)', 'Labour force participation rate, female (% ages 15 and older) (1997)', 'Labour force participation rate, female (% ages 15 and older) (1998)', 'Labour force participation rate, female (% ages 15 and older) (1999)', 'Labour force participation rate, female (% ages 15 and older) (2000)', 'Labour force participation rate, female (% ages 15 and older) (2001)', 'Labour force participation rate, female (% ages 15 and older) (2002)', 'Labour force participation rate, female (% ages 15 and older) (2003)', 'Labour force participation rate, female (% ages 15 and older) (2004)', 'Labour force participation rate, female (% ages 15 and older) (2005)', 'Labour force participation rate, female (% ages 15 and older) (2006)', 'Labour force participation rate, female (% ages 15 and older) (2007)', 'Labour force participation rate, female (% ages 15 and older) (2008)', 'Labour force participation rate, female (% ages 15 and older) (2009)', 'Labour force participation rate, female (% ages 15 and older) (2010)', 'Labour force participation rate, female (% ages 15 and older) (2011)', 'Labour force participation rate, female (% ages 15 and older) (2012)', 'Labour force participation rate, female (% ages 15 and older) (2013)', 'Labour force participation rate, female (% ages 15 and older) (2014)', 'Labour force participation rate, female (% ages 15 and older) (2015)', 'Labour force participation rate, female (% ages 15 and older) (2016)', 'Labour force participation rate, female (% ages 15 and older) (2017)', 'Labour force participation rate, female (% ages 15 and older) (2018)', 'Labour force participation rate, female (% ages 15 and older) (2019)', 'Labour force participation rate, female (% ages 15 and older) (2020)', 'Labour force participation rate, female (% ages 15 and older) (2021)', 'Labour force participation rate, male (% ages 15 and older) (1990)', 'Labour force participation rate, male (% ages 15 and older) (1991)', 'Labour force participation rate, male (% ages 15 and older) (1992)', 'Labour force participation rate, male (% ages 15 and older) (1993)', 'Labour force participation rate, male (% ages 15 and older) (1994)', 'Labour force participation rate, male (% ages 15 and older) (1995)', 'Labour force participation rate, male (% ages 15 and older) (1996)', 'Labour force participation rate, male (% ages 15 and older) (1997)', 'Labour force participation rate, male (% ages 15 and older) (1998)', 'Labour force participation rate, male (% ages 15 and older) (1999)', 'Labour force participation rate, male (% ages 15 and older) (2000)', 'Labour force participation rate, male (% ages 15 and older) (2001)', 'Labour force participation rate, male (% ages 15 and older) (2002)', 'Labour force participation rate, male (% ages 15 and older) (2003)', 'Labour force participation rate, male (% ages 15 and older) (2004)', 'Labour force participation rate, male (% ages 15 and older) (2005)', 'Labour force participation rate, male (% ages 15 and older) (2006)', 'Labour force participation rate, male (% ages 15 and older) (2007)', 'Labour force participation rate, male (% ages 15 and older) (2008)', 'Labour force participation rate, male (% ages 15 and older) (2009)', 'Labour force participation rate, male (% ages 15 and older) (2010)', 'Labour force participation rate, male (% ages 15 and older) (2011)', 'Labour force participation rate, male (% ages 15 and older) (2012)', 'Labour force participation rate, male (% ages 15 and older) (2013)', 'Labour force participation rate, male (% ages 15 and older) (2014)', 'Labour force participation rate, male (% ages 15 and older) (2015)', 'Labour force participation rate, male (% ages 15 and older) (2016)', 'Labour force participation rate, male (% ages 15 and older) (2017)', 'Labour force participation rate, male (% ages 15 and older) (2018)', 'Labour force participation rate, male (% ages 15 and older) (2019)', 'Labour force participation rate, male (% ages 15 and older) (2020)', 'Labour force participation rate, male (% ages 15 and older) (2021)', 'Difference from HDI rank (2021)', 'Planetary pressures-adjusted Human Development Index (1990)', 'Planetary pressures-adjusted Human Development Index (1991)', 'Planetary pressures-adjusted Human Development Index (1992)', 'Planetary pressures-adjusted Human Development Index (1993)', 'Planetary pressures-adjusted Human Development Index (1994)', 'Planetary pressures-adjusted Human Development Index (1995)', 'Planetary pressures-adjusted Human Development Index (1996)', 'Planetary pressures-adjusted Human Development Index (1997)', 'Planetary pressures-adjusted Human Development Index (1998)', 'Planetary pressures-adjusted Human Development Index (1999)', 'Planetary pressures-adjusted Human Development Index (2000)', 'Planetary pressures-adjusted Human Development Index (2001)', 'Planetary pressures-adjusted Human Development Index (2002)', 'Planetary pressures-adjusted Human Development Index (2003)', 'Planetary pressures-adjusted Human Development Index (2004)', 'Planetary pressures-adjusted Human Development Index (2005)', 'Planetary pressures-adjusted Human Development Index (2006)', 'Planetary pressures-adjusted Human Development Index (2007)', 'Planetary pressures-adjusted Human Development Index (2008)', 'Planetary pressures-adjusted Human Development Index (2009)', 'Planetary pressures-adjusted Human Development Index (2010)', 'Planetary pressures-adjusted Human Development Index (2011)', 'Planetary pressures-adjusted Human Development Index (2012)', 'Planetary pressures-adjusted Human Development Index (2013)', 'Planetary pressures-adjusted Human Development Index (2014)', 'Planetary pressures-adjusted Human Development Index (2015)', 'Planetary pressures-adjusted Human Development Index (2016)', 'Planetary pressures-adjusted Human Development Index (2017)', 'Planetary pressures-adjusted Human Development Index (2018)', 'Planetary pressures-adjusted Human Development Index (2019)', 'Planetary pressures-adjusted Human Development Index (2020)', 'Planetary pressures-adjusted Human Development Index (2021)', 'Difference from HDI value (%) (1990)', 'Difference from HDI value (%) (1991)', 'Difference from HDI value (%) (1992)', 'Difference from HDI value (%) (1993)', 'Difference from HDI value (%) (1994)', 'Difference from HDI value (%) (1995)', 'Difference from HDI value (%) (1996)', 'Difference from HDI value (%) (1997)', 'Difference from HDI value (%) (1998)', 'Difference from HDI value (%) (1999)', 'Difference from HDI value (%) (2000)', 'Difference from HDI value (%) (2001)', 'Difference from HDI value (%) (2002)', 'Difference from HDI value (%) (2003)', 'Difference from HDI value (%) (2004)', 'Difference from HDI value (%) (2005)', 'Difference from HDI value (%) (2006)', 'Difference from HDI value (%) (2007)', 'Difference from HDI value (%) (2008)', 'Difference from HDI value (%) (2009)', 'Difference from HDI value (%) (2010)', 'Difference from HDI value (%) (2011)', 'Difference from HDI value (%) (2012)', 'Difference from HDI value (%) (2013)', 'Difference from HDI value (%) (2014)', 'Difference from HDI value (%) (2015)', 'Difference from HDI value (%) (2016)', 'Difference from HDI value (%) (2017)', 'Difference from HDI value (%) (2018)', 'Difference from HDI value (%) (2019)', 'Difference from HDI value (%) (2020)', 'Difference from HDI value (%) (2021)', 'Carbon dioxide emissions per capita (production) (tonnes) (1990)', 'Carbon dioxide emissions per capita (production) (tonnes) (1991)', 'Carbon dioxide emissions per capita (production) (tonnes) (1992)', 'Carbon dioxide emissions per capita (production) (tonnes) (1993)', 'Carbon dioxide emissions per capita (production) (tonnes) (1994)', 'Carbon dioxide emissions per capita (production) (tonnes) (1995)', 'Carbon dioxide emissions per capita (production) (tonnes) (1996)', 'Carbon dioxide emissions per capita (production) (tonnes) (1997)', 'Carbon dioxide emissions per capita (production) (tonnes) (1998)', 'Carbon dioxide emissions per capita (production) (tonnes) (1999)', 'Carbon dioxide emissions per capita (production) (tonnes) (2000)', 'Carbon dioxide emissions per capita (production) (tonnes) (2001)', 'Carbon dioxide emissions per capita (production) (tonnes) (2002)', 'Carbon dioxide emissions per capita (production) (tonnes) (2003)', 'Carbon dioxide emissions per capita (production) (tonnes) (2004)', 'Carbon dioxide emissions per capita (production) (tonnes) (2005)', 'Carbon dioxide emissions per capita (production) (tonnes) (2006)', 'Carbon dioxide emissions per capita (production) (tonnes) (2007)', 'Carbon dioxide emissions per capita (production) (tonnes) (2008)', 'Carbon dioxide emissions per capita (production) (tonnes) (2009)', 'Carbon dioxide emissions per capita (production) (tonnes) (2010)', 'Carbon dioxide emissions per capita (production) (tonnes) (2011)', 'Carbon dioxide emissions per capita (production) (tonnes) (2012)', 'Carbon dioxide emissions per capita (production) (tonnes) (2013)', 'Carbon dioxide emissions per capita (production) (tonnes) (2014)', 'Carbon dioxide emissions per capita (production) (tonnes) (2015)', 'Carbon dioxide emissions per capita (production) (tonnes) (2016)', 'Carbon dioxide emissions per capita (production) (tonnes) (2017)', 'Carbon dioxide emissions per capita (production) (tonnes) (2018)', 'Carbon dioxide emissions per capita (production) (tonnes) (2019)', 'Carbon dioxide emissions per capita (production) (tonnes) (2020)', 'Carbon dioxide emissions per capita (production) (tonnes) (2021)', 'Material footprint per capita (tonnes) (1990)', 'Material footprint per capita (tonnes) (1991)', 'Material footprint per capita (tonnes) (1992)', 'Material footprint per capita (tonnes) (1993)', 'Material footprint per capita (tonnes) (1994)', 'Material footprint per capita (tonnes) (1995)', 'Material footprint per capita (tonnes) (1996)', 'Material footprint per capita (tonnes) (1997)', 'Material footprint per capita (tonnes) (1998)', 'Material footprint per capita (tonnes) (1999)', 'Material footprint per capita (tonnes) (2000)', 'Material footprint per capita (tonnes) (2001)', 'Material footprint per capita (tonnes) (2002)', 'Material footprint per capita (tonnes) (2003)', 'Material footprint per capita (tonnes) (2004)', 'Material footprint per capita (tonnes) (2005)', 'Material footprint per capita (tonnes) (2006)', 'Material footprint per capita (tonnes) (2007)', 'Material footprint per capita (tonnes) (2008)', 'Material footprint per capita (tonnes) (2009)', 'Material footprint per capita (tonnes) (2010)', 'Material footprint per capita (tonnes) (2011)', 'Material footprint per capita (tonnes) (2012)', 'Material footprint per capita (tonnes) (2013)', 'Material footprint per capita (tonnes) (2014)', 'Material footprint per capita (tonnes) (2015)', 'Material footprint per capita (tonnes) (2016)', 'Material footprint per capita (tonnes) (2017)', 'Material footprint per capita (tonnes) (2018)', 'Material footprint per capita (tonnes) (2019)', 'Material footprint per capita (tonnes) (2020)', 'Material footprint per capita (tonnes) (2021)']\n",
      "ISO3                                              object\n",
      "Country                                           object\n",
      "Human Development Groups                          object\n",
      "UNDP Developing Regions                           object\n",
      "HDI Rank (2021)                                  float64\n",
      "                                                  ...   \n",
      "Material footprint per capita (tonnes) (2017)    float64\n",
      "Material footprint per capita (tonnes) (2018)    float64\n",
      "Material footprint per capita (tonnes) (2019)    float64\n",
      "Material footprint per capita (tonnes) (2020)    float64\n",
      "Material footprint per capita (tonnes) (2021)    float64\n",
      "Length: 880, dtype: object\n"
     ]
    },
    {
     "data": {
      "text/html": [
       "<div>\n",
       "<style scoped>\n",
       "    .dataframe tbody tr th:only-of-type {\n",
       "        vertical-align: middle;\n",
       "    }\n",
       "\n",
       "    .dataframe tbody tr th {\n",
       "        vertical-align: top;\n",
       "    }\n",
       "\n",
       "    .dataframe thead th {\n",
       "        text-align: right;\n",
       "    }\n",
       "</style>\n",
       "<table border=\"1\" class=\"dataframe\">\n",
       "  <thead>\n",
       "    <tr style=\"text-align: right;\">\n",
       "      <th></th>\n",
       "      <th>ISO3</th>\n",
       "      <th>Country</th>\n",
       "      <th>Human Development Groups</th>\n",
       "      <th>UNDP Developing Regions</th>\n",
       "      <th>HDI Rank (2021)</th>\n",
       "      <th>Human Development Index (1990)</th>\n",
       "      <th>Human Development Index (1991)</th>\n",
       "      <th>Human Development Index (1992)</th>\n",
       "      <th>Human Development Index (1993)</th>\n",
       "      <th>Human Development Index (1994)</th>\n",
       "      <th>...</th>\n",
       "      <th>Material footprint per capita (tonnes) (2012)</th>\n",
       "      <th>Material footprint per capita (tonnes) (2013)</th>\n",
       "      <th>Material footprint per capita (tonnes) (2014)</th>\n",
       "      <th>Material footprint per capita (tonnes) (2015)</th>\n",
       "      <th>Material footprint per capita (tonnes) (2016)</th>\n",
       "      <th>Material footprint per capita (tonnes) (2017)</th>\n",
       "      <th>Material footprint per capita (tonnes) (2018)</th>\n",
       "      <th>Material footprint per capita (tonnes) (2019)</th>\n",
       "      <th>Material footprint per capita (tonnes) (2020)</th>\n",
       "      <th>Material footprint per capita (tonnes) (2021)</th>\n",
       "    </tr>\n",
       "  </thead>\n",
       "  <tbody>\n",
       "    <tr>\n",
       "      <th>count</th>\n",
       "      <td>195</td>\n",
       "      <td>195</td>\n",
       "      <td>191</td>\n",
       "      <td>151</td>\n",
       "      <td>191.000000</td>\n",
       "      <td>141.000000</td>\n",
       "      <td>141.000000</td>\n",
       "      <td>141.000000</td>\n",
       "      <td>141.000000</td>\n",
       "      <td>141.000000</td>\n",
       "      <td>...</td>\n",
       "      <td>157.00000</td>\n",
       "      <td>157.000000</td>\n",
       "      <td>157.000000</td>\n",
       "      <td>157.000000</td>\n",
       "      <td>157.000000</td>\n",
       "      <td>157.000000</td>\n",
       "      <td>157.000000</td>\n",
       "      <td>157.000000</td>\n",
       "      <td>157.000000</td>\n",
       "      <td>157.000000</td>\n",
       "    </tr>\n",
       "    <tr>\n",
       "      <th>unique</th>\n",
       "      <td>195</td>\n",
       "      <td>195</td>\n",
       "      <td>4</td>\n",
       "      <td>6</td>\n",
       "      <td>NaN</td>\n",
       "      <td>NaN</td>\n",
       "      <td>NaN</td>\n",
       "      <td>NaN</td>\n",
       "      <td>NaN</td>\n",
       "      <td>NaN</td>\n",
       "      <td>...</td>\n",
       "      <td>NaN</td>\n",
       "      <td>NaN</td>\n",
       "      <td>NaN</td>\n",
       "      <td>NaN</td>\n",
       "      <td>NaN</td>\n",
       "      <td>NaN</td>\n",
       "      <td>NaN</td>\n",
       "      <td>NaN</td>\n",
       "      <td>NaN</td>\n",
       "      <td>NaN</td>\n",
       "    </tr>\n",
       "    <tr>\n",
       "      <th>top</th>\n",
       "      <td>AFG</td>\n",
       "      <td>Afghanistan</td>\n",
       "      <td>Very High</td>\n",
       "      <td>SSA</td>\n",
       "      <td>NaN</td>\n",
       "      <td>NaN</td>\n",
       "      <td>NaN</td>\n",
       "      <td>NaN</td>\n",
       "      <td>NaN</td>\n",
       "      <td>NaN</td>\n",
       "      <td>...</td>\n",
       "      <td>NaN</td>\n",
       "      <td>NaN</td>\n",
       "      <td>NaN</td>\n",
       "      <td>NaN</td>\n",
       "      <td>NaN</td>\n",
       "      <td>NaN</td>\n",
       "      <td>NaN</td>\n",
       "      <td>NaN</td>\n",
       "      <td>NaN</td>\n",
       "      <td>NaN</td>\n",
       "    </tr>\n",
       "    <tr>\n",
       "      <th>freq</th>\n",
       "      <td>1</td>\n",
       "      <td>1</td>\n",
       "      <td>66</td>\n",
       "      <td>46</td>\n",
       "      <td>NaN</td>\n",
       "      <td>NaN</td>\n",
       "      <td>NaN</td>\n",
       "      <td>NaN</td>\n",
       "      <td>NaN</td>\n",
       "      <td>NaN</td>\n",
       "      <td>...</td>\n",
       "      <td>NaN</td>\n",
       "      <td>NaN</td>\n",
       "      <td>NaN</td>\n",
       "      <td>NaN</td>\n",
       "      <td>NaN</td>\n",
       "      <td>NaN</td>\n",
       "      <td>NaN</td>\n",
       "      <td>NaN</td>\n",
       "      <td>NaN</td>\n",
       "      <td>NaN</td>\n",
       "    </tr>\n",
       "    <tr>\n",
       "      <th>mean</th>\n",
       "      <td>NaN</td>\n",
       "      <td>NaN</td>\n",
       "      <td>NaN</td>\n",
       "      <td>NaN</td>\n",
       "      <td>95.811518</td>\n",
       "      <td>0.599277</td>\n",
       "      <td>0.601979</td>\n",
       "      <td>0.604525</td>\n",
       "      <td>0.608504</td>\n",
       "      <td>0.613411</td>\n",
       "      <td>...</td>\n",
       "      <td>15.55535</td>\n",
       "      <td>15.675860</td>\n",
       "      <td>15.631146</td>\n",
       "      <td>15.637707</td>\n",
       "      <td>15.637834</td>\n",
       "      <td>15.798089</td>\n",
       "      <td>14.840000</td>\n",
       "      <td>15.019490</td>\n",
       "      <td>15.019490</td>\n",
       "      <td>15.019490</td>\n",
       "    </tr>\n",
       "    <tr>\n",
       "      <th>std</th>\n",
       "      <td>NaN</td>\n",
       "      <td>NaN</td>\n",
       "      <td>NaN</td>\n",
       "      <td>NaN</td>\n",
       "      <td>55.307333</td>\n",
       "      <td>0.164044</td>\n",
       "      <td>0.164100</td>\n",
       "      <td>0.164457</td>\n",
       "      <td>0.165456</td>\n",
       "      <td>0.166191</td>\n",
       "      <td>...</td>\n",
       "      <td>14.49240</td>\n",
       "      <td>14.930422</td>\n",
       "      <td>14.730498</td>\n",
       "      <td>15.063439</td>\n",
       "      <td>15.412834</td>\n",
       "      <td>15.739461</td>\n",
       "      <td>13.932553</td>\n",
       "      <td>14.644025</td>\n",
       "      <td>14.644025</td>\n",
       "      <td>14.644025</td>\n",
       "    </tr>\n",
       "    <tr>\n",
       "      <th>min</th>\n",
       "      <td>NaN</td>\n",
       "      <td>NaN</td>\n",
       "      <td>NaN</td>\n",
       "      <td>NaN</td>\n",
       "      <td>1.000000</td>\n",
       "      <td>0.216000</td>\n",
       "      <td>0.218000</td>\n",
       "      <td>0.222000</td>\n",
       "      <td>0.227000</td>\n",
       "      <td>0.232000</td>\n",
       "      <td>...</td>\n",
       "      <td>0.43000</td>\n",
       "      <td>0.420000</td>\n",
       "      <td>0.450000</td>\n",
       "      <td>0.560000</td>\n",
       "      <td>0.600000</td>\n",
       "      <td>0.610000</td>\n",
       "      <td>0.500000</td>\n",
       "      <td>0.470000</td>\n",
       "      <td>0.470000</td>\n",
       "      <td>0.470000</td>\n",
       "    </tr>\n",
       "    <tr>\n",
       "      <th>25%</th>\n",
       "      <td>NaN</td>\n",
       "      <td>NaN</td>\n",
       "      <td>NaN</td>\n",
       "      <td>NaN</td>\n",
       "      <td>48.500000</td>\n",
       "      <td>0.482000</td>\n",
       "      <td>0.484000</td>\n",
       "      <td>0.485000</td>\n",
       "      <td>0.485000</td>\n",
       "      <td>0.486000</td>\n",
       "      <td>...</td>\n",
       "      <td>4.53000</td>\n",
       "      <td>4.510000</td>\n",
       "      <td>4.350000</td>\n",
       "      <td>4.360000</td>\n",
       "      <td>4.420000</td>\n",
       "      <td>4.560000</td>\n",
       "      <td>4.590000</td>\n",
       "      <td>4.620000</td>\n",
       "      <td>4.620000</td>\n",
       "      <td>4.620000</td>\n",
       "    </tr>\n",
       "    <tr>\n",
       "      <th>50%</th>\n",
       "      <td>NaN</td>\n",
       "      <td>NaN</td>\n",
       "      <td>NaN</td>\n",
       "      <td>NaN</td>\n",
       "      <td>96.000000</td>\n",
       "      <td>0.628000</td>\n",
       "      <td>0.629000</td>\n",
       "      <td>0.627000</td>\n",
       "      <td>0.634000</td>\n",
       "      <td>0.639000</td>\n",
       "      <td>...</td>\n",
       "      <td>10.53000</td>\n",
       "      <td>10.370000</td>\n",
       "      <td>10.680000</td>\n",
       "      <td>10.020000</td>\n",
       "      <td>10.400000</td>\n",
       "      <td>10.740000</td>\n",
       "      <td>11.150000</td>\n",
       "      <td>10.620000</td>\n",
       "      <td>10.620000</td>\n",
       "      <td>10.620000</td>\n",
       "    </tr>\n",
       "    <tr>\n",
       "      <th>75%</th>\n",
       "      <td>NaN</td>\n",
       "      <td>NaN</td>\n",
       "      <td>NaN</td>\n",
       "      <td>NaN</td>\n",
       "      <td>143.500000</td>\n",
       "      <td>0.728000</td>\n",
       "      <td>0.729000</td>\n",
       "      <td>0.727000</td>\n",
       "      <td>0.731000</td>\n",
       "      <td>0.741000</td>\n",
       "      <td>...</td>\n",
       "      <td>20.90000</td>\n",
       "      <td>20.780000</td>\n",
       "      <td>20.750000</td>\n",
       "      <td>21.290000</td>\n",
       "      <td>19.790000</td>\n",
       "      <td>20.030000</td>\n",
       "      <td>18.960000</td>\n",
       "      <td>18.870000</td>\n",
       "      <td>18.870000</td>\n",
       "      <td>18.870000</td>\n",
       "    </tr>\n",
       "    <tr>\n",
       "      <th>max</th>\n",
       "      <td>NaN</td>\n",
       "      <td>NaN</td>\n",
       "      <td>NaN</td>\n",
       "      <td>NaN</td>\n",
       "      <td>191.000000</td>\n",
       "      <td>0.872000</td>\n",
       "      <td>0.873000</td>\n",
       "      <td>0.878000</td>\n",
       "      <td>0.880000</td>\n",
       "      <td>0.884000</td>\n",
       "      <td>...</td>\n",
       "      <td>74.56000</td>\n",
       "      <td>82.970000</td>\n",
       "      <td>81.100000</td>\n",
       "      <td>86.780000</td>\n",
       "      <td>83.510000</td>\n",
       "      <td>88.700000</td>\n",
       "      <td>71.160000</td>\n",
       "      <td>85.700000</td>\n",
       "      <td>85.700000</td>\n",
       "      <td>85.700000</td>\n",
       "    </tr>\n",
       "  </tbody>\n",
       "</table>\n",
       "<p>11 rows × 880 columns</p>\n",
       "</div>"
      ],
      "text/plain": [
       "       ISO3      Country Human Development Groups UNDP Developing Regions  \\\n",
       "count   195          195                      191                     151   \n",
       "unique  195          195                        4                       6   \n",
       "top     AFG  Afghanistan                Very High                     SSA   \n",
       "freq      1            1                       66                      46   \n",
       "mean    NaN          NaN                      NaN                     NaN   \n",
       "std     NaN          NaN                      NaN                     NaN   \n",
       "min     NaN          NaN                      NaN                     NaN   \n",
       "25%     NaN          NaN                      NaN                     NaN   \n",
       "50%     NaN          NaN                      NaN                     NaN   \n",
       "75%     NaN          NaN                      NaN                     NaN   \n",
       "max     NaN          NaN                      NaN                     NaN   \n",
       "\n",
       "        HDI Rank (2021)  Human Development Index (1990)  \\\n",
       "count        191.000000                      141.000000   \n",
       "unique              NaN                             NaN   \n",
       "top                 NaN                             NaN   \n",
       "freq                NaN                             NaN   \n",
       "mean          95.811518                        0.599277   \n",
       "std           55.307333                        0.164044   \n",
       "min            1.000000                        0.216000   \n",
       "25%           48.500000                        0.482000   \n",
       "50%           96.000000                        0.628000   \n",
       "75%          143.500000                        0.728000   \n",
       "max          191.000000                        0.872000   \n",
       "\n",
       "        Human Development Index (1991)  Human Development Index (1992)  \\\n",
       "count                       141.000000                      141.000000   \n",
       "unique                             NaN                             NaN   \n",
       "top                                NaN                             NaN   \n",
       "freq                               NaN                             NaN   \n",
       "mean                          0.601979                        0.604525   \n",
       "std                           0.164100                        0.164457   \n",
       "min                           0.218000                        0.222000   \n",
       "25%                           0.484000                        0.485000   \n",
       "50%                           0.629000                        0.627000   \n",
       "75%                           0.729000                        0.727000   \n",
       "max                           0.873000                        0.878000   \n",
       "\n",
       "        Human Development Index (1993)  Human Development Index (1994)  ...  \\\n",
       "count                       141.000000                      141.000000  ...   \n",
       "unique                             NaN                             NaN  ...   \n",
       "top                                NaN                             NaN  ...   \n",
       "freq                               NaN                             NaN  ...   \n",
       "mean                          0.608504                        0.613411  ...   \n",
       "std                           0.165456                        0.166191  ...   \n",
       "min                           0.227000                        0.232000  ...   \n",
       "25%                           0.485000                        0.486000  ...   \n",
       "50%                           0.634000                        0.639000  ...   \n",
       "75%                           0.731000                        0.741000  ...   \n",
       "max                           0.880000                        0.884000  ...   \n",
       "\n",
       "        Material footprint per capita (tonnes) (2012)  \\\n",
       "count                                       157.00000   \n",
       "unique                                            NaN   \n",
       "top                                               NaN   \n",
       "freq                                              NaN   \n",
       "mean                                         15.55535   \n",
       "std                                          14.49240   \n",
       "min                                           0.43000   \n",
       "25%                                           4.53000   \n",
       "50%                                          10.53000   \n",
       "75%                                          20.90000   \n",
       "max                                          74.56000   \n",
       "\n",
       "        Material footprint per capita (tonnes) (2013)  \\\n",
       "count                                      157.000000   \n",
       "unique                                            NaN   \n",
       "top                                               NaN   \n",
       "freq                                              NaN   \n",
       "mean                                        15.675860   \n",
       "std                                         14.930422   \n",
       "min                                          0.420000   \n",
       "25%                                          4.510000   \n",
       "50%                                         10.370000   \n",
       "75%                                         20.780000   \n",
       "max                                         82.970000   \n",
       "\n",
       "        Material footprint per capita (tonnes) (2014)  \\\n",
       "count                                      157.000000   \n",
       "unique                                            NaN   \n",
       "top                                               NaN   \n",
       "freq                                              NaN   \n",
       "mean                                        15.631146   \n",
       "std                                         14.730498   \n",
       "min                                          0.450000   \n",
       "25%                                          4.350000   \n",
       "50%                                         10.680000   \n",
       "75%                                         20.750000   \n",
       "max                                         81.100000   \n",
       "\n",
       "        Material footprint per capita (tonnes) (2015)  \\\n",
       "count                                      157.000000   \n",
       "unique                                            NaN   \n",
       "top                                               NaN   \n",
       "freq                                              NaN   \n",
       "mean                                        15.637707   \n",
       "std                                         15.063439   \n",
       "min                                          0.560000   \n",
       "25%                                          4.360000   \n",
       "50%                                         10.020000   \n",
       "75%                                         21.290000   \n",
       "max                                         86.780000   \n",
       "\n",
       "        Material footprint per capita (tonnes) (2016)  \\\n",
       "count                                      157.000000   \n",
       "unique                                            NaN   \n",
       "top                                               NaN   \n",
       "freq                                              NaN   \n",
       "mean                                        15.637834   \n",
       "std                                         15.412834   \n",
       "min                                          0.600000   \n",
       "25%                                          4.420000   \n",
       "50%                                         10.400000   \n",
       "75%                                         19.790000   \n",
       "max                                         83.510000   \n",
       "\n",
       "        Material footprint per capita (tonnes) (2017)  \\\n",
       "count                                      157.000000   \n",
       "unique                                            NaN   \n",
       "top                                               NaN   \n",
       "freq                                              NaN   \n",
       "mean                                        15.798089   \n",
       "std                                         15.739461   \n",
       "min                                          0.610000   \n",
       "25%                                          4.560000   \n",
       "50%                                         10.740000   \n",
       "75%                                         20.030000   \n",
       "max                                         88.700000   \n",
       "\n",
       "        Material footprint per capita (tonnes) (2018)  \\\n",
       "count                                      157.000000   \n",
       "unique                                            NaN   \n",
       "top                                               NaN   \n",
       "freq                                              NaN   \n",
       "mean                                        14.840000   \n",
       "std                                         13.932553   \n",
       "min                                          0.500000   \n",
       "25%                                          4.590000   \n",
       "50%                                         11.150000   \n",
       "75%                                         18.960000   \n",
       "max                                         71.160000   \n",
       "\n",
       "        Material footprint per capita (tonnes) (2019)  \\\n",
       "count                                      157.000000   \n",
       "unique                                            NaN   \n",
       "top                                               NaN   \n",
       "freq                                              NaN   \n",
       "mean                                        15.019490   \n",
       "std                                         14.644025   \n",
       "min                                          0.470000   \n",
       "25%                                          4.620000   \n",
       "50%                                         10.620000   \n",
       "75%                                         18.870000   \n",
       "max                                         85.700000   \n",
       "\n",
       "        Material footprint per capita (tonnes) (2020)  \\\n",
       "count                                      157.000000   \n",
       "unique                                            NaN   \n",
       "top                                               NaN   \n",
       "freq                                              NaN   \n",
       "mean                                        15.019490   \n",
       "std                                         14.644025   \n",
       "min                                          0.470000   \n",
       "25%                                          4.620000   \n",
       "50%                                         10.620000   \n",
       "75%                                         18.870000   \n",
       "max                                         85.700000   \n",
       "\n",
       "        Material footprint per capita (tonnes) (2021)  \n",
       "count                                      157.000000  \n",
       "unique                                            NaN  \n",
       "top                                               NaN  \n",
       "freq                                              NaN  \n",
       "mean                                        15.019490  \n",
       "std                                         14.644025  \n",
       "min                                          0.470000  \n",
       "25%                                          4.620000  \n",
       "50%                                         10.620000  \n",
       "75%                                         18.870000  \n",
       "max                                         85.700000  \n",
       "\n",
       "[11 rows x 880 columns]"
      ]
     },
     "execution_count": 17,
     "metadata": {},
     "output_type": "execute_result"
    }
   ],
   "source": [
    "# Checking the shape of the dataset\n",
    "print(f\"Dataset Shape: {df.shape}\")\n",
    "\n",
    "# Displaying column names\n",
    "print(f\"Column Names: {df.columns.tolist()}\")\n",
    "\n",
    "# Displaying data types of each column\n",
    "print(df.dtypes)\n",
    "\n",
    "# Displaying summary statistics of the dataset\n",
    "df.describe(include='all')"
   ]
  },
  {
   "cell_type": "markdown",
   "metadata": {},
   "source": [
    "### Step 1.3: Handle Missing Values"
   ]
  },
  {
   "cell_type": "code",
   "execution_count": 18,
   "metadata": {},
   "outputs": [
    {
     "name": "stdout",
     "output_type": "stream",
     "text": [
      "Remaining Missing Values:\n",
      "Series([], dtype: int64)\n"
     ]
    },
    {
     "name": "stderr",
     "output_type": "stream",
     "text": [
      "/var/folders/cl/hsgv1fnd1_v1_4fffg7rml400000gn/T/ipykernel_1920/1415241742.py:2: FutureWarning: DataFrame.fillna with 'method' is deprecated and will raise in a future version. Use obj.ffill() or obj.bfill() instead.\n",
      "  df.fillna(method='bfill', inplace=True)\n"
     ]
    }
   ],
   "source": [
    "# Handling missing values using backward fill\n",
    "df.fillna(method='bfill', inplace=True)\n",
    "\n",
    "# Checking for remaining missing values\n",
    "missing_values = df.isnull().sum()\n",
    "print(f\"Remaining Missing Values:\\n{missing_values[missing_values > 0]}\")"
   ]
  },
  {
   "cell_type": "code",
   "execution_count": null,
   "metadata": {},
   "outputs": [],
   "source": []
  },
  {
   "cell_type": "markdown",
   "metadata": {},
   "source": [
    "## Step 2: Feature Engineering and Data Preparation"
   ]
  },
  {
   "cell_type": "markdown",
   "metadata": {},
   "source": [
    "### Step 2.1: Compute 5-Year Rolling Averages"
   ]
  },
  {
   "cell_type": "code",
   "execution_count": 19,
   "metadata": {},
   "outputs": [
    {
     "data": {
      "text/html": [
       "<div>\n",
       "<style scoped>\n",
       "    .dataframe tbody tr th:only-of-type {\n",
       "        vertical-align: middle;\n",
       "    }\n",
       "\n",
       "    .dataframe tbody tr th {\n",
       "        vertical-align: top;\n",
       "    }\n",
       "\n",
       "    .dataframe thead th {\n",
       "        text-align: right;\n",
       "    }\n",
       "</style>\n",
       "<table border=\"1\" class=\"dataframe\">\n",
       "  <thead>\n",
       "    <tr style=\"text-align: right;\">\n",
       "      <th></th>\n",
       "      <th>HDI_5yr_Rolling_Avg</th>\n",
       "      <th>GNI_5yr_Rolling_Avg</th>\n",
       "      <th>Life_Expectancy_5yr_Rolling_Avg</th>\n",
       "    </tr>\n",
       "  </thead>\n",
       "  <tbody>\n",
       "    <tr>\n",
       "      <th>0</th>\n",
       "      <td>0.419192</td>\n",
       "      <td>1684.413291</td>\n",
       "      <td>59.347881</td>\n",
       "    </tr>\n",
       "    <tr>\n",
       "      <th>1</th>\n",
       "      <td>0.520192</td>\n",
       "      <td>5732.510784</td>\n",
       "      <td>54.429715</td>\n",
       "    </tr>\n",
       "    <tr>\n",
       "      <th>2</th>\n",
       "      <td>0.737346</td>\n",
       "      <td>9563.681523</td>\n",
       "      <td>77.062762</td>\n",
       "    </tr>\n",
       "    <tr>\n",
       "      <th>3</th>\n",
       "      <td>0.839962</td>\n",
       "      <td>50283.611771</td>\n",
       "      <td>82.019400</td>\n",
       "    </tr>\n",
       "    <tr>\n",
       "      <th>4</th>\n",
       "      <td>0.838500</td>\n",
       "      <td>78702.467077</td>\n",
       "      <td>77.068327</td>\n",
       "    </tr>\n",
       "  </tbody>\n",
       "</table>\n",
       "</div>"
      ],
      "text/plain": [
       "   HDI_5yr_Rolling_Avg  GNI_5yr_Rolling_Avg  Life_Expectancy_5yr_Rolling_Avg\n",
       "0             0.419192          1684.413291                        59.347881\n",
       "1             0.520192          5732.510784                        54.429715\n",
       "2             0.737346          9563.681523                        77.062762\n",
       "3             0.839962         50283.611771                        82.019400\n",
       "4             0.838500         78702.467077                        77.068327"
      ]
     },
     "execution_count": 19,
     "metadata": {},
     "output_type": "execute_result"
    }
   ],
   "source": [
    "# Calculate 5-year rolling averages for HDI, GNI, and Life Expectancy\n",
    "df['HDI_5yr_Rolling_Avg'] = df[[f'Human Development Index ({year})' for year in range(1996, 2022)]].mean(axis=1)\n",
    "df['GNI_5yr_Rolling_Avg'] = df[[f'Gross National Income Per Capita ({year})' for year in range(1996, 2022)]].mean(axis=1)\n",
    "df['Life_Expectancy_5yr_Rolling_Avg'] = df[[f'Life Expectancy at Birth ({year})' for year in range(1996, 2022)]].mean(axis=1)\n",
    "\n",
    "# Display the first few rows to check the new features\n",
    "df[['HDI_5yr_Rolling_Avg', 'GNI_5yr_Rolling_Avg', 'Life_Expectancy_5yr_Rolling_Avg']].head()"
   ]
  },
  {
   "cell_type": "markdown",
   "metadata": {},
   "source": [
    "### Step 2.2: Calculate Growth Rates"
   ]
  },
  {
   "cell_type": "code",
   "execution_count": 20,
   "metadata": {},
   "outputs": [
    {
     "data": {
      "text/html": [
       "<div>\n",
       "<style scoped>\n",
       "    .dataframe tbody tr th:only-of-type {\n",
       "        vertical-align: middle;\n",
       "    }\n",
       "\n",
       "    .dataframe tbody tr th {\n",
       "        vertical-align: top;\n",
       "    }\n",
       "\n",
       "    .dataframe thead th {\n",
       "        text-align: right;\n",
       "    }\n",
       "</style>\n",
       "<table border=\"1\" class=\"dataframe\">\n",
       "  <thead>\n",
       "    <tr style=\"text-align: right;\">\n",
       "      <th></th>\n",
       "      <th>HDI_Growth_1991</th>\n",
       "      <th>HDI_Growth_1992</th>\n",
       "      <th>HDI_Growth_1993</th>\n",
       "      <th>HDI_Growth_1994</th>\n",
       "      <th>HDI_Growth_1995</th>\n",
       "      <th>HDI_Growth_1996</th>\n",
       "      <th>HDI_Growth_1997</th>\n",
       "      <th>HDI_Growth_1998</th>\n",
       "      <th>HDI_Growth_1999</th>\n",
       "      <th>HDI_Growth_2000</th>\n",
       "      <th>...</th>\n",
       "      <th>GNI_Growth_2012</th>\n",
       "      <th>GNI_Growth_2013</th>\n",
       "      <th>GNI_Growth_2014</th>\n",
       "      <th>GNI_Growth_2015</th>\n",
       "      <th>GNI_Growth_2016</th>\n",
       "      <th>GNI_Growth_2017</th>\n",
       "      <th>GNI_Growth_2018</th>\n",
       "      <th>GNI_Growth_2019</th>\n",
       "      <th>GNI_Growth_2020</th>\n",
       "      <th>GNI_Growth_2021</th>\n",
       "    </tr>\n",
       "  </thead>\n",
       "  <tbody>\n",
       "    <tr>\n",
       "      <th>0</th>\n",
       "      <td>0.021978</td>\n",
       "      <td>0.028674</td>\n",
       "      <td>0.034843</td>\n",
       "      <td>-0.016835</td>\n",
       "      <td>0.061644</td>\n",
       "      <td>0.029032</td>\n",
       "      <td>0.012539</td>\n",
       "      <td>0.003096</td>\n",
       "      <td>0.024691</td>\n",
       "      <td>0.009036</td>\n",
       "      <td>...</td>\n",
       "      <td>0.063116</td>\n",
       "      <td>0.031842</td>\n",
       "      <td>-0.006860</td>\n",
       "      <td>-0.035308</td>\n",
       "      <td>-0.011431</td>\n",
       "      <td>0.003812</td>\n",
       "      <td>-0.014648</td>\n",
       "      <td>0.020901</td>\n",
       "      <td>-0.047685</td>\n",
       "      <td>-0.086924</td>\n",
       "    </tr>\n",
       "    <tr>\n",
       "      <th>1</th>\n",
       "      <td>-0.027821</td>\n",
       "      <td>-0.023847</td>\n",
       "      <td>0.004886</td>\n",
       "      <td>0.011345</td>\n",
       "      <td>0.016026</td>\n",
       "      <td>0.017350</td>\n",
       "      <td>-0.004651</td>\n",
       "      <td>0.023364</td>\n",
       "      <td>-0.445967</td>\n",
       "      <td>0.030220</td>\n",
       "      <td>...</td>\n",
       "      <td>0.057412</td>\n",
       "      <td>0.027093</td>\n",
       "      <td>0.030239</td>\n",
       "      <td>-0.006694</td>\n",
       "      <td>-0.060532</td>\n",
       "      <td>-0.045602</td>\n",
       "      <td>-0.069963</td>\n",
       "      <td>-0.046819</td>\n",
       "      <td>-0.080491</td>\n",
       "      <td>-0.022800</td>\n",
       "    </tr>\n",
       "    <tr>\n",
       "      <th>2</th>\n",
       "      <td>-0.027821</td>\n",
       "      <td>-0.023847</td>\n",
       "      <td>0.004886</td>\n",
       "      <td>0.011345</td>\n",
       "      <td>0.016026</td>\n",
       "      <td>0.017350</td>\n",
       "      <td>-0.004651</td>\n",
       "      <td>0.023364</td>\n",
       "      <td>0.018265</td>\n",
       "      <td>0.011958</td>\n",
       "      <td>...</td>\n",
       "      <td>0.008105</td>\n",
       "      <td>0.036489</td>\n",
       "      <td>0.012003</td>\n",
       "      <td>0.027768</td>\n",
       "      <td>0.038974</td>\n",
       "      <td>0.025433</td>\n",
       "      <td>0.039100</td>\n",
       "      <td>0.013727</td>\n",
       "      <td>-0.036228</td>\n",
       "      <td>0.087279</td>\n",
       "    </tr>\n",
       "    <tr>\n",
       "      <th>3</th>\n",
       "      <td>0.015110</td>\n",
       "      <td>0.004060</td>\n",
       "      <td>0.008086</td>\n",
       "      <td>0.009358</td>\n",
       "      <td>0.009272</td>\n",
       "      <td>0.006562</td>\n",
       "      <td>0.007823</td>\n",
       "      <td>0.007762</td>\n",
       "      <td>0.010270</td>\n",
       "      <td>0.039390</td>\n",
       "      <td>...</td>\n",
       "      <td>-0.034525</td>\n",
       "      <td>-0.015739</td>\n",
       "      <td>0.045244</td>\n",
       "      <td>0.029972</td>\n",
       "      <td>0.046676</td>\n",
       "      <td>0.007318</td>\n",
       "      <td>0.015823</td>\n",
       "      <td>0.018356</td>\n",
       "      <td>-0.120929</td>\n",
       "      <td>0.068673</td>\n",
       "    </tr>\n",
       "    <tr>\n",
       "      <th>4</th>\n",
       "      <td>0.015110</td>\n",
       "      <td>0.004060</td>\n",
       "      <td>0.008086</td>\n",
       "      <td>0.009358</td>\n",
       "      <td>0.009272</td>\n",
       "      <td>0.006562</td>\n",
       "      <td>0.007823</td>\n",
       "      <td>0.007762</td>\n",
       "      <td>0.010270</td>\n",
       "      <td>0.011436</td>\n",
       "      <td>...</td>\n",
       "      <td>0.023043</td>\n",
       "      <td>0.044559</td>\n",
       "      <td>0.042793</td>\n",
       "      <td>0.048008</td>\n",
       "      <td>0.019882</td>\n",
       "      <td>0.011755</td>\n",
       "      <td>-0.006981</td>\n",
       "      <td>0.020772</td>\n",
       "      <td>-0.081272</td>\n",
       "      <td>-0.007027</td>\n",
       "    </tr>\n",
       "  </tbody>\n",
       "</table>\n",
       "<p>5 rows × 62 columns</p>\n",
       "</div>"
      ],
      "text/plain": [
       "   HDI_Growth_1991  HDI_Growth_1992  HDI_Growth_1993  HDI_Growth_1994  \\\n",
       "0         0.021978         0.028674         0.034843        -0.016835   \n",
       "1        -0.027821        -0.023847         0.004886         0.011345   \n",
       "2        -0.027821        -0.023847         0.004886         0.011345   \n",
       "3         0.015110         0.004060         0.008086         0.009358   \n",
       "4         0.015110         0.004060         0.008086         0.009358   \n",
       "\n",
       "   HDI_Growth_1995  HDI_Growth_1996  HDI_Growth_1997  HDI_Growth_1998  \\\n",
       "0         0.061644         0.029032         0.012539         0.003096   \n",
       "1         0.016026         0.017350        -0.004651         0.023364   \n",
       "2         0.016026         0.017350        -0.004651         0.023364   \n",
       "3         0.009272         0.006562         0.007823         0.007762   \n",
       "4         0.009272         0.006562         0.007823         0.007762   \n",
       "\n",
       "   HDI_Growth_1999  HDI_Growth_2000  ...  GNI_Growth_2012  GNI_Growth_2013  \\\n",
       "0         0.024691         0.009036  ...         0.063116         0.031842   \n",
       "1        -0.445967         0.030220  ...         0.057412         0.027093   \n",
       "2         0.018265         0.011958  ...         0.008105         0.036489   \n",
       "3         0.010270         0.039390  ...        -0.034525        -0.015739   \n",
       "4         0.010270         0.011436  ...         0.023043         0.044559   \n",
       "\n",
       "   GNI_Growth_2014  GNI_Growth_2015  GNI_Growth_2016  GNI_Growth_2017  \\\n",
       "0        -0.006860        -0.035308        -0.011431         0.003812   \n",
       "1         0.030239        -0.006694        -0.060532        -0.045602   \n",
       "2         0.012003         0.027768         0.038974         0.025433   \n",
       "3         0.045244         0.029972         0.046676         0.007318   \n",
       "4         0.042793         0.048008         0.019882         0.011755   \n",
       "\n",
       "   GNI_Growth_2018  GNI_Growth_2019  GNI_Growth_2020  GNI_Growth_2021  \n",
       "0        -0.014648         0.020901        -0.047685        -0.086924  \n",
       "1        -0.069963        -0.046819        -0.080491        -0.022800  \n",
       "2         0.039100         0.013727        -0.036228         0.087279  \n",
       "3         0.015823         0.018356        -0.120929         0.068673  \n",
       "4        -0.006981         0.020772        -0.081272        -0.007027  \n",
       "\n",
       "[5 rows x 62 columns]"
      ]
     },
     "execution_count": 20,
     "metadata": {},
     "output_type": "execute_result"
    }
   ],
   "source": [
    "# Calculate annual growth rates for HDI and GNI\n",
    "for year in range(1991, 2022):\n",
    "    prev_year = year - 1\n",
    "    df[f'HDI_Growth_{year}'] = (df[f'Human Development Index ({year})'] - df[f'Human Development Index ({prev_year})']) / df[f'Human Development Index ({prev_year})']\n",
    "    df[f'GNI_Growth_{year}'] = (df[f'Gross National Income Per Capita ({year})'] - df[f'Gross National Income Per Capita ({prev_year})']) / df[f'Gross National Income Per Capita ({prev_year})']\n",
    "\n",
    "# Display a few rows to verify the growth rates\n",
    "df[[f'HDI_Growth_{year}' for year in range(1991, 2022)] + [f'GNI_Growth_{year}' for year in range(1991, 2022)]].head()"
   ]
  },
  {
   "cell_type": "markdown",
   "metadata": {},
   "source": [
    "### Step 2.3: Create Interaction Features"
   ]
  },
  {
   "cell_type": "code",
   "execution_count": 21,
   "metadata": {},
   "outputs": [
    {
     "data": {
      "text/html": [
       "<div>\n",
       "<style scoped>\n",
       "    .dataframe tbody tr th:only-of-type {\n",
       "        vertical-align: middle;\n",
       "    }\n",
       "\n",
       "    .dataframe tbody tr th {\n",
       "        vertical-align: top;\n",
       "    }\n",
       "\n",
       "    .dataframe thead th {\n",
       "        text-align: right;\n",
       "    }\n",
       "</style>\n",
       "<table border=\"1\" class=\"dataframe\">\n",
       "  <thead>\n",
       "    <tr style=\"text-align: right;\">\n",
       "      <th></th>\n",
       "      <th>HDI_Male_Female_Disparity</th>\n",
       "      <th>Life_Expectancy_Male_Female_Disparity</th>\n",
       "      <th>GNI_Male_Female_Disparity</th>\n",
       "    </tr>\n",
       "  </thead>\n",
       "  <tbody>\n",
       "    <tr>\n",
       "      <th>0</th>\n",
       "      <td>0.170771</td>\n",
       "      <td>-6.3644</td>\n",
       "      <td>2556.315050</td>\n",
       "    </tr>\n",
       "    <tr>\n",
       "      <th>1</th>\n",
       "      <td>0.059813</td>\n",
       "      <td>-5.2775</td>\n",
       "      <td>1445.277229</td>\n",
       "    </tr>\n",
       "    <tr>\n",
       "      <th>2</th>\n",
       "      <td>-0.005617</td>\n",
       "      <td>-5.0857</td>\n",
       "      <td>4992.686440</td>\n",
       "    </tr>\n",
       "    <tr>\n",
       "      <th>3</th>\n",
       "      <td>0.043499</td>\n",
       "      <td>-7.1515</td>\n",
       "      <td>48396.535350</td>\n",
       "    </tr>\n",
       "    <tr>\n",
       "      <th>4</th>\n",
       "      <td>0.043499</td>\n",
       "      <td>-3.7207</td>\n",
       "      <td>48396.535350</td>\n",
       "    </tr>\n",
       "  </tbody>\n",
       "</table>\n",
       "</div>"
      ],
      "text/plain": [
       "   HDI_Male_Female_Disparity  Life_Expectancy_Male_Female_Disparity  \\\n",
       "0                   0.170771                                -6.3644   \n",
       "1                   0.059813                                -5.2775   \n",
       "2                  -0.005617                                -5.0857   \n",
       "3                   0.043499                                -7.1515   \n",
       "4                   0.043499                                -3.7207   \n",
       "\n",
       "   GNI_Male_Female_Disparity  \n",
       "0                2556.315050  \n",
       "1                1445.277229  \n",
       "2                4992.686440  \n",
       "3               48396.535350  \n",
       "4               48396.535350  "
      ]
     },
     "execution_count": 21,
     "metadata": {},
     "output_type": "execute_result"
    }
   ],
   "source": [
    "# Interaction features for gender-based disparities\n",
    "df['HDI_Male_Female_Disparity'] = df['HDI male (2021)'] - df['HDI female (2021)']\n",
    "df['Life_Expectancy_Male_Female_Disparity'] = df['Life Expectancy at Birth, male (2021)'] - df['Life Expectancy at Birth, female (2021)']\n",
    "df['GNI_Male_Female_Disparity'] = df['Gross National Income Per Capita, male (2021)'] - df['Gross National Income Per Capita, female (2021)']\n",
    "\n",
    "# Display the interaction features\n",
    "df[['HDI_Male_Female_Disparity', 'Life_Expectancy_Male_Female_Disparity', 'GNI_Male_Female_Disparity']].head()"
   ]
  },
  {
   "cell_type": "markdown",
   "metadata": {},
   "source": [
    "### Step 2.4: Normalize Selected Features"
   ]
  },
  {
   "cell_type": "code",
   "execution_count": 22,
   "metadata": {},
   "outputs": [
    {
     "data": {
      "text/html": [
       "<div>\n",
       "<style scoped>\n",
       "    .dataframe tbody tr th:only-of-type {\n",
       "        vertical-align: middle;\n",
       "    }\n",
       "\n",
       "    .dataframe tbody tr th {\n",
       "        vertical-align: top;\n",
       "    }\n",
       "\n",
       "    .dataframe thead th {\n",
       "        text-align: right;\n",
       "    }\n",
       "</style>\n",
       "<table border=\"1\" class=\"dataframe\">\n",
       "  <thead>\n",
       "    <tr style=\"text-align: right;\">\n",
       "      <th></th>\n",
       "      <th>HDI_5yr_Rolling_Avg</th>\n",
       "      <th>GNI_5yr_Rolling_Avg</th>\n",
       "      <th>Life_Expectancy_5yr_Rolling_Avg</th>\n",
       "      <th>Carbon dioxide emissions per capita (production) (tonnes) (2021)</th>\n",
       "      <th>Material footprint per capita (tonnes) (2021)</th>\n",
       "      <th>HDI_Male_Female_Disparity</th>\n",
       "      <th>Life_Expectancy_Male_Female_Disparity</th>\n",
       "      <th>GNI_Male_Female_Disparity</th>\n",
       "    </tr>\n",
       "  </thead>\n",
       "  <tbody>\n",
       "    <tr>\n",
       "      <th>0</th>\n",
       "      <td>0.154094</td>\n",
       "      <td>0.007501</td>\n",
       "      <td>0.300925</td>\n",
       "      <td>0.007697</td>\n",
       "      <td>0.010677</td>\n",
       "      <td>0.673491</td>\n",
       "      <td>0.442673</td>\n",
       "      <td>0.039247</td>\n",
       "    </tr>\n",
       "    <tr>\n",
       "      <th>1</th>\n",
       "      <td>0.320276</td>\n",
       "      <td>0.042400</td>\n",
       "      <td>0.161063</td>\n",
       "      <td>0.017511</td>\n",
       "      <td>0.020063</td>\n",
       "      <td>0.294828</td>\n",
       "      <td>0.551253</td>\n",
       "      <td>0.021280</td>\n",
       "    </tr>\n",
       "    <tr>\n",
       "      <th>2</th>\n",
       "      <td>0.677572</td>\n",
       "      <td>0.075429</td>\n",
       "      <td>0.804699</td>\n",
       "      <td>0.041850</td>\n",
       "      <td>0.146545</td>\n",
       "      <td>0.071539</td>\n",
       "      <td>0.570414</td>\n",
       "      <td>0.078648</td>\n",
       "    </tr>\n",
       "    <tr>\n",
       "      <th>3</th>\n",
       "      <td>0.846412</td>\n",
       "      <td>0.426479</td>\n",
       "      <td>0.945655</td>\n",
       "      <td>0.162395</td>\n",
       "      <td>0.803473</td>\n",
       "      <td>0.239156</td>\n",
       "      <td>0.364042</td>\n",
       "      <td>0.780568</td>\n",
       "    </tr>\n",
       "    <tr>\n",
       "      <th>4</th>\n",
       "      <td>0.844007</td>\n",
       "      <td>0.671480</td>\n",
       "      <td>0.804857</td>\n",
       "      <td>0.409974</td>\n",
       "      <td>0.803473</td>\n",
       "      <td>0.239156</td>\n",
       "      <td>0.706776</td>\n",
       "      <td>0.780568</td>\n",
       "    </tr>\n",
       "  </tbody>\n",
       "</table>\n",
       "</div>"
      ],
      "text/plain": [
       "   HDI_5yr_Rolling_Avg  GNI_5yr_Rolling_Avg  Life_Expectancy_5yr_Rolling_Avg  \\\n",
       "0             0.154094             0.007501                         0.300925   \n",
       "1             0.320276             0.042400                         0.161063   \n",
       "2             0.677572             0.075429                         0.804699   \n",
       "3             0.846412             0.426479                         0.945655   \n",
       "4             0.844007             0.671480                         0.804857   \n",
       "\n",
       "   Carbon dioxide emissions per capita (production) (tonnes) (2021)  \\\n",
       "0                                           0.007697                  \n",
       "1                                           0.017511                  \n",
       "2                                           0.041850                  \n",
       "3                                           0.162395                  \n",
       "4                                           0.409974                  \n",
       "\n",
       "   Material footprint per capita (tonnes) (2021)  HDI_Male_Female_Disparity  \\\n",
       "0                                       0.010677                   0.673491   \n",
       "1                                       0.020063                   0.294828   \n",
       "2                                       0.146545                   0.071539   \n",
       "3                                       0.803473                   0.239156   \n",
       "4                                       0.803473                   0.239156   \n",
       "\n",
       "   Life_Expectancy_Male_Female_Disparity  GNI_Male_Female_Disparity  \n",
       "0                               0.442673                   0.039247  \n",
       "1                               0.551253                   0.021280  \n",
       "2                               0.570414                   0.078648  \n",
       "3                               0.364042                   0.780568  \n",
       "4                               0.706776                   0.780568  "
      ]
     },
     "execution_count": 22,
     "metadata": {},
     "output_type": "execute_result"
    }
   ],
   "source": [
    "from sklearn.preprocessing import MinMaxScaler\n",
    "\n",
    "# Initialize the scaler\n",
    "scaler = MinMaxScaler()\n",
    "\n",
    "# Columns to normalize\n",
    "columns_to_normalize = [\n",
    "    'HDI_5yr_Rolling_Avg', 'GNI_5yr_Rolling_Avg', 'Life_Expectancy_5yr_Rolling_Avg',\n",
    "    'Carbon dioxide emissions per capita (production) (tonnes) (2021)',\n",
    "    'Material footprint per capita (tonnes) (2021)',\n",
    "    'HDI_Male_Female_Disparity', 'Life_Expectancy_Male_Female_Disparity',\n",
    "    'GNI_Male_Female_Disparity'\n",
    "]\n",
    "\n",
    "# Apply Min-Max scaling\n",
    "df[columns_to_normalize] = scaler.fit_transform(df[columns_to_normalize])\n",
    "\n",
    "# Display the first few rows of normalized features\n",
    "df[columns_to_normalize].head()"
   ]
  },
  {
   "cell_type": "markdown",
   "metadata": {},
   "source": [
    "### Step 2.5: Select Features for Optimization"
   ]
  },
  {
   "cell_type": "code",
   "execution_count": 23,
   "metadata": {},
   "outputs": [
    {
     "name": "stdout",
     "output_type": "stream",
     "text": [
      "Selected Features Shape: (195, 8)\n"
     ]
    },
    {
     "data": {
      "text/html": [
       "<div>\n",
       "<style scoped>\n",
       "    .dataframe tbody tr th:only-of-type {\n",
       "        vertical-align: middle;\n",
       "    }\n",
       "\n",
       "    .dataframe tbody tr th {\n",
       "        vertical-align: top;\n",
       "    }\n",
       "\n",
       "    .dataframe thead th {\n",
       "        text-align: right;\n",
       "    }\n",
       "</style>\n",
       "<table border=\"1\" class=\"dataframe\">\n",
       "  <thead>\n",
       "    <tr style=\"text-align: right;\">\n",
       "      <th></th>\n",
       "      <th>HDI_5yr_Rolling_Avg</th>\n",
       "      <th>GNI_5yr_Rolling_Avg</th>\n",
       "      <th>Life_Expectancy_5yr_Rolling_Avg</th>\n",
       "      <th>Carbon dioxide emissions per capita (production) (tonnes) (2021)</th>\n",
       "      <th>Material footprint per capita (tonnes) (2021)</th>\n",
       "      <th>HDI_Male_Female_Disparity</th>\n",
       "      <th>Life_Expectancy_Male_Female_Disparity</th>\n",
       "      <th>GNI_Male_Female_Disparity</th>\n",
       "    </tr>\n",
       "  </thead>\n",
       "  <tbody>\n",
       "    <tr>\n",
       "      <th>0</th>\n",
       "      <td>0.154094</td>\n",
       "      <td>0.007501</td>\n",
       "      <td>0.300925</td>\n",
       "      <td>0.007697</td>\n",
       "      <td>0.010677</td>\n",
       "      <td>0.673491</td>\n",
       "      <td>0.442673</td>\n",
       "      <td>0.039247</td>\n",
       "    </tr>\n",
       "    <tr>\n",
       "      <th>1</th>\n",
       "      <td>0.320276</td>\n",
       "      <td>0.042400</td>\n",
       "      <td>0.161063</td>\n",
       "      <td>0.017511</td>\n",
       "      <td>0.020063</td>\n",
       "      <td>0.294828</td>\n",
       "      <td>0.551253</td>\n",
       "      <td>0.021280</td>\n",
       "    </tr>\n",
       "    <tr>\n",
       "      <th>2</th>\n",
       "      <td>0.677572</td>\n",
       "      <td>0.075429</td>\n",
       "      <td>0.804699</td>\n",
       "      <td>0.041850</td>\n",
       "      <td>0.146545</td>\n",
       "      <td>0.071539</td>\n",
       "      <td>0.570414</td>\n",
       "      <td>0.078648</td>\n",
       "    </tr>\n",
       "    <tr>\n",
       "      <th>3</th>\n",
       "      <td>0.846412</td>\n",
       "      <td>0.426479</td>\n",
       "      <td>0.945655</td>\n",
       "      <td>0.162395</td>\n",
       "      <td>0.803473</td>\n",
       "      <td>0.239156</td>\n",
       "      <td>0.364042</td>\n",
       "      <td>0.780568</td>\n",
       "    </tr>\n",
       "    <tr>\n",
       "      <th>4</th>\n",
       "      <td>0.844007</td>\n",
       "      <td>0.671480</td>\n",
       "      <td>0.804857</td>\n",
       "      <td>0.409974</td>\n",
       "      <td>0.803473</td>\n",
       "      <td>0.239156</td>\n",
       "      <td>0.706776</td>\n",
       "      <td>0.780568</td>\n",
       "    </tr>\n",
       "  </tbody>\n",
       "</table>\n",
       "</div>"
      ],
      "text/plain": [
       "   HDI_5yr_Rolling_Avg  GNI_5yr_Rolling_Avg  Life_Expectancy_5yr_Rolling_Avg  \\\n",
       "0             0.154094             0.007501                         0.300925   \n",
       "1             0.320276             0.042400                         0.161063   \n",
       "2             0.677572             0.075429                         0.804699   \n",
       "3             0.846412             0.426479                         0.945655   \n",
       "4             0.844007             0.671480                         0.804857   \n",
       "\n",
       "   Carbon dioxide emissions per capita (production) (tonnes) (2021)  \\\n",
       "0                                           0.007697                  \n",
       "1                                           0.017511                  \n",
       "2                                           0.041850                  \n",
       "3                                           0.162395                  \n",
       "4                                           0.409974                  \n",
       "\n",
       "   Material footprint per capita (tonnes) (2021)  HDI_Male_Female_Disparity  \\\n",
       "0                                       0.010677                   0.673491   \n",
       "1                                       0.020063                   0.294828   \n",
       "2                                       0.146545                   0.071539   \n",
       "3                                       0.803473                   0.239156   \n",
       "4                                       0.803473                   0.239156   \n",
       "\n",
       "   Life_Expectancy_Male_Female_Disparity  GNI_Male_Female_Disparity  \n",
       "0                               0.442673                   0.039247  \n",
       "1                               0.551253                   0.021280  \n",
       "2                               0.570414                   0.078648  \n",
       "3                               0.364042                   0.780568  \n",
       "4                               0.706776                   0.780568  "
      ]
     },
     "execution_count": 23,
     "metadata": {},
     "output_type": "execute_result"
    }
   ],
   "source": [
    "# Select final features for multi-objective optimization\n",
    "selected_features = df[[\n",
    "    'HDI_5yr_Rolling_Avg', 'GNI_5yr_Rolling_Avg', 'Life_Expectancy_5yr_Rolling_Avg',\n",
    "    'Carbon dioxide emissions per capita (production) (tonnes) (2021)',\n",
    "    'Material footprint per capita (tonnes) (2021)',\n",
    "    'HDI_Male_Female_Disparity', 'Life_Expectancy_Male_Female_Disparity',\n",
    "    'GNI_Male_Female_Disparity'\n",
    "]]\n",
    "\n",
    "# Display the final dataset shape and features\n",
    "print(f\"Selected Features Shape: {selected_features.shape}\")\n",
    "selected_features.head()"
   ]
  },
  {
   "cell_type": "markdown",
   "metadata": {},
   "source": []
  },
  {
   "cell_type": "markdown",
   "metadata": {},
   "source": [
    "## Step 3: Multi-Objective Optimization Setup"
   ]
  },
  {
   "cell_type": "markdown",
   "metadata": {},
   "source": [
    "### Step 3.1: Define Fitness Function for Multi-Objective Optimization"
   ]
  },
  {
   "cell_type": "code",
   "execution_count": 24,
   "metadata": {},
   "outputs": [
    {
     "name": "stdout",
     "output_type": "stream",
     "text": [
      "Sample Fitness Score: 0.1396255961404893\n"
     ]
    }
   ],
   "source": [
    "\n",
    "# Define fitness function for multi-objective optimization\n",
    "def fitness_function(individual, df):\n",
    "    # Extract columns for fitness evaluation\n",
    "    hdi = df['HDI_5yr_Rolling_Avg']\n",
    "    co2 = df['Carbon dioxide emissions per capita (production) (tonnes) (2021)']\n",
    "    material_footprint = df['Material footprint per capita (tonnes) (2021)']\n",
    "    \n",
    "    # Disparity measures\n",
    "    hdi_disparity = df['HDI_Male_Female_Disparity']\n",
    "    life_expectancy_disparity = df['Life_Expectancy_Male_Female_Disparity']\n",
    "    gni_disparity = df['GNI_Male_Female_Disparity']\n",
    "    \n",
    "    # Define weights for multi-objective optimization\n",
    "    weights = individual\n",
    "    \n",
    "    # Calculate fitness score\n",
    "    fitness_score = (\n",
    "        weights[0] * hdi.mean() - weights[1] * co2.mean() - weights[2] * material_footprint.mean() \n",
    "        - 0.5 * (weights[3] * hdi_disparity.mean() + weights[4] * life_expectancy_disparity.mean() + weights[5] * gni_disparity.mean())\n",
    "    )\n",
    "    \n",
    "    return fitness_score\n",
    "\n",
    "# Test the fitness function with a sample individual\n",
    "sample_individual = np.array([0.4, 0.3, 0.2, 0.1, 0.05, 0.05])\n",
    "fitness_score = fitness_function(sample_individual, df)\n",
    "print(\"Sample Fitness Score:\", fitness_score)"
   ]
  },
  {
   "cell_type": "markdown",
   "metadata": {},
   "source": [
    "### Step 3.2: Implement Enhanced Genetic Algorithm (EGA)"
   ]
  },
  {
   "cell_type": "markdown",
   "metadata": {},
   "source": [
    "#### Step 3.2.1: EGA Initialization"
   ]
  },
  {
   "cell_type": "code",
   "execution_count": 25,
   "metadata": {},
   "outputs": [
    {
     "name": "stdout",
     "output_type": "stream",
     "text": [
      "Initial Population (Sample): [[0.81828458 0.63193568 0.73400815 0.29488797 0.54303669 0.90667655]\n",
      " [0.50541854 0.31665129 0.99596716 0.06629896 0.09584727 0.0509118 ]\n",
      " [0.77677686 0.80052941 0.28558234 0.07186337 0.10795738 0.63200779]\n",
      " [0.61396265 0.49033901 0.31105566 0.62400057 0.31922098 0.00186873]\n",
      " [0.42989089 0.45349152 0.32936539 0.80228745 0.64338324 0.74475058]]\n",
      "Initial Fitness Scores (Sample): [0.03490673155783797, 0.052970831901832126, 0.23190094507282843, 0.10225723564344294, -0.17020435646260668]\n"
     ]
    }
   ],
   "source": [
    "import random\n",
    "\n",
    "# Step 1: Define initial EGA parameters\n",
    "population_size = 100  # Number of individuals in each generation\n",
    "num_generations = 100  # Total number of generations\n",
    "crossover_rate = 0.8  # Initial crossover rate\n",
    "mutation_rate = 0.05  # Initial mutation rate\n",
    "\n",
    "# Step 2: Initialize population with random weights (0 to 1)\n",
    "def initialize_population(population_size, num_features=6):\n",
    "    return np.random.rand(population_size, num_features)\n",
    "\n",
    "# Step 3: Define the EGA population\n",
    "population = initialize_population(population_size)\n",
    "print(\"Initial Population (Sample):\", population[:5])\n",
    "\n",
    "# Step 4: Evaluate initial population fitness\n",
    "fitness_scores = [fitness_function(individual, df) for individual in population]\n",
    "print(\"Initial Fitness Scores (Sample):\", fitness_scores[:5])\n",
    "\n",
    "# Step 5: Set up a function for dynamic crossover and mutation rate adjustment\n",
    "def adjust_rates(t, T, initial_rate, final_rate):\n",
    "    return initial_rate * (1 - t/T) + final_rate * (t/T)\n",
    "\n",
    "# Step 6: Define EGA hyperparameters for adjustment\n",
    "final_crossover_rate = 0.6\n",
    "final_mutation_rate = 0.02"
   ]
  },
  {
   "cell_type": "markdown",
   "metadata": {},
   "source": [
    "#### Step 3.2.2: Evolution Process in EGA"
   ]
  },
  {
   "cell_type": "code",
   "execution_count": 26,
   "metadata": {},
   "outputs": [
    {
     "name": "stdout",
     "output_type": "stream",
     "text": [
      "Generation 10/100, Best Fitness: 0.4834005802693278\n",
      "Generation 20/100, Best Fitness: 0.5148936035519921\n",
      "Generation 30/100, Best Fitness: 0.5193407374140759\n",
      "Generation 40/100, Best Fitness: 0.540108795533864\n",
      "Generation 50/100, Best Fitness: 0.5483611730567326\n",
      "Generation 60/100, Best Fitness: 0.5613052083810935\n",
      "Generation 70/100, Best Fitness: 0.5651616916617587\n",
      "Generation 80/100, Best Fitness: 0.5654284876670022\n",
      "Generation 90/100, Best Fitness: 0.573528669606177\n",
      "Generation 100/100, Best Fitness: 0.5830295745658037\n",
      "Best Individual after Evolution: [0.92678332 0.02313755 0.50877198 0.07528535 0.03653579 0.51465145]\n",
      "Best Fitness Score: 0.5830295745658037\n"
     ]
    }
   ],
   "source": [
    "# Import necessary libraries\n",
    "import numpy as np\n",
    "\n",
    "# Step 7: Define rank-based selection\n",
    "def rank_based_selection(population, fitness_scores, num_parents):\n",
    "    sorted_indices = np.argsort(fitness_scores)[::-1]  # Descending order\n",
    "    return population[sorted_indices[:num_parents]]\n",
    "\n",
    "# Step 8: Define crossover operation\n",
    "def crossover(parents, crossover_rate):\n",
    "    offspring = []\n",
    "    num_parents = len(parents)\n",
    "    for i in range(num_parents - 1):\n",
    "        if np.random.rand() < crossover_rate:\n",
    "            # Single-point crossover\n",
    "            crossover_point = np.random.randint(1, parents.shape[1])\n",
    "            parent1, parent2 = parents[i], parents[i+1]\n",
    "            child1 = np.concatenate([parent1[:crossover_point], parent2[crossover_point:]])\n",
    "            child2 = np.concatenate([parent2[:crossover_point], parent1[crossover_point:]])\n",
    "            offspring.extend([child1, child2])\n",
    "        else:\n",
    "            offspring.extend([parents[i], parents[i+1]])\n",
    "    return np.array(offspring[:num_parents])\n",
    "\n",
    "# Step 9: Define mutation operation\n",
    "def mutation(offspring, mutation_rate):\n",
    "    for i in range(offspring.shape[0]):\n",
    "        for j in range(offspring.shape[1]):\n",
    "            if np.random.rand() < mutation_rate:\n",
    "                offspring[i, j] += np.random.uniform(-0.1, 0.1)  # Small mutation\n",
    "                offspring[i, j] = np.clip(offspring[i, j], 0, 1)  # Ensure within bounds\n",
    "    return offspring\n",
    "\n",
    "# Step 10: Implement EGA with iterations\n",
    "num_parents = 10  # Number of parents selected for reproduction\n",
    "best_fitness_scores = []  # Store the best fitness scores across generations\n",
    "best_individual = None  # Track the best individual across generations\n",
    "\n",
    "for generation in range(num_generations):\n",
    "    # Step 10.1: Evaluate fitness for the current population\n",
    "    fitness_scores = [fitness_function(individual, df) for individual in population]\n",
    "    best_fitness = max(fitness_scores)\n",
    "    best_fitness_scores.append(best_fitness)\n",
    "\n",
    "    # Track the best individual\n",
    "    if best_individual is None or best_fitness > max(best_fitness_scores):\n",
    "        best_individual = population[np.argmax(fitness_scores)]\n",
    "\n",
    "    # Step 10.2: Select individuals for reproduction\n",
    "    selected_individuals = rank_based_selection(population, fitness_scores, num_parents)\n",
    "\n",
    "    # Step 10.3: Apply crossover to generate offspring\n",
    "    offspring = crossover(selected_individuals, crossover_rate)\n",
    "\n",
    "    # Step 10.4: Apply mutation to introduce diversity\n",
    "    offspring = mutation(offspring, mutation_rate)\n",
    "\n",
    "    # Step 10.5: Apply elitism to retain the best individual\n",
    "    population = np.vstack([offspring, best_individual.reshape(1, -1)])\n",
    "\n",
    "    # Step 10.6: Adjust crossover and mutation rates dynamically\n",
    "    crossover_rate = adjust_rates(generation, num_generations, 0.8, 0.6)\n",
    "    mutation_rate = adjust_rates(generation, num_generations, 0.05, 0.02)\n",
    "\n",
    "    # Print progress for every 10 generations\n",
    "    if (generation + 1) % 10 == 0:\n",
    "        print(f\"Generation {generation + 1}/{num_generations}, Best Fitness: {best_fitness}\")\n",
    "\n",
    "# Step 11: Final Results\n",
    "print(\"Best Individual after Evolution:\", best_individual)\n",
    "print(\"Best Fitness Score:\", max(best_fitness_scores))"
   ]
  },
  {
   "cell_type": "markdown",
   "metadata": {},
   "source": [
    "#### Analyzing the Results"
   ]
  },
  {
   "cell_type": "code",
   "execution_count": 27,
   "metadata": {},
   "outputs": [
    {
     "data": {
      "image/png": "[encoded data removed]",
      "text/plain": [
       "<Figure size 1000x600 with 1 Axes>"
      ]
     },
     "metadata": {},
     "output_type": "display_data"
    }
   ],
   "source": [
    "import matplotlib.pyplot as plt\n",
    "\n",
    "# Plotting the fitness progression over generations\n",
    "plt.figure(figsize=(10, 6))\n",
    "plt.plot(range(1, num_generations + 1), best_fitness_scores, marker='o')\n",
    "plt.xlabel('Generation')\n",
    "plt.ylabel('Best Fitness Score')\n",
    "plt.title('Fitness Score Progression Over Generations')\n",
    "plt.grid(True)\n",
    "plt.show()"
   ]
  },
  {
   "cell_type": "markdown",
   "metadata": {},
   "source": [
    "# Update Enhanced Genetic Algorithm (EGA)"
   ]
  },
  {
   "cell_type": "code",
   "execution_count": null,
   "metadata": {},
   "outputs": [],
   "source": []
  },
  {
   "cell_type": "code",
   "execution_count": 30,
   "metadata": {},
   "outputs": [
    {
     "name": "stdout",
     "output_type": "stream",
     "text": [
      "Initial Population (Sample): [[0.72228221 0.19843737 0.97752109 0.91241422 0.83326828 0.14390333]\n",
      " [0.19356005 0.52150533 0.6740478  0.00622446 0.80723656 0.5280876 ]\n",
      " [0.80986167 0.33759767 0.98004748 0.77232946 0.30545519 0.34752008]\n",
      " [0.90865015 0.22479772 0.00134365 0.43583909 0.03022961 0.12645795]\n",
      " [0.35526475 0.94589549 0.91143808 0.6146227  0.45403992 0.98530107]]\n",
      "Initial Fitness Scores (Sample): [-0.09706006219968918, -0.32152704525152376, 0.07952003337189328, 0.4462262980889344, -0.3180599490906642]\n",
      "Generation 20/200, Best Fitness: 0.5766430781041431\n",
      "Generation 40/200, Best Fitness: 0.588202726691526\n",
      "Generation 60/200, Best Fitness: 0.588202726691526\n",
      "Generation 80/200, Best Fitness: 0.588202726691526\n",
      "Generation 100/200, Best Fitness: 0.588202726691526\n",
      "Generation 120/200, Best Fitness: 0.588202726691526\n",
      "Generation 140/200, Best Fitness: 0.588202726691526\n",
      "Generation 160/200, Best Fitness: 0.588202726691526\n",
      "Generation 180/200, Best Fitness: 0.588202726691526\n",
      "Generation 200/200, Best Fitness: 0.588202726691526\n",
      "Best Individual after Evolution: [0.90865015 0.22479772 0.00134365 0.43583909 0.03022961 0.12645795]\n",
      "Best Fitness Score: 0.588202726691526\n"
     ]
    },
    {
     "data": {
      "image/png": "[encoded data removed]",
      "text/plain": [
       "<Figure size 1000x600 with 1 Axes>"
      ]
     },
     "metadata": {},
     "output_type": "display_data"
    }
   ],
   "source": [
    "import numpy as np\n",
    "\n",
    "# Step 1.1: Define updated EGA parameters\n",
    "population_size = 200  # Increased population size\n",
    "num_generations = 200  # Increased number of generations\n",
    "crossover_rate = 0.8  # Initial crossover rate\n",
    "mutation_rate = 0.05  # Initial mutation rate\n",
    "\n",
    "# Step 1.2: Initialize population with random weights (0 to 1)\n",
    "def initialize_population(population_size, num_features=6):\n",
    "    return np.random.rand(population_size, num_features)\n",
    "\n",
    "# Step 1.3: Define the EGA population\n",
    "population = initialize_population(population_size)\n",
    "print(\"Initial Population (Sample):\", population[:5])\n",
    "\n",
    "# Step 1.4: Evaluate initial population fitness\n",
    "fitness_scores = [fitness_function(individual, df) for individual in population]\n",
    "print(\"Initial Fitness Scores (Sample):\", fitness_scores[:5])\n",
    "\n",
    "# Step 1.5: Set up a function for dynamic crossover and mutation rate adjustment\n",
    "def adjust_rates(t, T, initial_rate, final_rate):\n",
    "    return initial_rate * (1 - t/T) + final_rate * (t/T)\n",
    "\n",
    "# Updated final rates\n",
    "final_crossover_rate = 0.5  # Reduced final crossover rate for better convergence\n",
    "final_mutation_rate = 0.01  # Reduced final mutation rate to maintain diversity\n",
    "\n",
    "# Step 1.6: Define rank-based selection\n",
    "def rank_based_selection(population, fitness_scores, num_parents):\n",
    "    sorted_indices = np.argsort(fitness_scores)[::-1]  # Descending order\n",
    "    return population[sorted_indices[:num_parents]]\n",
    "\n",
    "# Step 1.7: Define crossover operation\n",
    "def crossover(parents, crossover_rate):\n",
    "    offspring = []\n",
    "    num_parents = len(parents)\n",
    "    for i in range(num_parents - 1):\n",
    "        if np.random.rand() < crossover_rate:\n",
    "            # Single-point crossover\n",
    "            crossover_point = np.random.randint(1, parents.shape[1])\n",
    "            parent1, parent2 = parents[i], parents[i+1]\n",
    "            child1 = np.concatenate([parent1[:crossover_point], parent2[crossover_point:]])\n",
    "            child2 = np.concatenate([parent2[:crossover_point], parent1[crossover_point:]])\n",
    "            offspring.extend([child1, child2])\n",
    "        else:\n",
    "            offspring.extend([parents[i], parents[i+1]])\n",
    "    return np.array(offspring[:num_parents])\n",
    "\n",
    "# Step 1.8: Define mutation operation\n",
    "def mutation(offspring, mutation_rate):\n",
    "    for i in range(offspring.shape[0]):\n",
    "        for j in range(offspring.shape[1]):\n",
    "            if np.random.rand() < mutation_rate:\n",
    "                offspring[i, j] += np.random.uniform(-0.1, 0.1)  # Small mutation\n",
    "                offspring[i, j] = np.clip(offspring[i, j], 0, 1)  # Ensure within bounds\n",
    "    return offspring\n",
    "\n",
    "# Step 1.9: Implement EGA with increased complexity\n",
    "num_parents = 20  # Increased number of parents for reproduction\n",
    "best_fitness_scores = []  # Store the best fitness scores across generations\n",
    "best_individual = None  # Track the best individual across generations\n",
    "\n",
    "for generation in range(num_generations):\n",
    "    # Step 1.9.1: Evaluate fitness for the current population\n",
    "    fitness_scores = [fitness_function(individual, df) for individual in population]\n",
    "    best_fitness = max(fitness_scores)\n",
    "    best_fitness_scores.append(best_fitness)\n",
    "\n",
    "    # Track the best individual\n",
    "    if best_individual is None or best_fitness > max(best_fitness_scores):\n",
    "        best_individual = population[np.argmax(fitness_scores)]\n",
    "\n",
    "    # Step 1.9.2: Select individuals for reproduction\n",
    "    selected_individuals = rank_based_selection(population, fitness_scores, num_parents)\n",
    "\n",
    "    # Step 1.9.3: Apply crossover to generate offspring\n",
    "    offspring = crossover(selected_individuals, crossover_rate)\n",
    "\n",
    "    # Step 1.9.4: Apply mutation to introduce diversity\n",
    "    offspring = mutation(offspring, mutation_rate)\n",
    "\n",
    "    # Step 1.9.5: Apply elitism to retain the best individual\n",
    "    population = np.vstack([offspring, best_individual.reshape(1, -1)])\n",
    "\n",
    "    # Step 1.9.6: Adjust crossover and mutation rates dynamically\n",
    "    crossover_rate = adjust_rates(generation, num_generations, 0.8, 0.5)\n",
    "    mutation_rate = adjust_rates(generation, num_generations, 0.05, 0.01)\n",
    "\n",
    "    # Print progress for every 20 generations\n",
    "    if (generation + 1) % 20 == 0:\n",
    "        print(f\"Generation {generation + 1}/{num_generations}, Best Fitness: {best_fitness}\")\n",
    "\n",
    "# Step 1.10: Final Results after increased complexity\n",
    "print(\"Best Individual after Evolution:\", best_individual)\n",
    "print(\"Best Fitness Score:\", max(best_fitness_scores))\n",
    "\n",
    "# Step 1.11: Analyze fitness progression over generations\n",
    "import matplotlib.pyplot as plt\n",
    "\n",
    "plt.figure(figsize=(10, 6))\n",
    "plt.plot(range(1, num_generations + 1), best_fitness_scores, marker='o')\n",
    "plt.xlabel('Generation')\n",
    "plt.ylabel('Best Fitness Score')\n",
    "plt.title('Updated Fitness Score Progression Over Generations')\n",
    "plt.grid(True)\n",
    "plt.show()"
   ]
  },
  {
   "cell_type": "markdown",
   "metadata": {},
   "source": [
    "### Pareto Front Visualization"
   ]
  },
  {
   "cell_type": "markdown",
   "metadata": {},
   "source": []
  },
  {
   "cell_type": "code",
   "execution_count": 31,
   "metadata": {},
   "outputs": [
    {
     "data": {
      "image/png": "[encoded data removed]",
      "text/plain": [
       "<Figure size 1000x700 with 1 Axes>"
      ]
     },
     "metadata": {},
     "output_type": "display_data"
    }
   ],
   "source": [
    "import matplotlib.pyplot as plt\n",
    "from mpl_toolkits.mplot3d import Axes3D\n",
    "\n",
    "# Step 2.1: Calculate objectives for Pareto visualization\n",
    "def calculate_objectives(individual, df):\n",
    "    hdi = df['HDI_5yr_Rolling_Avg'].mean()\n",
    "    co2 = df['Carbon dioxide emissions per capita (production) (tonnes) (2021)'].mean()\n",
    "    material_footprint = df['Material footprint per capita (tonnes) (2021)'].mean()\n",
    "    \n",
    "    # Weighted objectives based on the individual's weights\n",
    "    max_hdi = individual[0] * hdi\n",
    "    min_co2 = individual[1] * co2\n",
    "    min_material_footprint = individual[2] * material_footprint\n",
    "    \n",
    "    return max_hdi, min_co2, min_material_footprint\n",
    "\n",
    "# Step 2.2: Generate Pareto solutions from the final population\n",
    "pareto_solutions = [calculate_objectives(ind, df) for ind in population]\n",
    "\n",
    "# Step 2.3: Extract objectives for visualization\n",
    "max_hdi_vals = [sol[0] for sol in pareto_solutions]\n",
    "min_co2_vals = [sol[1] for sol in pareto_solutions]\n",
    "min_material_vals = [sol[2] for sol in pareto_solutions]\n",
    "\n",
    "# Step 2.4: Plot Pareto front\n",
    "fig = plt.figure(figsize=(10, 7))\n",
    "ax = fig.add_subplot(111, projection='3d')\n",
    "ax.scatter(max_hdi_vals, min_co2_vals, min_material_vals, c='b', marker='o')\n",
    "ax.set_xlabel('Maximize HDI')\n",
    "ax.set_ylabel('Minimize CO2 Emissions')\n",
    "ax.set_zlabel('Minimize Material Footprint')\n",
    "ax.set_title('Pareto Front for Multi-Objective Optimization')\n",
    "plt.show()"
   ]
  },
  {
   "cell_type": "markdown",
   "metadata": {},
   "source": []
  },
  {
   "cell_type": "markdown",
   "metadata": {},
   "source": [
    "## XGBoost Validation"
   ]
  },
  {
   "cell_type": "code",
   "execution_count": 32,
   "metadata": {},
   "outputs": [
    {
     "name": "stdout",
     "output_type": "stream",
     "text": [
      "XGBoost Validation RMSE: 0.0135\n",
      "XGBoost Validation R²: 0.9963\n",
      "XGBoost Validation MAE: 0.0097\n"
     ]
    },
    {
     "name": "stderr",
     "output_type": "stream",
     "text": [
      "/Library/Frameworks/Python.framework/Versions/3.12/lib/python3.12/site-packages/sklearn/metrics/_regression.py:492: FutureWarning: 'squared' is deprecated in version 1.4 and will be removed in 1.6. To calculate the root mean squared error, use the function'root_mean_squared_error'.\n",
      "  warnings.warn(\n"
     ]
    }
   ],
   "source": [
    "import xgboost as xgb\n",
    "from sklearn.model_selection import train_test_split\n",
    "from sklearn.metrics import mean_squared_error, r2_score, mean_absolute_error\n",
    "\n",
    "# Step 3.1: Split the data\n",
    "X = selected_features  # Using optimized features from EGA\n",
    "y = df['HDI_5yr_Rolling_Avg']  # Target variable (HDI)\n",
    "\n",
    "# Split into training, validation, and testing sets (60-20-20)\n",
    "X_train, X_temp, y_train, y_temp = train_test_split(X, y, test_size=0.4, random_state=42)\n",
    "X_val, X_test, y_val, y_test = train_test_split(X_temp, y_temp, test_size=0.5, random_state=42)\n",
    "\n",
    "# Step 3.2: Define and train XGBoost model\n",
    "xgb_model = xgb.XGBRegressor(objective='reg:squarederror', max_depth=6, learning_rate=0.1, n_estimators=100, random_state=42)\n",
    "xgb_model.fit(X_train, y_train)\n",
    "\n",
    "# Step 3.3: Predict and evaluate on validation set\n",
    "y_pred_val = xgb_model.predict(X_val)\n",
    "\n",
    "# Calculate validation metrics\n",
    "rmse_val = mean_squared_error(y_val, y_pred_val, squared=False)\n",
    "r2_val = r2_score(y_val, y_pred_val)\n",
    "mae_val = mean_absolute_error(y_val, y_pred_val)\n",
    "\n",
    "# Display validation metrics\n",
    "print(f\"XGBoost Validation RMSE: {rmse_val:.4f}\")\n",
    "print(f\"XGBoost Validation R²: {r2_val:.4f}\")\n",
    "print(f\"XGBoost Validation MAE: {mae_val:.4f}\")"
   ]
  },
  {
   "cell_type": "markdown",
   "metadata": {},
   "source": [
    "## LightGBM Validation"
   ]
  },
  {
   "cell_type": "markdown",
   "metadata": {},
   "source": []
  },
  {
   "cell_type": "code",
   "execution_count": 37,
   "metadata": {},
   "outputs": [
    {
     "name": "stdout",
     "output_type": "stream",
     "text": [
      "Best Number of Boosting Rounds: 1000\n",
      "LightGBM Validation RMSE: 0.0455\n",
      "LightGBM Validation R²: 0.9582\n",
      "LightGBM Validation MAE: 0.0346\n"
     ]
    }
   ],
   "source": [
    "import lightgbm as lgb\n",
    "from sklearn.metrics import root_mean_squared_error, r2_score, mean_absolute_error\n",
    "\n",
    "# Step 4.1: Prepare LightGBM Dataset\n",
    "d_train = lgb.Dataset(X_train, label=y_train)\n",
    "\n",
    "# Step 4.2: Define LightGBM parameters\n",
    "params = {\n",
    "    'objective': 'regression',\n",
    "    'metric': 'rmse',\n",
    "    'learning_rate': 0.1,\n",
    "    'num_leaves': 31,\n",
    "    'max_depth': -1,\n",
    "}\n",
    "\n",
    "# Step 4.3: Cross-validation to find the best number of boosting rounds\n",
    "cv_results = lgb.cv(\n",
    "    params,\n",
    "    d_train,\n",
    "    num_boost_round=1000,\n",
    "    nfold=5,\n",
    "    stratified=False,\n",
    "    metrics='rmse',\n",
    "    seed=42\n",
    ")\n",
    "\n",
    "# Extract the best number of boosting rounds based on the available keys\n",
    "best_num_boost_round = len(cv_results['valid rmse-mean'])\n",
    "print(f\"Best Number of Boosting Rounds: {best_num_boost_round}\")\n",
    "\n",
    "# Step 4.4: Train the final LightGBM model using the best number of rounds\n",
    "lgb_model = lgb.train(\n",
    "    params,\n",
    "    d_train,\n",
    "    num_boost_round=best_num_boost_round\n",
    ")\n",
    "\n",
    "# Step 4.5: Predict on validation set\n",
    "y_pred_lgb = lgb_model.predict(X_val)\n",
    "\n",
    "# Step 4.6: Calculate validation metrics\n",
    "rmse_lgb = root_mean_squared_error(y_val, y_pred_lgb)\n",
    "r2_lgb = r2_score(y_val, y_pred_lgb)\n",
    "mae_lgb = mean_absolute_error(y_val, y_pred_lgb)\n",
    "\n",
    "# Display validation metrics for LightGBM\n",
    "print(f\"LightGBM Validation RMSE: {rmse_lgb:.4f}\")\n",
    "print(f\"LightGBM Validation R²: {r2_lgb:.4f}\")\n",
    "print(f\"LightGBM Validation MAE: {mae_lgb:.4f}\")"
   ]
  },
  {
   "cell_type": "code",
   "execution_count": null,
   "metadata": {},
   "outputs": [],
   "source": []
  },
  {
   "cell_type": "markdown",
   "metadata": {},
   "source": [
    "# LSTM Model"
   ]
  },
  {
   "cell_type": "code",
   "execution_count": 39,
   "metadata": {},
   "outputs": [
    {
     "name": "stdout",
     "output_type": "stream",
     "text": [
      "Training data shape for LSTM: (156, 1, 8)\n",
      "Validation data shape for LSTM: (39, 1, 8)\n"
     ]
    }
   ],
   "source": [
    "import numpy as np\n",
    "from sklearn.preprocessing import MinMaxScaler\n",
    "from sklearn.model_selection import train_test_split\n",
    "\n",
    "# Selected features for LSTM implementation\n",
    "features_lstm = df[[\n",
    "    'HDI_5yr_Rolling_Avg', \n",
    "    'GNI_5yr_Rolling_Avg', \n",
    "    'Life_Expectancy_5yr_Rolling_Avg', \n",
    "    'Carbon dioxide emissions per capita (production) (tonnes) (2021)',\n",
    "    'Material footprint per capita (tonnes) (2021)',\n",
    "    'HDI_Male_Female_Disparity', \n",
    "    'Life_Expectancy_Male_Female_Disparity',\n",
    "    'GNI_Male_Female_Disparity'\n",
    "]].values\n",
    "\n",
    "# Normalize the features using MinMaxScaler\n",
    "scaler = MinMaxScaler(feature_range=(0, 1))\n",
    "features_lstm_scaled = scaler.fit_transform(features_lstm)\n",
    "\n",
    "# Define time steps (we use 1 timestep for a standard LSTM input)\n",
    "timesteps = 1\n",
    "\n",
    "# Reshape data to 3D for LSTM input: (samples, timesteps, features)\n",
    "X_lstm = np.reshape(features_lstm_scaled, (features_lstm_scaled.shape[0], timesteps, features_lstm_scaled.shape[1]))\n",
    "\n",
    "# Define target as HDI (example); it can be CO2 or material footprint based on the goal\n",
    "y_lstm = df['HDI_5yr_Rolling_Avg'].values\n",
    "\n",
    "# Split the data into train and validation sets\n",
    "X_train_lstm, X_val_lstm, y_train_lstm, y_val_lstm = train_test_split(X_lstm, y_lstm, test_size=0.2, random_state=42)\n",
    "\n",
    "# Display the shapes for verification\n",
    "print(f\"Training data shape for LSTM: {X_train_lstm.shape}\")\n",
    "print(f\"Validation data shape for LSTM: {X_val_lstm.shape}\")"
   ]
  },
  {
   "cell_type": "code",
   "execution_count": 49,
   "metadata": {},
   "outputs": [
    {
     "data": {
      "text/html": [
       "<pre style=\"white-space:pre;overflow-x:auto;line-height:normal;font-family:Menlo,'DejaVu Sans Mono',consolas,'Courier New',monospace\"><span style=\"font-weight: bold\">Model: \"sequential_139\"</span>\n",
       "</pre>\n"
      ],
      "text/plain": [
       "\u001b[1mModel: \"sequential_139\"\u001b[0m\n"
      ]
     },
     "metadata": {},
     "output_type": "display_data"
    },
    {
     "data": {
      "text/html": [
       "<pre style=\"white-space:pre;overflow-x:auto;line-height:normal;font-family:Menlo,'DejaVu Sans Mono',consolas,'Courier New',monospace\">┏━━━━━━━━━━━━━━━━━━━━━━━━━━━━━━━━━┳━━━━━━━━━━━━━━━━━━━━━━━━┳━━━━━━━━━━━━━━━┓\n",
       "┃<span style=\"font-weight: bold\"> Layer (type)                    </span>┃<span style=\"font-weight: bold\"> Output Shape           </span>┃<span style=\"font-weight: bold\">       Param # </span>┃\n",
       "┡━━━━━━━━━━━━━━━━━━━━━━━━━━━━━━━━━╇━━━━━━━━━━━━━━━━━━━━━━━━╇━━━━━━━━━━━━━━━┩\n",
       "│ lstm_139 (<span style=\"color: #0087ff; text-decoration-color: #0087ff\">LSTM</span>)                 │ (<span style=\"color: #00d7ff; text-decoration-color: #00d7ff\">None</span>, <span style=\"color: #00af00; text-decoration-color: #00af00\">64</span>)             │        <span style=\"color: #00af00; text-decoration-color: #00af00\">18,688</span> │\n",
       "├─────────────────────────────────┼────────────────────────┼───────────────┤\n",
       "│ dropout_139 (<span style=\"color: #0087ff; text-decoration-color: #0087ff\">Dropout</span>)           │ (<span style=\"color: #00d7ff; text-decoration-color: #00d7ff\">None</span>, <span style=\"color: #00af00; text-decoration-color: #00af00\">64</span>)             │             <span style=\"color: #00af00; text-decoration-color: #00af00\">0</span> │\n",
       "├─────────────────────────────────┼────────────────────────┼───────────────┤\n",
       "│ dense_278 (<span style=\"color: #0087ff; text-decoration-color: #0087ff\">Dense</span>)               │ (<span style=\"color: #00d7ff; text-decoration-color: #00d7ff\">None</span>, <span style=\"color: #00af00; text-decoration-color: #00af00\">32</span>)             │         <span style=\"color: #00af00; text-decoration-color: #00af00\">2,080</span> │\n",
       "├─────────────────────────────────┼────────────────────────┼───────────────┤\n",
       "│ dense_279 (<span style=\"color: #0087ff; text-decoration-color: #0087ff\">Dense</span>)               │ (<span style=\"color: #00d7ff; text-decoration-color: #00d7ff\">None</span>, <span style=\"color: #00af00; text-decoration-color: #00af00\">1</span>)              │            <span style=\"color: #00af00; text-decoration-color: #00af00\">33</span> │\n",
       "└─────────────────────────────────┴────────────────────────┴───────────────┘\n",
       "</pre>\n"
      ],
      "text/plain": [
       "┏━━━━━━━━━━━━━━━━━━━━━━━━━━━━━━━━━┳━━━━━━━━━━━━━━━━━━━━━━━━┳━━━━━━━━━━━━━━━┓\n",
       "┃\u001b[1m \u001b[0m\u001b[1mLayer (type)                   \u001b[0m\u001b[1m \u001b[0m┃\u001b[1m \u001b[0m\u001b[1mOutput Shape          \u001b[0m\u001b[1m \u001b[0m┃\u001b[1m \u001b[0m\u001b[1m      Param #\u001b[0m\u001b[1m \u001b[0m┃\n",
       "┡━━━━━━━━━━━━━━━━━━━━━━━━━━━━━━━━━╇━━━━━━━━━━━━━━━━━━━━━━━━╇━━━━━━━━━━━━━━━┩\n",
       "│ lstm_139 (\u001b[38;5;33mLSTM\u001b[0m)                 │ (\u001b[38;5;45mNone\u001b[0m, \u001b[38;5;34m64\u001b[0m)             │        \u001b[38;5;34m18,688\u001b[0m │\n",
       "├─────────────────────────────────┼────────────────────────┼───────────────┤\n",
       "│ dropout_139 (\u001b[38;5;33mDropout\u001b[0m)           │ (\u001b[38;5;45mNone\u001b[0m, \u001b[38;5;34m64\u001b[0m)             │             \u001b[38;5;34m0\u001b[0m │\n",
       "├─────────────────────────────────┼────────────────────────┼───────────────┤\n",
       "│ dense_278 (\u001b[38;5;33mDense\u001b[0m)               │ (\u001b[38;5;45mNone\u001b[0m, \u001b[38;5;34m32\u001b[0m)             │         \u001b[38;5;34m2,080\u001b[0m │\n",
       "├─────────────────────────────────┼────────────────────────┼───────────────┤\n",
       "│ dense_279 (\u001b[38;5;33mDense\u001b[0m)               │ (\u001b[38;5;45mNone\u001b[0m, \u001b[38;5;34m1\u001b[0m)              │            \u001b[38;5;34m33\u001b[0m │\n",
       "└─────────────────────────────────┴────────────────────────┴───────────────┘\n"
      ]
     },
     "metadata": {},
     "output_type": "display_data"
    },
    {
     "data": {
      "text/html": [
       "<pre style=\"white-space:pre;overflow-x:auto;line-height:normal;font-family:Menlo,'DejaVu Sans Mono',consolas,'Courier New',monospace\"><span style=\"font-weight: bold\"> Total params: </span><span style=\"color: #00af00; text-decoration-color: #00af00\">20,801</span> (81.25 KB)\n",
       "</pre>\n"
      ],
      "text/plain": [
       "\u001b[1m Total params: \u001b[0m\u001b[38;5;34m20,801\u001b[0m (81.25 KB)\n"
      ]
     },
     "metadata": {},
     "output_type": "display_data"
    },
    {
     "data": {
      "text/html": [
       "<pre style=\"white-space:pre;overflow-x:auto;line-height:normal;font-family:Menlo,'DejaVu Sans Mono',consolas,'Courier New',monospace\"><span style=\"font-weight: bold\"> Trainable params: </span><span style=\"color: #00af00; text-decoration-color: #00af00\">20,801</span> (81.25 KB)\n",
       "</pre>\n"
      ],
      "text/plain": [
       "\u001b[1m Trainable params: \u001b[0m\u001b[38;5;34m20,801\u001b[0m (81.25 KB)\n"
      ]
     },
     "metadata": {},
     "output_type": "display_data"
    },
    {
     "data": {
      "text/html": [
       "<pre style=\"white-space:pre;overflow-x:auto;line-height:normal;font-family:Menlo,'DejaVu Sans Mono',consolas,'Courier New',monospace\"><span style=\"font-weight: bold\"> Non-trainable params: </span><span style=\"color: #00af00; text-decoration-color: #00af00\">0</span> (0.00 B)\n",
       "</pre>\n"
      ],
      "text/plain": [
       "\u001b[1m Non-trainable params: \u001b[0m\u001b[38;5;34m0\u001b[0m (0.00 B)\n"
      ]
     },
     "metadata": {},
     "output_type": "display_data"
    }
   ],
   "source": [
    "from tensorflow.keras.models import Sequential\n",
    "from tensorflow.keras.layers import LSTM, Dense, Dropout\n",
    "\n",
    "def build_lstm_model(input_shape):\n",
    "    model = Sequential()\n",
    "    # Add LSTM layer\n",
    "    model.add(LSTM(units=64, input_shape=input_shape, return_sequences=False))\n",
    "    model.add(Dropout(0.2))  # Dropout for regularization\n",
    "    # Dense layer for output\n",
    "    model.add(Dense(units=32, activation='relu'))\n",
    "    model.add(Dense(units=1, activation='linear'))  # Linear activation for regression\n",
    "    \n",
    "    # Compile model\n",
    "    model.compile(optimizer='adam', loss='mean_squared_error', metrics=['mae'])\n",
    "    return model\n",
    "\n",
    "# Define input shape for the model\n",
    "input_shape_lstm = (X_train_lstm.shape[1], X_train_lstm.shape[2])\n",
    "\n",
    "# Create and summarize the LSTM model\n",
    "lstm_model = build_lstm_model(input_shape_lstm)\n",
    "lstm_model.summary()"
   ]
  },
  {
   "cell_type": "code",
   "execution_count": 50,
   "metadata": {},
   "outputs": [
    {
     "name": "stdout",
     "output_type": "stream",
     "text": [
      "Epoch 1/50\n",
      "\u001b[1m10/10\u001b[0m \u001b[32m━━━━━━━━━━━━━━━━━━━━\u001b[0m\u001b[37m\u001b[0m \u001b[1m1s\u001b[0m 11ms/step - loss: 0.4463 - mae: 0.6230 - val_loss: 0.2923 - val_mae: 0.4824\n",
      "Epoch 2/50\n",
      "\u001b[1m10/10\u001b[0m \u001b[32m━━━━━━━━━━━━━━━━━━━━\u001b[0m\u001b[37m\u001b[0m \u001b[1m0s\u001b[0m 2ms/step - loss: 0.2924 - mae: 0.4969 - val_loss: 0.1854 - val_mae: 0.3741\n",
      "Epoch 3/50\n",
      "\u001b[1m10/10\u001b[0m \u001b[32m━━━━━━━━━━━━━━━━━━━━\u001b[0m\u001b[37m\u001b[0m \u001b[1m0s\u001b[0m 2ms/step - loss: 0.1627 - mae: 0.3562 - val_loss: 0.0897 - val_mae: 0.2534\n",
      "Epoch 4/50\n",
      "\u001b[1m10/10\u001b[0m \u001b[32m━━━━━━━━━━━━━━━━━━━━\u001b[0m\u001b[37m\u001b[0m \u001b[1m0s\u001b[0m 2ms/step - loss: 0.0815 - mae: 0.2504 - val_loss: 0.0309 - val_mae: 0.1533\n",
      "Epoch 5/50\n",
      "\u001b[1m10/10\u001b[0m \u001b[32m━━━━━━━━━━━━━━━━━━━━\u001b[0m\u001b[37m\u001b[0m \u001b[1m0s\u001b[0m 2ms/step - loss: 0.0252 - mae: 0.1340 - val_loss: 0.0252 - val_mae: 0.1226\n",
      "Epoch 6/50\n",
      "\u001b[1m10/10\u001b[0m \u001b[32m━━━━━━━━━━━━━━━━━━━━\u001b[0m\u001b[37m\u001b[0m \u001b[1m0s\u001b[0m 2ms/step - loss: 0.0244 - mae: 0.1235 - val_loss: 0.0244 - val_mae: 0.1200\n",
      "Epoch 7/50\n",
      "\u001b[1m10/10\u001b[0m \u001b[32m━━━━━━━━━━━━━━━━━━━━\u001b[0m\u001b[37m\u001b[0m \u001b[1m0s\u001b[0m 2ms/step - loss: 0.0232 - mae: 0.1212 - val_loss: 0.0183 - val_mae: 0.1084\n",
      "Epoch 8/50\n",
      "\u001b[1m10/10\u001b[0m \u001b[32m━━━━━━━━━━━━━━━━━━━━\u001b[0m\u001b[37m\u001b[0m \u001b[1m0s\u001b[0m 2ms/step - loss: 0.0195 - mae: 0.1142 - val_loss: 0.0164 - val_mae: 0.1060\n",
      "Epoch 9/50\n",
      "\u001b[1m10/10\u001b[0m \u001b[32m━━━━━━━━━━━━━━━━━━━━\u001b[0m\u001b[37m\u001b[0m \u001b[1m0s\u001b[0m 2ms/step - loss: 0.0173 - mae: 0.1121 - val_loss: 0.0146 - val_mae: 0.0989\n",
      "Epoch 10/50\n",
      "\u001b[1m10/10\u001b[0m \u001b[32m━━━━━━━━━━━━━━━━━━━━\u001b[0m\u001b[37m\u001b[0m \u001b[1m0s\u001b[0m 1ms/step - loss: 0.0200 - mae: 0.1131 - val_loss: 0.0131 - val_mae: 0.0903\n",
      "Epoch 11/50\n",
      "\u001b[1m10/10\u001b[0m \u001b[32m━━━━━━━━━━━━━━━━━━━━\u001b[0m\u001b[37m\u001b[0m \u001b[1m0s\u001b[0m 1ms/step - loss: 0.0157 - mae: 0.1036 - val_loss: 0.0117 - val_mae: 0.0842\n",
      "Epoch 12/50\n",
      "\u001b[1m10/10\u001b[0m \u001b[32m━━━━━━━━━━━━━━━━━━━━\u001b[0m\u001b[37m\u001b[0m \u001b[1m0s\u001b[0m 2ms/step - loss: 0.0161 - mae: 0.1017 - val_loss: 0.0105 - val_mae: 0.0788\n",
      "Epoch 13/50\n",
      "\u001b[1m10/10\u001b[0m \u001b[32m━━━━━━━━━━━━━━━━━━━━\u001b[0m\u001b[37m\u001b[0m \u001b[1m0s\u001b[0m 2ms/step - loss: 0.0142 - mae: 0.0942 - val_loss: 0.0093 - val_mae: 0.0734\n",
      "Epoch 14/50\n",
      "\u001b[1m10/10\u001b[0m \u001b[32m━━━━━━━━━━━━━━━━━━━━\u001b[0m\u001b[37m\u001b[0m \u001b[1m0s\u001b[0m 1ms/step - loss: 0.0102 - mae: 0.0777 - val_loss: 0.0082 - val_mae: 0.0679\n",
      "Epoch 15/50\n",
      "\u001b[1m10/10\u001b[0m \u001b[32m━━━━━━━━━━━━━━━━━━━━\u001b[0m\u001b[37m\u001b[0m \u001b[1m0s\u001b[0m 1ms/step - loss: 0.0114 - mae: 0.0855 - val_loss: 0.0074 - val_mae: 0.0636\n",
      "Epoch 16/50\n",
      "\u001b[1m10/10\u001b[0m \u001b[32m━━━━━━━━━━━━━━━━━━━━\u001b[0m\u001b[37m\u001b[0m \u001b[1m0s\u001b[0m 2ms/step - loss: 0.0100 - mae: 0.0785 - val_loss: 0.0067 - val_mae: 0.0608\n",
      "Epoch 17/50\n",
      "\u001b[1m10/10\u001b[0m \u001b[32m━━━━━━━━━━━━━━━━━━━━\u001b[0m\u001b[37m\u001b[0m \u001b[1m0s\u001b[0m 2ms/step - loss: 0.0103 - mae: 0.0755 - val_loss: 0.0062 - val_mae: 0.0562\n",
      "Epoch 18/50\n",
      "\u001b[1m10/10\u001b[0m \u001b[32m━━━━━━━━━━━━━━━━━━━━\u001b[0m\u001b[37m\u001b[0m \u001b[1m0s\u001b[0m 2ms/step - loss: 0.0077 - mae: 0.0668 - val_loss: 0.0058 - val_mae: 0.0532\n",
      "Epoch 19/50\n",
      "\u001b[1m10/10\u001b[0m \u001b[32m━━━━━━━━━━━━━━━━━━━━\u001b[0m\u001b[37m\u001b[0m \u001b[1m0s\u001b[0m 2ms/step - loss: 0.0072 - mae: 0.0656 - val_loss: 0.0056 - val_mae: 0.0515\n",
      "Epoch 20/50\n",
      "\u001b[1m10/10\u001b[0m \u001b[32m━━━━━━━━━━━━━━━━━━━━\u001b[0m\u001b[37m\u001b[0m \u001b[1m0s\u001b[0m 2ms/step - loss: 0.0046 - mae: 0.0546 - val_loss: 0.0055 - val_mae: 0.0506\n",
      "Epoch 21/50\n",
      "\u001b[1m10/10\u001b[0m \u001b[32m━━━━━━━━━━━━━━━━━━━━\u001b[0m\u001b[37m\u001b[0m \u001b[1m0s\u001b[0m 2ms/step - loss: 0.0065 - mae: 0.0600 - val_loss: 0.0053 - val_mae: 0.0493\n",
      "Epoch 22/50\n",
      "\u001b[1m10/10\u001b[0m \u001b[32m━━━━━━━━━━━━━━━━━━━━\u001b[0m\u001b[37m\u001b[0m \u001b[1m0s\u001b[0m 1ms/step - loss: 0.0054 - mae: 0.0595 - val_loss: 0.0051 - val_mae: 0.0488\n",
      "Epoch 23/50\n",
      "\u001b[1m10/10\u001b[0m \u001b[32m━━━━━━━━━━━━━━━━━━━━\u001b[0m\u001b[37m\u001b[0m \u001b[1m0s\u001b[0m 1ms/step - loss: 0.0056 - mae: 0.0550 - val_loss: 0.0050 - val_mae: 0.0485\n",
      "Epoch 24/50\n",
      "\u001b[1m10/10\u001b[0m \u001b[32m━━━━━━━━━━━━━━━━━━━━\u001b[0m\u001b[37m\u001b[0m \u001b[1m0s\u001b[0m 2ms/step - loss: 0.0055 - mae: 0.0588 - val_loss: 0.0050 - val_mae: 0.0478\n",
      "Epoch 25/50\n",
      "\u001b[1m10/10\u001b[0m \u001b[32m━━━━━━━━━━━━━━━━━━━━\u001b[0m\u001b[37m\u001b[0m \u001b[1m0s\u001b[0m 1ms/step - loss: 0.0047 - mae: 0.0541 - val_loss: 0.0050 - val_mae: 0.0457\n",
      "Epoch 26/50\n",
      "\u001b[1m10/10\u001b[0m \u001b[32m━━━━━━━━━━━━━━━━━━━━\u001b[0m\u001b[37m\u001b[0m \u001b[1m0s\u001b[0m 2ms/step - loss: 0.0069 - mae: 0.0547 - val_loss: 0.0049 - val_mae: 0.0451\n",
      "Epoch 27/50\n",
      "\u001b[1m10/10\u001b[0m \u001b[32m━━━━━━━━━━━━━━━━━━━━\u001b[0m\u001b[37m\u001b[0m \u001b[1m0s\u001b[0m 1ms/step - loss: 0.0033 - mae: 0.0441 - val_loss: 0.0048 - val_mae: 0.0456\n",
      "Epoch 28/50\n",
      "\u001b[1m10/10\u001b[0m \u001b[32m━━━━━━━━━━━━━━━━━━━━\u001b[0m\u001b[37m\u001b[0m \u001b[1m0s\u001b[0m 1ms/step - loss: 0.0039 - mae: 0.0437 - val_loss: 0.0048 - val_mae: 0.0469\n",
      "Epoch 29/50\n",
      "\u001b[1m10/10\u001b[0m \u001b[32m━━━━━━━━━━━━━━━━━━━━\u001b[0m\u001b[37m\u001b[0m \u001b[1m0s\u001b[0m 1ms/step - loss: 0.0052 - mae: 0.0565 - val_loss: 0.0045 - val_mae: 0.0465\n",
      "Epoch 30/50\n",
      "\u001b[1m10/10\u001b[0m \u001b[32m━━━━━━━━━━━━━━━━━━━━\u001b[0m\u001b[37m\u001b[0m \u001b[1m0s\u001b[0m 1ms/step - loss: 0.0037 - mae: 0.0490 - val_loss: 0.0046 - val_mae: 0.0467\n",
      "Epoch 31/50\n",
      "\u001b[1m10/10\u001b[0m \u001b[32m━━━━━━━━━━━━━━━━━━━━\u001b[0m\u001b[37m\u001b[0m \u001b[1m0s\u001b[0m 1ms/step - loss: 0.0049 - mae: 0.0549 - val_loss: 0.0044 - val_mae: 0.0459\n",
      "Epoch 32/50\n",
      "\u001b[1m10/10\u001b[0m \u001b[32m━━━━━━━━━━━━━━━━━━━━\u001b[0m\u001b[37m\u001b[0m \u001b[1m0s\u001b[0m 1ms/step - loss: 0.0037 - mae: 0.0479 - val_loss: 0.0043 - val_mae: 0.0439\n",
      "Epoch 33/50\n",
      "\u001b[1m10/10\u001b[0m \u001b[32m━━━━━━━━━━━━━━━━━━━━\u001b[0m\u001b[37m\u001b[0m \u001b[1m0s\u001b[0m 2ms/step - loss: 0.0035 - mae: 0.0447 - val_loss: 0.0043 - val_mae: 0.0435\n",
      "Epoch 34/50\n",
      "\u001b[1m10/10\u001b[0m \u001b[32m━━━━━━━━━━━━━━━━━━━━\u001b[0m\u001b[37m\u001b[0m \u001b[1m0s\u001b[0m 2ms/step - loss: 0.0041 - mae: 0.0521 - val_loss: 0.0041 - val_mae: 0.0431\n",
      "Epoch 35/50\n",
      "\u001b[1m10/10\u001b[0m \u001b[32m━━━━━━━━━━━━━━━━━━━━\u001b[0m\u001b[37m\u001b[0m \u001b[1m0s\u001b[0m 2ms/step - loss: 0.0049 - mae: 0.0530 - val_loss: 0.0041 - val_mae: 0.0427\n",
      "Epoch 36/50\n",
      "\u001b[1m10/10\u001b[0m \u001b[32m━━━━━━━━━━━━━━━━━━━━\u001b[0m\u001b[37m\u001b[0m \u001b[1m0s\u001b[0m 1ms/step - loss: 0.0043 - mae: 0.0510 - val_loss: 0.0040 - val_mae: 0.0429\n",
      "Epoch 37/50\n",
      "\u001b[1m10/10\u001b[0m \u001b[32m━━━━━━━━━━━━━━━━━━━━\u001b[0m\u001b[37m\u001b[0m \u001b[1m0s\u001b[0m 1ms/step - loss: 0.0032 - mae: 0.0444 - val_loss: 0.0039 - val_mae: 0.0423\n",
      "Epoch 38/50\n",
      "\u001b[1m10/10\u001b[0m \u001b[32m━━━━━━━━━━━━━━━━━━━━\u001b[0m\u001b[37m\u001b[0m \u001b[1m0s\u001b[0m 2ms/step - loss: 0.0032 - mae: 0.0458 - val_loss: 0.0037 - val_mae: 0.0423\n",
      "Epoch 39/50\n",
      "\u001b[1m10/10\u001b[0m \u001b[32m━━━━━━━━━━━━━━━━━━━━\u001b[0m\u001b[37m\u001b[0m \u001b[1m0s\u001b[0m 2ms/step - loss: 0.0035 - mae: 0.0467 - val_loss: 0.0036 - val_mae: 0.0417\n",
      "Epoch 40/50\n",
      "\u001b[1m10/10\u001b[0m \u001b[32m━━━━━━━━━━━━━━━━━━━━\u001b[0m\u001b[37m\u001b[0m \u001b[1m0s\u001b[0m 1ms/step - loss: 0.0032 - mae: 0.0442 - val_loss: 0.0036 - val_mae: 0.0413\n",
      "Epoch 41/50\n",
      "\u001b[1m10/10\u001b[0m \u001b[32m━━━━━━━━━━━━━━━━━━━━\u001b[0m\u001b[37m\u001b[0m \u001b[1m0s\u001b[0m 1ms/step - loss: 0.0043 - mae: 0.0511 - val_loss: 0.0035 - val_mae: 0.0407\n",
      "Epoch 42/50\n",
      "\u001b[1m10/10\u001b[0m \u001b[32m━━━━━━━━━━━━━━━━━━━━\u001b[0m\u001b[37m\u001b[0m \u001b[1m0s\u001b[0m 1ms/step - loss: 0.0037 - mae: 0.0494 - val_loss: 0.0034 - val_mae: 0.0399\n",
      "Epoch 43/50\n",
      "\u001b[1m10/10\u001b[0m \u001b[32m━━━━━━━━━━━━━━━━━━━━\u001b[0m\u001b[37m\u001b[0m \u001b[1m0s\u001b[0m 2ms/step - loss: 0.0033 - mae: 0.0435 - val_loss: 0.0034 - val_mae: 0.0396\n",
      "Epoch 44/50\n",
      "\u001b[1m10/10\u001b[0m \u001b[32m━━━━━━━━━━━━━━━━━━━━\u001b[0m\u001b[37m\u001b[0m \u001b[1m0s\u001b[0m 1ms/step - loss: 0.0031 - mae: 0.0445 - val_loss: 0.0033 - val_mae: 0.0395\n",
      "Epoch 45/50\n",
      "\u001b[1m10/10\u001b[0m \u001b[32m━━━━━━━━━━━━━━━━━━━━\u001b[0m\u001b[37m\u001b[0m \u001b[1m0s\u001b[0m 1ms/step - loss: 0.0042 - mae: 0.0500 - val_loss: 0.0032 - val_mae: 0.0384\n",
      "Epoch 46/50\n",
      "\u001b[1m10/10\u001b[0m \u001b[32m━━━━━━━━━━━━━━━━━━━━\u001b[0m\u001b[37m\u001b[0m \u001b[1m0s\u001b[0m 2ms/step - loss: 0.0033 - mae: 0.0454 - val_loss: 0.0031 - val_mae: 0.0383\n",
      "Epoch 47/50\n",
      "\u001b[1m10/10\u001b[0m \u001b[32m━━━━━━━━━━━━━━━━━━━━\u001b[0m\u001b[37m\u001b[0m \u001b[1m0s\u001b[0m 1ms/step - loss: 0.0036 - mae: 0.0471 - val_loss: 0.0031 - val_mae: 0.0372\n",
      "Epoch 48/50\n",
      "\u001b[1m10/10\u001b[0m \u001b[32m━━━━━━━━━━━━━━━━━━━━\u001b[0m\u001b[37m\u001b[0m \u001b[1m0s\u001b[0m 1ms/step - loss: 0.0029 - mae: 0.0437 - val_loss: 0.0030 - val_mae: 0.0371\n",
      "Epoch 49/50\n",
      "\u001b[1m10/10\u001b[0m \u001b[32m━━━━━━━━━━━━━━━━━━━━\u001b[0m\u001b[37m\u001b[0m \u001b[1m0s\u001b[0m 1ms/step - loss: 0.0029 - mae: 0.0433 - val_loss: 0.0030 - val_mae: 0.0364\n",
      "Epoch 50/50\n",
      "\u001b[1m10/10\u001b[0m \u001b[32m━━━━━━━━━━━━━━━━━━━━\u001b[0m\u001b[37m\u001b[0m \u001b[1m0s\u001b[0m 1ms/step - loss: 0.0032 - mae: 0.0445 - val_loss: 0.0029 - val_mae: 0.0364\n"
     ]
    }
   ],
   "source": [
    "# Train the model\n",
    "history_lstm = lstm_model.fit(\n",
    "    X_train_lstm, y_train_lstm, \n",
    "    validation_data=(X_val_lstm, y_val_lstm),\n",
    "    epochs=50,  # Adjust epochs for optimization\n",
    "    batch_size=16,  # Adjust batch size for optimization\n",
    "    verbose=1\n",
    ")"
   ]
  },
  {
   "cell_type": "code",
   "execution_count": 51,
   "metadata": {},
   "outputs": [
    {
     "name": "stdout",
     "output_type": "stream",
     "text": [
      "\u001b[1m2/2\u001b[0m \u001b[32m━━━━━━━━━━━━━━━━━━━━\u001b[0m\u001b[37m\u001b[0m \u001b[1m0s\u001b[0m 51ms/step\n",
      "LSTM Validation RMSE: 0.0535\n",
      "LSTM Validation R²: 0.9595\n",
      "LSTM Validation MAE: 0.0364\n"
     ]
    },
    {
     "name": "stderr",
     "output_type": "stream",
     "text": [
      "/Library/Frameworks/Python.framework/Versions/3.12/lib/python3.12/site-packages/sklearn/metrics/_regression.py:492: FutureWarning: 'squared' is deprecated in version 1.4 and will be removed in 1.6. To calculate the root mean squared error, use the function'root_mean_squared_error'.\n",
      "  warnings.warn(\n"
     ]
    }
   ],
   "source": [
    "from sklearn.metrics import mean_squared_error, r2_score, mean_absolute_error\n",
    "\n",
    "# Predict on the validation set\n",
    "y_pred_lstm = lstm_model.predict(X_val_lstm)\n",
    "\n",
    "# Calculate validation metrics\n",
    "rmse_lstm = mean_squared_error(y_val_lstm, y_pred_lstm, squared=False)  # RMSE\n",
    "r2_lstm = r2_score(y_val_lstm, y_pred_lstm)  # R²\n",
    "mae_lstm = mean_absolute_error(y_val_lstm, y_pred_lstm)  # MAE\n",
    "\n",
    "print(f\"LSTM Validation RMSE: {rmse_lstm:.4f}\")\n",
    "print(f\"LSTM Validation R²: {r2_lstm:.4f}\")\n",
    "print(f\"LSTM Validation MAE: {mae_lstm:.4f}\")"
   ]
  },
  {
   "cell_type": "code",
   "execution_count": null,
   "metadata": {},
   "outputs": [],
   "source": []
  },
  {
   "cell_type": "code",
   "execution_count": 57,
   "metadata": {},
   "outputs": [],
   "source": [
    "import numpy as np\n",
    "from sklearn.metrics import mean_squared_error\n",
    "\n",
    "# Define fitness function for LSTM hyperparameters optimization\n",
    "def lstm_ega_fitness_function(hyperparams, X_train, y_train, X_val, y_val):\n",
    "    units, dropout, batch_size, learning_rate = hyperparams\n",
    "    \n",
    "    # Build the LSTM model with specified hyperparameters\n",
    "    model = Sequential()\n",
    "    model.add(LSTM(units=int(units), input_shape=(X_train.shape[1], X_train.shape[2]), return_sequences=False))\n",
    "    model.add(Dropout(dropout))\n",
    "    model.add(Dense(units=32, activation='relu'))\n",
    "    model.add(Dense(units=1, activation='linear'))\n",
    "    \n",
    "    # Compile the model with the specified learning rate\n",
    "    model.compile(optimizer='adam', loss='mean_squared_error', metrics=['mae'])\n",
    "\n",
    "    # Fit the model on training data\n",
    "    model.fit(\n",
    "        X_train, y_train,\n",
    "        validation_data=(X_val, y_val),\n",
    "        epochs=100,  # Increased epochs\n",
    "        batch_size=int(batch_size),\n",
    "        verbose=0  # Suppress output for faster training\n",
    "    )\n",
    "\n",
    "    # Predict on validation set\n",
    "    y_pred = model.predict(X_val)\n",
    "\n",
    "    # Calculate RMSE\n",
    "    rmse = mean_squared_error(y_val, y_pred, squared=False)\n",
    "    \n",
    "    return -rmse  # Return negative RMSE for maximization by EGA"
   ]
  },
  {
   "cell_type": "code",
   "execution_count": 58,
   "metadata": {},
   "outputs": [],
   "source": [
    "# Define initial population for LSTM hyperparameters\n",
    "def initialize_lstm_population(population_size):\n",
    "    population = []\n",
    "    for _ in range(population_size):\n",
    "        units = np.random.randint(32, 128)  # LSTM units\n",
    "        dropout = np.random.uniform(0.1, 0.5)  # Dropout rate\n",
    "        batch_size = np.random.randint(8, 32)  # Batch size\n",
    "        learning_rate = np.random.uniform(0.0001, 0.01)  # Learning rate\n",
    "        population.append([units, dropout, batch_size, learning_rate])\n",
    "    return np.array(population)\n",
    "\n",
    "# Set up EGA parameters\n",
    "population_size = 20  # Population size for EGA\n",
    "num_generations = 10  # Number of generations for EGA\n",
    "\n",
    "# Initialize the population\n",
    "population = initialize_lstm_population(population_size)"
   ]
  },
  {
   "cell_type": "code",
   "execution_count": 59,
   "metadata": {},
   "outputs": [
    {
     "name": "stderr",
     "output_type": "stream",
     "text": [
      "/Library/Frameworks/Python.framework/Versions/3.12/lib/python3.12/site-packages/keras/src/layers/rnn/rnn.py:204: UserWarning: Do not pass an `input_shape`/`input_dim` argument to a layer. When using Sequential models, prefer using an `Input(shape)` object as the first layer in the model instead.\n",
      "  super().__init__(**kwargs)\n"
     ]
    },
    {
     "name": "stdout",
     "output_type": "stream",
     "text": [
      "\u001b[1m2/2\u001b[0m \u001b[32m━━━━━━━━━━━━━━━━━━━━\u001b[0m\u001b[37m\u001b[0m \u001b[1m0s\u001b[0m 53ms/step\n"
     ]
    },
    {
     "name": "stderr",
     "output_type": "stream",
     "text": [
      "/Library/Frameworks/Python.framework/Versions/3.12/lib/python3.12/site-packages/sklearn/metrics/_regression.py:492: FutureWarning: 'squared' is deprecated in version 1.4 and will be removed in 1.6. To calculate the root mean squared error, use the function'root_mean_squared_error'.\n",
      "  warnings.warn(\n",
      "/Library/Frameworks/Python.framework/Versions/3.12/lib/python3.12/site-packages/keras/src/layers/rnn/rnn.py:204: UserWarning: Do not pass an `input_shape`/`input_dim` argument to a layer. When using Sequential models, prefer using an `Input(shape)` object as the first layer in the model instead.\n",
      "  super().__init__(**kwargs)\n"
     ]
    },
    {
     "name": "stdout",
     "output_type": "stream",
     "text": [
      "\u001b[1m2/2\u001b[0m \u001b[32m━━━━━━━━━━━━━━━━━━━━\u001b[0m\u001b[37m\u001b[0m \u001b[1m0s\u001b[0m 52ms/step\n"
     ]
    },
    {
     "name": "stderr",
     "output_type": "stream",
     "text": [
      "/Library/Frameworks/Python.framework/Versions/3.12/lib/python3.12/site-packages/sklearn/metrics/_regression.py:492: FutureWarning: 'squared' is deprecated in version 1.4 and will be removed in 1.6. To calculate the root mean squared error, use the function'root_mean_squared_error'.\n",
      "  warnings.warn(\n",
      "/Library/Frameworks/Python.framework/Versions/3.12/lib/python3.12/site-packages/keras/src/layers/rnn/rnn.py:204: UserWarning: Do not pass an `input_shape`/`input_dim` argument to a layer. When using Sequential models, prefer using an `Input(shape)` object as the first layer in the model instead.\n",
      "  super().__init__(**kwargs)\n"
     ]
    },
    {
     "name": "stdout",
     "output_type": "stream",
     "text": [
      "\u001b[1m2/2\u001b[0m \u001b[32m━━━━━━━━━━━━━━━━━━━━\u001b[0m\u001b[37m\u001b[0m \u001b[1m0s\u001b[0m 52ms/step\n"
     ]
    },
    {
     "name": "stderr",
     "output_type": "stream",
     "text": [
      "/Library/Frameworks/Python.framework/Versions/3.12/lib/python3.12/site-packages/sklearn/metrics/_regression.py:492: FutureWarning: 'squared' is deprecated in version 1.4 and will be removed in 1.6. To calculate the root mean squared error, use the function'root_mean_squared_error'.\n",
      "  warnings.warn(\n",
      "/Library/Frameworks/Python.framework/Versions/3.12/lib/python3.12/site-packages/keras/src/layers/rnn/rnn.py:204: UserWarning: Do not pass an `input_shape`/`input_dim` argument to a layer. When using Sequential models, prefer using an `Input(shape)` object as the first layer in the model instead.\n",
      "  super().__init__(**kwargs)\n"
     ]
    },
    {
     "name": "stdout",
     "output_type": "stream",
     "text": [
      "\u001b[1m2/2\u001b[0m \u001b[32m━━━━━━━━━━━━━━━━━━━━\u001b[0m\u001b[37m\u001b[0m \u001b[1m0s\u001b[0m 51ms/step\n"
     ]
    },
    {
     "name": "stderr",
     "output_type": "stream",
     "text": [
      "/Library/Frameworks/Python.framework/Versions/3.12/lib/python3.12/site-packages/sklearn/metrics/_regression.py:492: FutureWarning: 'squared' is deprecated in version 1.4 and will be removed in 1.6. To calculate the root mean squared error, use the function'root_mean_squared_error'.\n",
      "  warnings.warn(\n",
      "/Library/Frameworks/Python.framework/Versions/3.12/lib/python3.12/site-packages/keras/src/layers/rnn/rnn.py:204: UserWarning: Do not pass an `input_shape`/`input_dim` argument to a layer. When using Sequential models, prefer using an `Input(shape)` object as the first layer in the model instead.\n",
      "  super().__init__(**kwargs)\n"
     ]
    },
    {
     "name": "stdout",
     "output_type": "stream",
     "text": [
      "\u001b[1m2/2\u001b[0m \u001b[32m━━━━━━━━━━━━━━━━━━━━\u001b[0m\u001b[37m\u001b[0m \u001b[1m0s\u001b[0m 60ms/step\n"
     ]
    },
    {
     "name": "stderr",
     "output_type": "stream",
     "text": [
      "/Library/Frameworks/Python.framework/Versions/3.12/lib/python3.12/site-packages/sklearn/metrics/_regression.py:492: FutureWarning: 'squared' is deprecated in version 1.4 and will be removed in 1.6. To calculate the root mean squared error, use the function'root_mean_squared_error'.\n",
      "  warnings.warn(\n",
      "/Library/Frameworks/Python.framework/Versions/3.12/lib/python3.12/site-packages/keras/src/layers/rnn/rnn.py:204: UserWarning: Do not pass an `input_shape`/`input_dim` argument to a layer. When using Sequential models, prefer using an `Input(shape)` object as the first layer in the model instead.\n",
      "  super().__init__(**kwargs)\n"
     ]
    },
    {
     "name": "stdout",
     "output_type": "stream",
     "text": [
      "\u001b[1m2/2\u001b[0m \u001b[32m━━━━━━━━━━━━━━━━━━━━\u001b[0m\u001b[37m\u001b[0m \u001b[1m0s\u001b[0m 51ms/step\n"
     ]
    },
    {
     "name": "stderr",
     "output_type": "stream",
     "text": [
      "/Library/Frameworks/Python.framework/Versions/3.12/lib/python3.12/site-packages/sklearn/metrics/_regression.py:492: FutureWarning: 'squared' is deprecated in version 1.4 and will be removed in 1.6. To calculate the root mean squared error, use the function'root_mean_squared_error'.\n",
      "  warnings.warn(\n",
      "/Library/Frameworks/Python.framework/Versions/3.12/lib/python3.12/site-packages/keras/src/layers/rnn/rnn.py:204: UserWarning: Do not pass an `input_shape`/`input_dim` argument to a layer. When using Sequential models, prefer using an `Input(shape)` object as the first layer in the model instead.\n",
      "  super().__init__(**kwargs)\n"
     ]
    },
    {
     "name": "stdout",
     "output_type": "stream",
     "text": [
      "\u001b[1m2/2\u001b[0m \u001b[32m━━━━━━━━━━━━━━━━━━━━\u001b[0m\u001b[37m\u001b[0m \u001b[1m0s\u001b[0m 69ms/step\n"
     ]
    },
    {
     "name": "stderr",
     "output_type": "stream",
     "text": [
      "/Library/Frameworks/Python.framework/Versions/3.12/lib/python3.12/site-packages/sklearn/metrics/_regression.py:492: FutureWarning: 'squared' is deprecated in version 1.4 and will be removed in 1.6. To calculate the root mean squared error, use the function'root_mean_squared_error'.\n",
      "  warnings.warn(\n",
      "/Library/Frameworks/Python.framework/Versions/3.12/lib/python3.12/site-packages/keras/src/layers/rnn/rnn.py:204: UserWarning: Do not pass an `input_shape`/`input_dim` argument to a layer. When using Sequential models, prefer using an `Input(shape)` object as the first layer in the model instead.\n",
      "  super().__init__(**kwargs)\n"
     ]
    },
    {
     "name": "stdout",
     "output_type": "stream",
     "text": [
      "\u001b[1m2/2\u001b[0m \u001b[32m━━━━━━━━━━━━━━━━━━━━\u001b[0m\u001b[37m\u001b[0m \u001b[1m0s\u001b[0m 51ms/step\n"
     ]
    },
    {
     "name": "stderr",
     "output_type": "stream",
     "text": [
      "/Library/Frameworks/Python.framework/Versions/3.12/lib/python3.12/site-packages/sklearn/metrics/_regression.py:492: FutureWarning: 'squared' is deprecated in version 1.4 and will be removed in 1.6. To calculate the root mean squared error, use the function'root_mean_squared_error'.\n",
      "  warnings.warn(\n",
      "/Library/Frameworks/Python.framework/Versions/3.12/lib/python3.12/site-packages/keras/src/layers/rnn/rnn.py:204: UserWarning: Do not pass an `input_shape`/`input_dim` argument to a layer. When using Sequential models, prefer using an `Input(shape)` object as the first layer in the model instead.\n",
      "  super().__init__(**kwargs)\n"
     ]
    },
    {
     "name": "stdout",
     "output_type": "stream",
     "text": [
      "\u001b[1m2/2\u001b[0m \u001b[32m━━━━━━━━━━━━━━━━━━━━\u001b[0m\u001b[37m\u001b[0m \u001b[1m0s\u001b[0m 81ms/step\n"
     ]
    },
    {
     "name": "stderr",
     "output_type": "stream",
     "text": [
      "/Library/Frameworks/Python.framework/Versions/3.12/lib/python3.12/site-packages/sklearn/metrics/_regression.py:492: FutureWarning: 'squared' is deprecated in version 1.4 and will be removed in 1.6. To calculate the root mean squared error, use the function'root_mean_squared_error'.\n",
      "  warnings.warn(\n",
      "/Library/Frameworks/Python.framework/Versions/3.12/lib/python3.12/site-packages/keras/src/layers/rnn/rnn.py:204: UserWarning: Do not pass an `input_shape`/`input_dim` argument to a layer. When using Sequential models, prefer using an `Input(shape)` object as the first layer in the model instead.\n",
      "  super().__init__(**kwargs)\n"
     ]
    },
    {
     "name": "stdout",
     "output_type": "stream",
     "text": [
      "\u001b[1m2/2\u001b[0m \u001b[32m━━━━━━━━━━━━━━━━━━━━\u001b[0m\u001b[37m\u001b[0m \u001b[1m0s\u001b[0m 51ms/step\n"
     ]
    },
    {
     "name": "stderr",
     "output_type": "stream",
     "text": [
      "/Library/Frameworks/Python.framework/Versions/3.12/lib/python3.12/site-packages/sklearn/metrics/_regression.py:492: FutureWarning: 'squared' is deprecated in version 1.4 and will be removed in 1.6. To calculate the root mean squared error, use the function'root_mean_squared_error'.\n",
      "  warnings.warn(\n",
      "/Library/Frameworks/Python.framework/Versions/3.12/lib/python3.12/site-packages/keras/src/layers/rnn/rnn.py:204: UserWarning: Do not pass an `input_shape`/`input_dim` argument to a layer. When using Sequential models, prefer using an `Input(shape)` object as the first layer in the model instead.\n",
      "  super().__init__(**kwargs)\n"
     ]
    },
    {
     "name": "stdout",
     "output_type": "stream",
     "text": [
      "\u001b[1m2/2\u001b[0m \u001b[32m━━━━━━━━━━━━━━━━━━━━\u001b[0m\u001b[37m\u001b[0m \u001b[1m0s\u001b[0m 52ms/step\n"
     ]
    },
    {
     "name": "stderr",
     "output_type": "stream",
     "text": [
      "/Library/Frameworks/Python.framework/Versions/3.12/lib/python3.12/site-packages/sklearn/metrics/_regression.py:492: FutureWarning: 'squared' is deprecated in version 1.4 and will be removed in 1.6. To calculate the root mean squared error, use the function'root_mean_squared_error'.\n",
      "  warnings.warn(\n",
      "/Library/Frameworks/Python.framework/Versions/3.12/lib/python3.12/site-packages/keras/src/layers/rnn/rnn.py:204: UserWarning: Do not pass an `input_shape`/`input_dim` argument to a layer. When using Sequential models, prefer using an `Input(shape)` object as the first layer in the model instead.\n",
      "  super().__init__(**kwargs)\n"
     ]
    },
    {
     "name": "stdout",
     "output_type": "stream",
     "text": [
      "\u001b[1m2/2\u001b[0m \u001b[32m━━━━━━━━━━━━━━━━━━━━\u001b[0m\u001b[37m\u001b[0m \u001b[1m0s\u001b[0m 52ms/step\n"
     ]
    },
    {
     "name": "stderr",
     "output_type": "stream",
     "text": [
      "/Library/Frameworks/Python.framework/Versions/3.12/lib/python3.12/site-packages/sklearn/metrics/_regression.py:492: FutureWarning: 'squared' is deprecated in version 1.4 and will be removed in 1.6. To calculate the root mean squared error, use the function'root_mean_squared_error'.\n",
      "  warnings.warn(\n",
      "/Library/Frameworks/Python.framework/Versions/3.12/lib/python3.12/site-packages/keras/src/layers/rnn/rnn.py:204: UserWarning: Do not pass an `input_shape`/`input_dim` argument to a layer. When using Sequential models, prefer using an `Input(shape)` object as the first layer in the model instead.\n",
      "  super().__init__(**kwargs)\n"
     ]
    },
    {
     "name": "stdout",
     "output_type": "stream",
     "text": [
      "\u001b[1m2/2\u001b[0m \u001b[32m━━━━━━━━━━━━━━━━━━━━\u001b[0m\u001b[37m\u001b[0m \u001b[1m0s\u001b[0m 58ms/step\n"
     ]
    },
    {
     "name": "stderr",
     "output_type": "stream",
     "text": [
      "/Library/Frameworks/Python.framework/Versions/3.12/lib/python3.12/site-packages/sklearn/metrics/_regression.py:492: FutureWarning: 'squared' is deprecated in version 1.4 and will be removed in 1.6. To calculate the root mean squared error, use the function'root_mean_squared_error'.\n",
      "  warnings.warn(\n",
      "/Library/Frameworks/Python.framework/Versions/3.12/lib/python3.12/site-packages/keras/src/layers/rnn/rnn.py:204: UserWarning: Do not pass an `input_shape`/`input_dim` argument to a layer. When using Sequential models, prefer using an `Input(shape)` object as the first layer in the model instead.\n",
      "  super().__init__(**kwargs)\n"
     ]
    },
    {
     "name": "stdout",
     "output_type": "stream",
     "text": [
      "\u001b[1m2/2\u001b[0m \u001b[32m━━━━━━━━━━━━━━━━━━━━\u001b[0m\u001b[37m\u001b[0m \u001b[1m0s\u001b[0m 52ms/step\n"
     ]
    },
    {
     "name": "stderr",
     "output_type": "stream",
     "text": [
      "/Library/Frameworks/Python.framework/Versions/3.12/lib/python3.12/site-packages/sklearn/metrics/_regression.py:492: FutureWarning: 'squared' is deprecated in version 1.4 and will be removed in 1.6. To calculate the root mean squared error, use the function'root_mean_squared_error'.\n",
      "  warnings.warn(\n",
      "/Library/Frameworks/Python.framework/Versions/3.12/lib/python3.12/site-packages/keras/src/layers/rnn/rnn.py:204: UserWarning: Do not pass an `input_shape`/`input_dim` argument to a layer. When using Sequential models, prefer using an `Input(shape)` object as the first layer in the model instead.\n",
      "  super().__init__(**kwargs)\n"
     ]
    },
    {
     "name": "stdout",
     "output_type": "stream",
     "text": [
      "\u001b[1m2/2\u001b[0m \u001b[32m━━━━━━━━━━━━━━━━━━━━\u001b[0m\u001b[37m\u001b[0m \u001b[1m0s\u001b[0m 51ms/step\n"
     ]
    },
    {
     "name": "stderr",
     "output_type": "stream",
     "text": [
      "/Library/Frameworks/Python.framework/Versions/3.12/lib/python3.12/site-packages/sklearn/metrics/_regression.py:492: FutureWarning: 'squared' is deprecated in version 1.4 and will be removed in 1.6. To calculate the root mean squared error, use the function'root_mean_squared_error'.\n",
      "  warnings.warn(\n",
      "/Library/Frameworks/Python.framework/Versions/3.12/lib/python3.12/site-packages/keras/src/layers/rnn/rnn.py:204: UserWarning: Do not pass an `input_shape`/`input_dim` argument to a layer. When using Sequential models, prefer using an `Input(shape)` object as the first layer in the model instead.\n",
      "  super().__init__(**kwargs)\n"
     ]
    },
    {
     "name": "stdout",
     "output_type": "stream",
     "text": [
      "\u001b[1m2/2\u001b[0m \u001b[32m━━━━━━━━━━━━━━━━━━━━\u001b[0m\u001b[37m\u001b[0m \u001b[1m0s\u001b[0m 52ms/step\n"
     ]
    },
    {
     "name": "stderr",
     "output_type": "stream",
     "text": [
      "/Library/Frameworks/Python.framework/Versions/3.12/lib/python3.12/site-packages/sklearn/metrics/_regression.py:492: FutureWarning: 'squared' is deprecated in version 1.4 and will be removed in 1.6. To calculate the root mean squared error, use the function'root_mean_squared_error'.\n",
      "  warnings.warn(\n",
      "/Library/Frameworks/Python.framework/Versions/3.12/lib/python3.12/site-packages/keras/src/layers/rnn/rnn.py:204: UserWarning: Do not pass an `input_shape`/`input_dim` argument to a layer. When using Sequential models, prefer using an `Input(shape)` object as the first layer in the model instead.\n",
      "  super().__init__(**kwargs)\n"
     ]
    },
    {
     "name": "stdout",
     "output_type": "stream",
     "text": [
      "\u001b[1m2/2\u001b[0m \u001b[32m━━━━━━━━━━━━━━━━━━━━\u001b[0m\u001b[37m\u001b[0m \u001b[1m0s\u001b[0m 51ms/step\n"
     ]
    },
    {
     "name": "stderr",
     "output_type": "stream",
     "text": [
      "/Library/Frameworks/Python.framework/Versions/3.12/lib/python3.12/site-packages/sklearn/metrics/_regression.py:492: FutureWarning: 'squared' is deprecated in version 1.4 and will be removed in 1.6. To calculate the root mean squared error, use the function'root_mean_squared_error'.\n",
      "  warnings.warn(\n",
      "/Library/Frameworks/Python.framework/Versions/3.12/lib/python3.12/site-packages/keras/src/layers/rnn/rnn.py:204: UserWarning: Do not pass an `input_shape`/`input_dim` argument to a layer. When using Sequential models, prefer using an `Input(shape)` object as the first layer in the model instead.\n",
      "  super().__init__(**kwargs)\n"
     ]
    },
    {
     "name": "stdout",
     "output_type": "stream",
     "text": [
      "\u001b[1m2/2\u001b[0m \u001b[32m━━━━━━━━━━━━━━━━━━━━\u001b[0m\u001b[37m\u001b[0m \u001b[1m0s\u001b[0m 59ms/step\n"
     ]
    },
    {
     "name": "stderr",
     "output_type": "stream",
     "text": [
      "/Library/Frameworks/Python.framework/Versions/3.12/lib/python3.12/site-packages/sklearn/metrics/_regression.py:492: FutureWarning: 'squared' is deprecated in version 1.4 and will be removed in 1.6. To calculate the root mean squared error, use the function'root_mean_squared_error'.\n",
      "  warnings.warn(\n",
      "/Library/Frameworks/Python.framework/Versions/3.12/lib/python3.12/site-packages/keras/src/layers/rnn/rnn.py:204: UserWarning: Do not pass an `input_shape`/`input_dim` argument to a layer. When using Sequential models, prefer using an `Input(shape)` object as the first layer in the model instead.\n",
      "  super().__init__(**kwargs)\n"
     ]
    },
    {
     "name": "stdout",
     "output_type": "stream",
     "text": [
      "\u001b[1m2/2\u001b[0m \u001b[32m━━━━━━━━━━━━━━━━━━━━\u001b[0m\u001b[37m\u001b[0m \u001b[1m0s\u001b[0m 53ms/step\n"
     ]
    },
    {
     "name": "stderr",
     "output_type": "stream",
     "text": [
      "/Library/Frameworks/Python.framework/Versions/3.12/lib/python3.12/site-packages/sklearn/metrics/_regression.py:492: FutureWarning: 'squared' is deprecated in version 1.4 and will be removed in 1.6. To calculate the root mean squared error, use the function'root_mean_squared_error'.\n",
      "  warnings.warn(\n",
      "/Library/Frameworks/Python.framework/Versions/3.12/lib/python3.12/site-packages/keras/src/layers/rnn/rnn.py:204: UserWarning: Do not pass an `input_shape`/`input_dim` argument to a layer. When using Sequential models, prefer using an `Input(shape)` object as the first layer in the model instead.\n",
      "  super().__init__(**kwargs)\n"
     ]
    },
    {
     "name": "stdout",
     "output_type": "stream",
     "text": [
      "\u001b[1m2/2\u001b[0m \u001b[32m━━━━━━━━━━━━━━━━━━━━\u001b[0m\u001b[37m\u001b[0m \u001b[1m0s\u001b[0m 52ms/step\n",
      "Generation 1/10, Best RMSE: 0.0078\n"
     ]
    },
    {
     "name": "stderr",
     "output_type": "stream",
     "text": [
      "/Library/Frameworks/Python.framework/Versions/3.12/lib/python3.12/site-packages/sklearn/metrics/_regression.py:492: FutureWarning: 'squared' is deprecated in version 1.4 and will be removed in 1.6. To calculate the root mean squared error, use the function'root_mean_squared_error'.\n",
      "  warnings.warn(\n",
      "/Library/Frameworks/Python.framework/Versions/3.12/lib/python3.12/site-packages/keras/src/layers/rnn/rnn.py:204: UserWarning: Do not pass an `input_shape`/`input_dim` argument to a layer. When using Sequential models, prefer using an `Input(shape)` object as the first layer in the model instead.\n",
      "  super().__init__(**kwargs)\n"
     ]
    },
    {
     "name": "stdout",
     "output_type": "stream",
     "text": [
      "\u001b[1m2/2\u001b[0m \u001b[32m━━━━━━━━━━━━━━━━━━━━\u001b[0m\u001b[37m\u001b[0m \u001b[1m0s\u001b[0m 53ms/step\n"
     ]
    },
    {
     "name": "stderr",
     "output_type": "stream",
     "text": [
      "/Library/Frameworks/Python.framework/Versions/3.12/lib/python3.12/site-packages/sklearn/metrics/_regression.py:492: FutureWarning: 'squared' is deprecated in version 1.4 and will be removed in 1.6. To calculate the root mean squared error, use the function'root_mean_squared_error'.\n",
      "  warnings.warn(\n",
      "/Library/Frameworks/Python.framework/Versions/3.12/lib/python3.12/site-packages/keras/src/layers/rnn/rnn.py:204: UserWarning: Do not pass an `input_shape`/`input_dim` argument to a layer. When using Sequential models, prefer using an `Input(shape)` object as the first layer in the model instead.\n",
      "  super().__init__(**kwargs)\n"
     ]
    },
    {
     "name": "stdout",
     "output_type": "stream",
     "text": [
      "\u001b[1m2/2\u001b[0m \u001b[32m━━━━━━━━━━━━━━━━━━━━\u001b[0m\u001b[37m\u001b[0m \u001b[1m0s\u001b[0m 80ms/step\n"
     ]
    },
    {
     "name": "stderr",
     "output_type": "stream",
     "text": [
      "/Library/Frameworks/Python.framework/Versions/3.12/lib/python3.12/site-packages/sklearn/metrics/_regression.py:492: FutureWarning: 'squared' is deprecated in version 1.4 and will be removed in 1.6. To calculate the root mean squared error, use the function'root_mean_squared_error'.\n",
      "  warnings.warn(\n",
      "/Library/Frameworks/Python.framework/Versions/3.12/lib/python3.12/site-packages/keras/src/layers/rnn/rnn.py:204: UserWarning: Do not pass an `input_shape`/`input_dim` argument to a layer. When using Sequential models, prefer using an `Input(shape)` object as the first layer in the model instead.\n",
      "  super().__init__(**kwargs)\n"
     ]
    },
    {
     "name": "stdout",
     "output_type": "stream",
     "text": [
      "\u001b[1m2/2\u001b[0m \u001b[32m━━━━━━━━━━━━━━━━━━━━\u001b[0m\u001b[37m\u001b[0m \u001b[1m0s\u001b[0m 51ms/step\n"
     ]
    },
    {
     "name": "stderr",
     "output_type": "stream",
     "text": [
      "/Library/Frameworks/Python.framework/Versions/3.12/lib/python3.12/site-packages/sklearn/metrics/_regression.py:492: FutureWarning: 'squared' is deprecated in version 1.4 and will be removed in 1.6. To calculate the root mean squared error, use the function'root_mean_squared_error'.\n",
      "  warnings.warn(\n",
      "/Library/Frameworks/Python.framework/Versions/3.12/lib/python3.12/site-packages/keras/src/layers/rnn/rnn.py:204: UserWarning: Do not pass an `input_shape`/`input_dim` argument to a layer. When using Sequential models, prefer using an `Input(shape)` object as the first layer in the model instead.\n",
      "  super().__init__(**kwargs)\n"
     ]
    },
    {
     "name": "stdout",
     "output_type": "stream",
     "text": [
      "\u001b[1m2/2\u001b[0m \u001b[32m━━━━━━━━━━━━━━━━━━━━\u001b[0m\u001b[37m\u001b[0m \u001b[1m0s\u001b[0m 52ms/step\n"
     ]
    },
    {
     "name": "stderr",
     "output_type": "stream",
     "text": [
      "/Library/Frameworks/Python.framework/Versions/3.12/lib/python3.12/site-packages/sklearn/metrics/_regression.py:492: FutureWarning: 'squared' is deprecated in version 1.4 and will be removed in 1.6. To calculate the root mean squared error, use the function'root_mean_squared_error'.\n",
      "  warnings.warn(\n",
      "/Library/Frameworks/Python.framework/Versions/3.12/lib/python3.12/site-packages/keras/src/layers/rnn/rnn.py:204: UserWarning: Do not pass an `input_shape`/`input_dim` argument to a layer. When using Sequential models, prefer using an `Input(shape)` object as the first layer in the model instead.\n",
      "  super().__init__(**kwargs)\n"
     ]
    },
    {
     "name": "stdout",
     "output_type": "stream",
     "text": [
      "\u001b[1m2/2\u001b[0m \u001b[32m━━━━━━━━━━━━━━━━━━━━\u001b[0m\u001b[37m\u001b[0m \u001b[1m0s\u001b[0m 64ms/step\n"
     ]
    },
    {
     "name": "stderr",
     "output_type": "stream",
     "text": [
      "/Library/Frameworks/Python.framework/Versions/3.12/lib/python3.12/site-packages/sklearn/metrics/_regression.py:492: FutureWarning: 'squared' is deprecated in version 1.4 and will be removed in 1.6. To calculate the root mean squared error, use the function'root_mean_squared_error'.\n",
      "  warnings.warn(\n",
      "/Library/Frameworks/Python.framework/Versions/3.12/lib/python3.12/site-packages/keras/src/layers/rnn/rnn.py:204: UserWarning: Do not pass an `input_shape`/`input_dim` argument to a layer. When using Sequential models, prefer using an `Input(shape)` object as the first layer in the model instead.\n",
      "  super().__init__(**kwargs)\n"
     ]
    },
    {
     "name": "stdout",
     "output_type": "stream",
     "text": [
      "\u001b[1m2/2\u001b[0m \u001b[32m━━━━━━━━━━━━━━━━━━━━\u001b[0m\u001b[37m\u001b[0m \u001b[1m0s\u001b[0m 53ms/step\n"
     ]
    },
    {
     "name": "stderr",
     "output_type": "stream",
     "text": [
      "/Library/Frameworks/Python.framework/Versions/3.12/lib/python3.12/site-packages/sklearn/metrics/_regression.py:492: FutureWarning: 'squared' is deprecated in version 1.4 and will be removed in 1.6. To calculate the root mean squared error, use the function'root_mean_squared_error'.\n",
      "  warnings.warn(\n",
      "/Library/Frameworks/Python.framework/Versions/3.12/lib/python3.12/site-packages/keras/src/layers/rnn/rnn.py:204: UserWarning: Do not pass an `input_shape`/`input_dim` argument to a layer. When using Sequential models, prefer using an `Input(shape)` object as the first layer in the model instead.\n",
      "  super().__init__(**kwargs)\n"
     ]
    },
    {
     "name": "stdout",
     "output_type": "stream",
     "text": [
      "\u001b[1m2/2\u001b[0m \u001b[32m━━━━━━━━━━━━━━━━━━━━\u001b[0m\u001b[37m\u001b[0m \u001b[1m0s\u001b[0m 51ms/step\n"
     ]
    },
    {
     "name": "stderr",
     "output_type": "stream",
     "text": [
      "/Library/Frameworks/Python.framework/Versions/3.12/lib/python3.12/site-packages/sklearn/metrics/_regression.py:492: FutureWarning: 'squared' is deprecated in version 1.4 and will be removed in 1.6. To calculate the root mean squared error, use the function'root_mean_squared_error'.\n",
      "  warnings.warn(\n",
      "/Library/Frameworks/Python.framework/Versions/3.12/lib/python3.12/site-packages/keras/src/layers/rnn/rnn.py:204: UserWarning: Do not pass an `input_shape`/`input_dim` argument to a layer. When using Sequential models, prefer using an `Input(shape)` object as the first layer in the model instead.\n",
      "  super().__init__(**kwargs)\n"
     ]
    },
    {
     "name": "stdout",
     "output_type": "stream",
     "text": [
      "\u001b[1m2/2\u001b[0m \u001b[32m━━━━━━━━━━━━━━━━━━━━\u001b[0m\u001b[37m\u001b[0m \u001b[1m0s\u001b[0m 51ms/step\n"
     ]
    },
    {
     "name": "stderr",
     "output_type": "stream",
     "text": [
      "/Library/Frameworks/Python.framework/Versions/3.12/lib/python3.12/site-packages/sklearn/metrics/_regression.py:492: FutureWarning: 'squared' is deprecated in version 1.4 and will be removed in 1.6. To calculate the root mean squared error, use the function'root_mean_squared_error'.\n",
      "  warnings.warn(\n",
      "/Library/Frameworks/Python.framework/Versions/3.12/lib/python3.12/site-packages/keras/src/layers/rnn/rnn.py:204: UserWarning: Do not pass an `input_shape`/`input_dim` argument to a layer. When using Sequential models, prefer using an `Input(shape)` object as the first layer in the model instead.\n",
      "  super().__init__(**kwargs)\n"
     ]
    },
    {
     "name": "stdout",
     "output_type": "stream",
     "text": [
      "\u001b[1m2/2\u001b[0m \u001b[32m━━━━━━━━━━━━━━━━━━━━\u001b[0m\u001b[37m\u001b[0m \u001b[1m0s\u001b[0m 51ms/step\n"
     ]
    },
    {
     "name": "stderr",
     "output_type": "stream",
     "text": [
      "/Library/Frameworks/Python.framework/Versions/3.12/lib/python3.12/site-packages/sklearn/metrics/_regression.py:492: FutureWarning: 'squared' is deprecated in version 1.4 and will be removed in 1.6. To calculate the root mean squared error, use the function'root_mean_squared_error'.\n",
      "  warnings.warn(\n",
      "/Library/Frameworks/Python.framework/Versions/3.12/lib/python3.12/site-packages/keras/src/layers/rnn/rnn.py:204: UserWarning: Do not pass an `input_shape`/`input_dim` argument to a layer. When using Sequential models, prefer using an `Input(shape)` object as the first layer in the model instead.\n",
      "  super().__init__(**kwargs)\n"
     ]
    },
    {
     "name": "stdout",
     "output_type": "stream",
     "text": [
      "\u001b[1m2/2\u001b[0m \u001b[32m━━━━━━━━━━━━━━━━━━━━\u001b[0m\u001b[37m\u001b[0m \u001b[1m0s\u001b[0m 54ms/step\n"
     ]
    },
    {
     "name": "stderr",
     "output_type": "stream",
     "text": [
      "/Library/Frameworks/Python.framework/Versions/3.12/lib/python3.12/site-packages/sklearn/metrics/_regression.py:492: FutureWarning: 'squared' is deprecated in version 1.4 and will be removed in 1.6. To calculate the root mean squared error, use the function'root_mean_squared_error'.\n",
      "  warnings.warn(\n",
      "/Library/Frameworks/Python.framework/Versions/3.12/lib/python3.12/site-packages/keras/src/layers/rnn/rnn.py:204: UserWarning: Do not pass an `input_shape`/`input_dim` argument to a layer. When using Sequential models, prefer using an `Input(shape)` object as the first layer in the model instead.\n",
      "  super().__init__(**kwargs)\n"
     ]
    },
    {
     "name": "stdout",
     "output_type": "stream",
     "text": [
      "\u001b[1m2/2\u001b[0m \u001b[32m━━━━━━━━━━━━━━━━━━━━\u001b[0m\u001b[37m\u001b[0m \u001b[1m0s\u001b[0m 52ms/step\n"
     ]
    },
    {
     "name": "stderr",
     "output_type": "stream",
     "text": [
      "/Library/Frameworks/Python.framework/Versions/3.12/lib/python3.12/site-packages/sklearn/metrics/_regression.py:492: FutureWarning: 'squared' is deprecated in version 1.4 and will be removed in 1.6. To calculate the root mean squared error, use the function'root_mean_squared_error'.\n",
      "  warnings.warn(\n",
      "/Library/Frameworks/Python.framework/Versions/3.12/lib/python3.12/site-packages/keras/src/layers/rnn/rnn.py:204: UserWarning: Do not pass an `input_shape`/`input_dim` argument to a layer. When using Sequential models, prefer using an `Input(shape)` object as the first layer in the model instead.\n",
      "  super().__init__(**kwargs)\n"
     ]
    },
    {
     "name": "stdout",
     "output_type": "stream",
     "text": [
      "\u001b[1m2/2\u001b[0m \u001b[32m━━━━━━━━━━━━━━━━━━━━\u001b[0m\u001b[37m\u001b[0m \u001b[1m0s\u001b[0m 78ms/step\n"
     ]
    },
    {
     "name": "stderr",
     "output_type": "stream",
     "text": [
      "/Library/Frameworks/Python.framework/Versions/3.12/lib/python3.12/site-packages/sklearn/metrics/_regression.py:492: FutureWarning: 'squared' is deprecated in version 1.4 and will be removed in 1.6. To calculate the root mean squared error, use the function'root_mean_squared_error'.\n",
      "  warnings.warn(\n",
      "/Library/Frameworks/Python.framework/Versions/3.12/lib/python3.12/site-packages/keras/src/layers/rnn/rnn.py:204: UserWarning: Do not pass an `input_shape`/`input_dim` argument to a layer. When using Sequential models, prefer using an `Input(shape)` object as the first layer in the model instead.\n",
      "  super().__init__(**kwargs)\n"
     ]
    },
    {
     "name": "stdout",
     "output_type": "stream",
     "text": [
      "\u001b[1m2/2\u001b[0m \u001b[32m━━━━━━━━━━━━━━━━━━━━\u001b[0m\u001b[37m\u001b[0m \u001b[1m0s\u001b[0m 52ms/step\n",
      "Generation 2/10, Best RMSE: 0.0081\n"
     ]
    },
    {
     "name": "stderr",
     "output_type": "stream",
     "text": [
      "/Library/Frameworks/Python.framework/Versions/3.12/lib/python3.12/site-packages/sklearn/metrics/_regression.py:492: FutureWarning: 'squared' is deprecated in version 1.4 and will be removed in 1.6. To calculate the root mean squared error, use the function'root_mean_squared_error'.\n",
      "  warnings.warn(\n",
      "/Library/Frameworks/Python.framework/Versions/3.12/lib/python3.12/site-packages/keras/src/layers/rnn/rnn.py:204: UserWarning: Do not pass an `input_shape`/`input_dim` argument to a layer. When using Sequential models, prefer using an `Input(shape)` object as the first layer in the model instead.\n",
      "  super().__init__(**kwargs)\n"
     ]
    },
    {
     "name": "stdout",
     "output_type": "stream",
     "text": [
      "\u001b[1m2/2\u001b[0m \u001b[32m━━━━━━━━━━━━━━━━━━━━\u001b[0m\u001b[37m\u001b[0m \u001b[1m0s\u001b[0m 50ms/step\n"
     ]
    },
    {
     "name": "stderr",
     "output_type": "stream",
     "text": [
      "/Library/Frameworks/Python.framework/Versions/3.12/lib/python3.12/site-packages/sklearn/metrics/_regression.py:492: FutureWarning: 'squared' is deprecated in version 1.4 and will be removed in 1.6. To calculate the root mean squared error, use the function'root_mean_squared_error'.\n",
      "  warnings.warn(\n",
      "/Library/Frameworks/Python.framework/Versions/3.12/lib/python3.12/site-packages/keras/src/layers/rnn/rnn.py:204: UserWarning: Do not pass an `input_shape`/`input_dim` argument to a layer. When using Sequential models, prefer using an `Input(shape)` object as the first layer in the model instead.\n",
      "  super().__init__(**kwargs)\n"
     ]
    },
    {
     "name": "stdout",
     "output_type": "stream",
     "text": [
      "\u001b[1m2/2\u001b[0m \u001b[32m━━━━━━━━━━━━━━━━━━━━\u001b[0m\u001b[37m\u001b[0m \u001b[1m0s\u001b[0m 62ms/step\n"
     ]
    },
    {
     "name": "stderr",
     "output_type": "stream",
     "text": [
      "/Library/Frameworks/Python.framework/Versions/3.12/lib/python3.12/site-packages/sklearn/metrics/_regression.py:492: FutureWarning: 'squared' is deprecated in version 1.4 and will be removed in 1.6. To calculate the root mean squared error, use the function'root_mean_squared_error'.\n",
      "  warnings.warn(\n",
      "/Library/Frameworks/Python.framework/Versions/3.12/lib/python3.12/site-packages/keras/src/layers/rnn/rnn.py:204: UserWarning: Do not pass an `input_shape`/`input_dim` argument to a layer. When using Sequential models, prefer using an `Input(shape)` object as the first layer in the model instead.\n",
      "  super().__init__(**kwargs)\n"
     ]
    },
    {
     "name": "stdout",
     "output_type": "stream",
     "text": [
      "\u001b[1m2/2\u001b[0m \u001b[32m━━━━━━━━━━━━━━━━━━━━\u001b[0m\u001b[37m\u001b[0m \u001b[1m0s\u001b[0m 56ms/step\n"
     ]
    },
    {
     "name": "stderr",
     "output_type": "stream",
     "text": [
      "/Library/Frameworks/Python.framework/Versions/3.12/lib/python3.12/site-packages/sklearn/metrics/_regression.py:492: FutureWarning: 'squared' is deprecated in version 1.4 and will be removed in 1.6. To calculate the root mean squared error, use the function'root_mean_squared_error'.\n",
      "  warnings.warn(\n",
      "/Library/Frameworks/Python.framework/Versions/3.12/lib/python3.12/site-packages/keras/src/layers/rnn/rnn.py:204: UserWarning: Do not pass an `input_shape`/`input_dim` argument to a layer. When using Sequential models, prefer using an `Input(shape)` object as the first layer in the model instead.\n",
      "  super().__init__(**kwargs)\n"
     ]
    },
    {
     "name": "stdout",
     "output_type": "stream",
     "text": [
      "\u001b[1m2/2\u001b[0m \u001b[32m━━━━━━━━━━━━━━━━━━━━\u001b[0m\u001b[37m\u001b[0m \u001b[1m0s\u001b[0m 51ms/step\n"
     ]
    },
    {
     "name": "stderr",
     "output_type": "stream",
     "text": [
      "/Library/Frameworks/Python.framework/Versions/3.12/lib/python3.12/site-packages/sklearn/metrics/_regression.py:492: FutureWarning: 'squared' is deprecated in version 1.4 and will be removed in 1.6. To calculate the root mean squared error, use the function'root_mean_squared_error'.\n",
      "  warnings.warn(\n",
      "/Library/Frameworks/Python.framework/Versions/3.12/lib/python3.12/site-packages/keras/src/layers/rnn/rnn.py:204: UserWarning: Do not pass an `input_shape`/`input_dim` argument to a layer. When using Sequential models, prefer using an `Input(shape)` object as the first layer in the model instead.\n",
      "  super().__init__(**kwargs)\n"
     ]
    },
    {
     "name": "stdout",
     "output_type": "stream",
     "text": [
      "\u001b[1m2/2\u001b[0m \u001b[32m━━━━━━━━━━━━━━━━━━━━\u001b[0m\u001b[37m\u001b[0m \u001b[1m0s\u001b[0m 52ms/step\n"
     ]
    },
    {
     "name": "stderr",
     "output_type": "stream",
     "text": [
      "/Library/Frameworks/Python.framework/Versions/3.12/lib/python3.12/site-packages/sklearn/metrics/_regression.py:492: FutureWarning: 'squared' is deprecated in version 1.4 and will be removed in 1.6. To calculate the root mean squared error, use the function'root_mean_squared_error'.\n",
      "  warnings.warn(\n",
      "/Library/Frameworks/Python.framework/Versions/3.12/lib/python3.12/site-packages/keras/src/layers/rnn/rnn.py:204: UserWarning: Do not pass an `input_shape`/`input_dim` argument to a layer. When using Sequential models, prefer using an `Input(shape)` object as the first layer in the model instead.\n",
      "  super().__init__(**kwargs)\n"
     ]
    },
    {
     "name": "stdout",
     "output_type": "stream",
     "text": [
      "\u001b[1m2/2\u001b[0m \u001b[32m━━━━━━━━━━━━━━━━━━━━\u001b[0m\u001b[37m\u001b[0m \u001b[1m0s\u001b[0m 61ms/step\n"
     ]
    },
    {
     "name": "stderr",
     "output_type": "stream",
     "text": [
      "/Library/Frameworks/Python.framework/Versions/3.12/lib/python3.12/site-packages/sklearn/metrics/_regression.py:492: FutureWarning: 'squared' is deprecated in version 1.4 and will be removed in 1.6. To calculate the root mean squared error, use the function'root_mean_squared_error'.\n",
      "  warnings.warn(\n",
      "/Library/Frameworks/Python.framework/Versions/3.12/lib/python3.12/site-packages/keras/src/layers/rnn/rnn.py:204: UserWarning: Do not pass an `input_shape`/`input_dim` argument to a layer. When using Sequential models, prefer using an `Input(shape)` object as the first layer in the model instead.\n",
      "  super().__init__(**kwargs)\n"
     ]
    },
    {
     "name": "stdout",
     "output_type": "stream",
     "text": [
      "\u001b[1m2/2\u001b[0m \u001b[32m━━━━━━━━━━━━━━━━━━━━\u001b[0m\u001b[37m\u001b[0m \u001b[1m0s\u001b[0m 53ms/step\n"
     ]
    },
    {
     "name": "stderr",
     "output_type": "stream",
     "text": [
      "/Library/Frameworks/Python.framework/Versions/3.12/lib/python3.12/site-packages/sklearn/metrics/_regression.py:492: FutureWarning: 'squared' is deprecated in version 1.4 and will be removed in 1.6. To calculate the root mean squared error, use the function'root_mean_squared_error'.\n",
      "  warnings.warn(\n",
      "/Library/Frameworks/Python.framework/Versions/3.12/lib/python3.12/site-packages/keras/src/layers/rnn/rnn.py:204: UserWarning: Do not pass an `input_shape`/`input_dim` argument to a layer. When using Sequential models, prefer using an `Input(shape)` object as the first layer in the model instead.\n",
      "  super().__init__(**kwargs)\n"
     ]
    },
    {
     "name": "stdout",
     "output_type": "stream",
     "text": [
      "\u001b[1m2/2\u001b[0m \u001b[32m━━━━━━━━━━━━━━━━━━━━\u001b[0m\u001b[37m\u001b[0m \u001b[1m0s\u001b[0m 64ms/step\n"
     ]
    },
    {
     "name": "stderr",
     "output_type": "stream",
     "text": [
      "/Library/Frameworks/Python.framework/Versions/3.12/lib/python3.12/site-packages/sklearn/metrics/_regression.py:492: FutureWarning: 'squared' is deprecated in version 1.4 and will be removed in 1.6. To calculate the root mean squared error, use the function'root_mean_squared_error'.\n",
      "  warnings.warn(\n",
      "/Library/Frameworks/Python.framework/Versions/3.12/lib/python3.12/site-packages/keras/src/layers/rnn/rnn.py:204: UserWarning: Do not pass an `input_shape`/`input_dim` argument to a layer. When using Sequential models, prefer using an `Input(shape)` object as the first layer in the model instead.\n",
      "  super().__init__(**kwargs)\n"
     ]
    },
    {
     "name": "stdout",
     "output_type": "stream",
     "text": [
      "\u001b[1m2/2\u001b[0m \u001b[32m━━━━━━━━━━━━━━━━━━━━\u001b[0m\u001b[37m\u001b[0m \u001b[1m0s\u001b[0m 51ms/step\n"
     ]
    },
    {
     "name": "stderr",
     "output_type": "stream",
     "text": [
      "/Library/Frameworks/Python.framework/Versions/3.12/lib/python3.12/site-packages/sklearn/metrics/_regression.py:492: FutureWarning: 'squared' is deprecated in version 1.4 and will be removed in 1.6. To calculate the root mean squared error, use the function'root_mean_squared_error'.\n",
      "  warnings.warn(\n",
      "/Library/Frameworks/Python.framework/Versions/3.12/lib/python3.12/site-packages/keras/src/layers/rnn/rnn.py:204: UserWarning: Do not pass an `input_shape`/`input_dim` argument to a layer. When using Sequential models, prefer using an `Input(shape)` object as the first layer in the model instead.\n",
      "  super().__init__(**kwargs)\n"
     ]
    },
    {
     "name": "stdout",
     "output_type": "stream",
     "text": [
      "\u001b[1m2/2\u001b[0m \u001b[32m━━━━━━━━━━━━━━━━━━━━\u001b[0m\u001b[37m\u001b[0m \u001b[1m0s\u001b[0m 52ms/step\n"
     ]
    },
    {
     "name": "stderr",
     "output_type": "stream",
     "text": [
      "/Library/Frameworks/Python.framework/Versions/3.12/lib/python3.12/site-packages/sklearn/metrics/_regression.py:492: FutureWarning: 'squared' is deprecated in version 1.4 and will be removed in 1.6. To calculate the root mean squared error, use the function'root_mean_squared_error'.\n",
      "  warnings.warn(\n",
      "/Library/Frameworks/Python.framework/Versions/3.12/lib/python3.12/site-packages/keras/src/layers/rnn/rnn.py:204: UserWarning: Do not pass an `input_shape`/`input_dim` argument to a layer. When using Sequential models, prefer using an `Input(shape)` object as the first layer in the model instead.\n",
      "  super().__init__(**kwargs)\n"
     ]
    },
    {
     "name": "stdout",
     "output_type": "stream",
     "text": [
      "\u001b[1m2/2\u001b[0m \u001b[32m━━━━━━━━━━━━━━━━━━━━\u001b[0m\u001b[37m\u001b[0m \u001b[1m0s\u001b[0m 52ms/step\n"
     ]
    },
    {
     "name": "stderr",
     "output_type": "stream",
     "text": [
      "/Library/Frameworks/Python.framework/Versions/3.12/lib/python3.12/site-packages/sklearn/metrics/_regression.py:492: FutureWarning: 'squared' is deprecated in version 1.4 and will be removed in 1.6. To calculate the root mean squared error, use the function'root_mean_squared_error'.\n",
      "  warnings.warn(\n",
      "/Library/Frameworks/Python.framework/Versions/3.12/lib/python3.12/site-packages/keras/src/layers/rnn/rnn.py:204: UserWarning: Do not pass an `input_shape`/`input_dim` argument to a layer. When using Sequential models, prefer using an `Input(shape)` object as the first layer in the model instead.\n",
      "  super().__init__(**kwargs)\n"
     ]
    },
    {
     "name": "stdout",
     "output_type": "stream",
     "text": [
      "\u001b[1m2/2\u001b[0m \u001b[32m━━━━━━━━━━━━━━━━━━━━\u001b[0m\u001b[37m\u001b[0m \u001b[1m0s\u001b[0m 52ms/step\n"
     ]
    },
    {
     "name": "stderr",
     "output_type": "stream",
     "text": [
      "/Library/Frameworks/Python.framework/Versions/3.12/lib/python3.12/site-packages/sklearn/metrics/_regression.py:492: FutureWarning: 'squared' is deprecated in version 1.4 and will be removed in 1.6. To calculate the root mean squared error, use the function'root_mean_squared_error'.\n",
      "  warnings.warn(\n",
      "/Library/Frameworks/Python.framework/Versions/3.12/lib/python3.12/site-packages/keras/src/layers/rnn/rnn.py:204: UserWarning: Do not pass an `input_shape`/`input_dim` argument to a layer. When using Sequential models, prefer using an `Input(shape)` object as the first layer in the model instead.\n",
      "  super().__init__(**kwargs)\n"
     ]
    },
    {
     "name": "stdout",
     "output_type": "stream",
     "text": [
      "\u001b[1m2/2\u001b[0m \u001b[32m━━━━━━━━━━━━━━━━━━━━\u001b[0m\u001b[37m\u001b[0m \u001b[1m0s\u001b[0m 52ms/step\n",
      "Generation 3/10, Best RMSE: 0.0073\n"
     ]
    },
    {
     "name": "stderr",
     "output_type": "stream",
     "text": [
      "/Library/Frameworks/Python.framework/Versions/3.12/lib/python3.12/site-packages/sklearn/metrics/_regression.py:492: FutureWarning: 'squared' is deprecated in version 1.4 and will be removed in 1.6. To calculate the root mean squared error, use the function'root_mean_squared_error'.\n",
      "  warnings.warn(\n",
      "/Library/Frameworks/Python.framework/Versions/3.12/lib/python3.12/site-packages/keras/src/layers/rnn/rnn.py:204: UserWarning: Do not pass an `input_shape`/`input_dim` argument to a layer. When using Sequential models, prefer using an `Input(shape)` object as the first layer in the model instead.\n",
      "  super().__init__(**kwargs)\n"
     ]
    },
    {
     "name": "stdout",
     "output_type": "stream",
     "text": [
      "\u001b[1m2/2\u001b[0m \u001b[32m━━━━━━━━━━━━━━━━━━━━\u001b[0m\u001b[37m\u001b[0m \u001b[1m0s\u001b[0m 52ms/step\n"
     ]
    },
    {
     "name": "stderr",
     "output_type": "stream",
     "text": [
      "/Library/Frameworks/Python.framework/Versions/3.12/lib/python3.12/site-packages/sklearn/metrics/_regression.py:492: FutureWarning: 'squared' is deprecated in version 1.4 and will be removed in 1.6. To calculate the root mean squared error, use the function'root_mean_squared_error'.\n",
      "  warnings.warn(\n",
      "/Library/Frameworks/Python.framework/Versions/3.12/lib/python3.12/site-packages/keras/src/layers/rnn/rnn.py:204: UserWarning: Do not pass an `input_shape`/`input_dim` argument to a layer. When using Sequential models, prefer using an `Input(shape)` object as the first layer in the model instead.\n",
      "  super().__init__(**kwargs)\n"
     ]
    },
    {
     "name": "stdout",
     "output_type": "stream",
     "text": [
      "\u001b[1m2/2\u001b[0m \u001b[32m━━━━━━━━━━━━━━━━━━━━\u001b[0m\u001b[37m\u001b[0m \u001b[1m0s\u001b[0m 52ms/step\n"
     ]
    },
    {
     "name": "stderr",
     "output_type": "stream",
     "text": [
      "/Library/Frameworks/Python.framework/Versions/3.12/lib/python3.12/site-packages/sklearn/metrics/_regression.py:492: FutureWarning: 'squared' is deprecated in version 1.4 and will be removed in 1.6. To calculate the root mean squared error, use the function'root_mean_squared_error'.\n",
      "  warnings.warn(\n",
      "/Library/Frameworks/Python.framework/Versions/3.12/lib/python3.12/site-packages/keras/src/layers/rnn/rnn.py:204: UserWarning: Do not pass an `input_shape`/`input_dim` argument to a layer. When using Sequential models, prefer using an `Input(shape)` object as the first layer in the model instead.\n",
      "  super().__init__(**kwargs)\n"
     ]
    },
    {
     "name": "stdout",
     "output_type": "stream",
     "text": [
      "\u001b[1m2/2\u001b[0m \u001b[32m━━━━━━━━━━━━━━━━━━━━\u001b[0m\u001b[37m\u001b[0m \u001b[1m0s\u001b[0m 53ms/step\n"
     ]
    },
    {
     "name": "stderr",
     "output_type": "stream",
     "text": [
      "/Library/Frameworks/Python.framework/Versions/3.12/lib/python3.12/site-packages/sklearn/metrics/_regression.py:492: FutureWarning: 'squared' is deprecated in version 1.4 and will be removed in 1.6. To calculate the root mean squared error, use the function'root_mean_squared_error'.\n",
      "  warnings.warn(\n",
      "/Library/Frameworks/Python.framework/Versions/3.12/lib/python3.12/site-packages/keras/src/layers/rnn/rnn.py:204: UserWarning: Do not pass an `input_shape`/`input_dim` argument to a layer. When using Sequential models, prefer using an `Input(shape)` object as the first layer in the model instead.\n",
      "  super().__init__(**kwargs)\n"
     ]
    },
    {
     "name": "stdout",
     "output_type": "stream",
     "text": [
      "\u001b[1m2/2\u001b[0m \u001b[32m━━━━━━━━━━━━━━━━━━━━\u001b[0m\u001b[37m\u001b[0m \u001b[1m0s\u001b[0m 67ms/step\n"
     ]
    },
    {
     "name": "stderr",
     "output_type": "stream",
     "text": [
      "/Library/Frameworks/Python.framework/Versions/3.12/lib/python3.12/site-packages/sklearn/metrics/_regression.py:492: FutureWarning: 'squared' is deprecated in version 1.4 and will be removed in 1.6. To calculate the root mean squared error, use the function'root_mean_squared_error'.\n",
      "  warnings.warn(\n",
      "/Library/Frameworks/Python.framework/Versions/3.12/lib/python3.12/site-packages/keras/src/layers/rnn/rnn.py:204: UserWarning: Do not pass an `input_shape`/`input_dim` argument to a layer. When using Sequential models, prefer using an `Input(shape)` object as the first layer in the model instead.\n",
      "  super().__init__(**kwargs)\n"
     ]
    },
    {
     "name": "stdout",
     "output_type": "stream",
     "text": [
      "\u001b[1m2/2\u001b[0m \u001b[32m━━━━━━━━━━━━━━━━━━━━\u001b[0m\u001b[37m\u001b[0m \u001b[1m0s\u001b[0m 52ms/step\n"
     ]
    },
    {
     "name": "stderr",
     "output_type": "stream",
     "text": [
      "/Library/Frameworks/Python.framework/Versions/3.12/lib/python3.12/site-packages/sklearn/metrics/_regression.py:492: FutureWarning: 'squared' is deprecated in version 1.4 and will be removed in 1.6. To calculate the root mean squared error, use the function'root_mean_squared_error'.\n",
      "  warnings.warn(\n",
      "/Library/Frameworks/Python.framework/Versions/3.12/lib/python3.12/site-packages/keras/src/layers/rnn/rnn.py:204: UserWarning: Do not pass an `input_shape`/`input_dim` argument to a layer. When using Sequential models, prefer using an `Input(shape)` object as the first layer in the model instead.\n",
      "  super().__init__(**kwargs)\n"
     ]
    },
    {
     "name": "stdout",
     "output_type": "stream",
     "text": [
      "\u001b[1m2/2\u001b[0m \u001b[32m━━━━━━━━━━━━━━━━━━━━\u001b[0m\u001b[37m\u001b[0m \u001b[1m0s\u001b[0m 52ms/step\n"
     ]
    },
    {
     "name": "stderr",
     "output_type": "stream",
     "text": [
      "/Library/Frameworks/Python.framework/Versions/3.12/lib/python3.12/site-packages/sklearn/metrics/_regression.py:492: FutureWarning: 'squared' is deprecated in version 1.4 and will be removed in 1.6. To calculate the root mean squared error, use the function'root_mean_squared_error'.\n",
      "  warnings.warn(\n",
      "/Library/Frameworks/Python.framework/Versions/3.12/lib/python3.12/site-packages/keras/src/layers/rnn/rnn.py:204: UserWarning: Do not pass an `input_shape`/`input_dim` argument to a layer. When using Sequential models, prefer using an `Input(shape)` object as the first layer in the model instead.\n",
      "  super().__init__(**kwargs)\n"
     ]
    },
    {
     "name": "stdout",
     "output_type": "stream",
     "text": [
      "\u001b[1m2/2\u001b[0m \u001b[32m━━━━━━━━━━━━━━━━━━━━\u001b[0m\u001b[37m\u001b[0m \u001b[1m0s\u001b[0m 52ms/step\n"
     ]
    },
    {
     "name": "stderr",
     "output_type": "stream",
     "text": [
      "/Library/Frameworks/Python.framework/Versions/3.12/lib/python3.12/site-packages/sklearn/metrics/_regression.py:492: FutureWarning: 'squared' is deprecated in version 1.4 and will be removed in 1.6. To calculate the root mean squared error, use the function'root_mean_squared_error'.\n",
      "  warnings.warn(\n",
      "/Library/Frameworks/Python.framework/Versions/3.12/lib/python3.12/site-packages/keras/src/layers/rnn/rnn.py:204: UserWarning: Do not pass an `input_shape`/`input_dim` argument to a layer. When using Sequential models, prefer using an `Input(shape)` object as the first layer in the model instead.\n",
      "  super().__init__(**kwargs)\n"
     ]
    },
    {
     "name": "stdout",
     "output_type": "stream",
     "text": [
      "\u001b[1m2/2\u001b[0m \u001b[32m━━━━━━━━━━━━━━━━━━━━\u001b[0m\u001b[37m\u001b[0m \u001b[1m0s\u001b[0m 69ms/step\n"
     ]
    },
    {
     "name": "stderr",
     "output_type": "stream",
     "text": [
      "/Library/Frameworks/Python.framework/Versions/3.12/lib/python3.12/site-packages/sklearn/metrics/_regression.py:492: FutureWarning: 'squared' is deprecated in version 1.4 and will be removed in 1.6. To calculate the root mean squared error, use the function'root_mean_squared_error'.\n",
      "  warnings.warn(\n",
      "/Library/Frameworks/Python.framework/Versions/3.12/lib/python3.12/site-packages/keras/src/layers/rnn/rnn.py:204: UserWarning: Do not pass an `input_shape`/`input_dim` argument to a layer. When using Sequential models, prefer using an `Input(shape)` object as the first layer in the model instead.\n",
      "  super().__init__(**kwargs)\n"
     ]
    },
    {
     "name": "stdout",
     "output_type": "stream",
     "text": [
      "\u001b[1m2/2\u001b[0m \u001b[32m━━━━━━━━━━━━━━━━━━━━\u001b[0m\u001b[37m\u001b[0m \u001b[1m0s\u001b[0m 59ms/step\n"
     ]
    },
    {
     "name": "stderr",
     "output_type": "stream",
     "text": [
      "/Library/Frameworks/Python.framework/Versions/3.12/lib/python3.12/site-packages/sklearn/metrics/_regression.py:492: FutureWarning: 'squared' is deprecated in version 1.4 and will be removed in 1.6. To calculate the root mean squared error, use the function'root_mean_squared_error'.\n",
      "  warnings.warn(\n",
      "/Library/Frameworks/Python.framework/Versions/3.12/lib/python3.12/site-packages/keras/src/layers/rnn/rnn.py:204: UserWarning: Do not pass an `input_shape`/`input_dim` argument to a layer. When using Sequential models, prefer using an `Input(shape)` object as the first layer in the model instead.\n",
      "  super().__init__(**kwargs)\n"
     ]
    },
    {
     "name": "stdout",
     "output_type": "stream",
     "text": [
      "\u001b[1m2/2\u001b[0m \u001b[32m━━━━━━━━━━━━━━━━━━━━\u001b[0m\u001b[37m\u001b[0m \u001b[1m0s\u001b[0m 52ms/step\n"
     ]
    },
    {
     "name": "stderr",
     "output_type": "stream",
     "text": [
      "/Library/Frameworks/Python.framework/Versions/3.12/lib/python3.12/site-packages/sklearn/metrics/_regression.py:492: FutureWarning: 'squared' is deprecated in version 1.4 and will be removed in 1.6. To calculate the root mean squared error, use the function'root_mean_squared_error'.\n",
      "  warnings.warn(\n",
      "/Library/Frameworks/Python.framework/Versions/3.12/lib/python3.12/site-packages/keras/src/layers/rnn/rnn.py:204: UserWarning: Do not pass an `input_shape`/`input_dim` argument to a layer. When using Sequential models, prefer using an `Input(shape)` object as the first layer in the model instead.\n",
      "  super().__init__(**kwargs)\n"
     ]
    },
    {
     "name": "stdout",
     "output_type": "stream",
     "text": [
      "\u001b[1m2/2\u001b[0m \u001b[32m━━━━━━━━━━━━━━━━━━━━\u001b[0m\u001b[37m\u001b[0m \u001b[1m0s\u001b[0m 54ms/step\n"
     ]
    },
    {
     "name": "stderr",
     "output_type": "stream",
     "text": [
      "/Library/Frameworks/Python.framework/Versions/3.12/lib/python3.12/site-packages/sklearn/metrics/_regression.py:492: FutureWarning: 'squared' is deprecated in version 1.4 and will be removed in 1.6. To calculate the root mean squared error, use the function'root_mean_squared_error'.\n",
      "  warnings.warn(\n",
      "/Library/Frameworks/Python.framework/Versions/3.12/lib/python3.12/site-packages/keras/src/layers/rnn/rnn.py:204: UserWarning: Do not pass an `input_shape`/`input_dim` argument to a layer. When using Sequential models, prefer using an `Input(shape)` object as the first layer in the model instead.\n",
      "  super().__init__(**kwargs)\n"
     ]
    },
    {
     "name": "stdout",
     "output_type": "stream",
     "text": [
      "\u001b[1m2/2\u001b[0m \u001b[32m━━━━━━━━━━━━━━━━━━━━\u001b[0m\u001b[37m\u001b[0m \u001b[1m0s\u001b[0m 79ms/step\n"
     ]
    },
    {
     "name": "stderr",
     "output_type": "stream",
     "text": [
      "/Library/Frameworks/Python.framework/Versions/3.12/lib/python3.12/site-packages/sklearn/metrics/_regression.py:492: FutureWarning: 'squared' is deprecated in version 1.4 and will be removed in 1.6. To calculate the root mean squared error, use the function'root_mean_squared_error'.\n",
      "  warnings.warn(\n",
      "/Library/Frameworks/Python.framework/Versions/3.12/lib/python3.12/site-packages/keras/src/layers/rnn/rnn.py:204: UserWarning: Do not pass an `input_shape`/`input_dim` argument to a layer. When using Sequential models, prefer using an `Input(shape)` object as the first layer in the model instead.\n",
      "  super().__init__(**kwargs)\n"
     ]
    },
    {
     "name": "stdout",
     "output_type": "stream",
     "text": [
      "\u001b[1m2/2\u001b[0m \u001b[32m━━━━━━━━━━━━━━━━━━━━\u001b[0m\u001b[37m\u001b[0m \u001b[1m0s\u001b[0m 65ms/step\n",
      "Generation 4/10, Best RMSE: 0.0082\n"
     ]
    },
    {
     "name": "stderr",
     "output_type": "stream",
     "text": [
      "/Library/Frameworks/Python.framework/Versions/3.12/lib/python3.12/site-packages/sklearn/metrics/_regression.py:492: FutureWarning: 'squared' is deprecated in version 1.4 and will be removed in 1.6. To calculate the root mean squared error, use the function'root_mean_squared_error'.\n",
      "  warnings.warn(\n",
      "/Library/Frameworks/Python.framework/Versions/3.12/lib/python3.12/site-packages/keras/src/layers/rnn/rnn.py:204: UserWarning: Do not pass an `input_shape`/`input_dim` argument to a layer. When using Sequential models, prefer using an `Input(shape)` object as the first layer in the model instead.\n",
      "  super().__init__(**kwargs)\n"
     ]
    },
    {
     "name": "stdout",
     "output_type": "stream",
     "text": [
      "\u001b[1m2/2\u001b[0m \u001b[32m━━━━━━━━━━━━━━━━━━━━\u001b[0m\u001b[37m\u001b[0m \u001b[1m0s\u001b[0m 64ms/step\n"
     ]
    },
    {
     "name": "stderr",
     "output_type": "stream",
     "text": [
      "/Library/Frameworks/Python.framework/Versions/3.12/lib/python3.12/site-packages/sklearn/metrics/_regression.py:492: FutureWarning: 'squared' is deprecated in version 1.4 and will be removed in 1.6. To calculate the root mean squared error, use the function'root_mean_squared_error'.\n",
      "  warnings.warn(\n",
      "/Library/Frameworks/Python.framework/Versions/3.12/lib/python3.12/site-packages/keras/src/layers/rnn/rnn.py:204: UserWarning: Do not pass an `input_shape`/`input_dim` argument to a layer. When using Sequential models, prefer using an `Input(shape)` object as the first layer in the model instead.\n",
      "  super().__init__(**kwargs)\n"
     ]
    },
    {
     "name": "stdout",
     "output_type": "stream",
     "text": [
      "\u001b[1m2/2\u001b[0m \u001b[32m━━━━━━━━━━━━━━━━━━━━\u001b[0m\u001b[37m\u001b[0m \u001b[1m0s\u001b[0m 58ms/step\n"
     ]
    },
    {
     "name": "stderr",
     "output_type": "stream",
     "text": [
      "/Library/Frameworks/Python.framework/Versions/3.12/lib/python3.12/site-packages/sklearn/metrics/_regression.py:492: FutureWarning: 'squared' is deprecated in version 1.4 and will be removed in 1.6. To calculate the root mean squared error, use the function'root_mean_squared_error'.\n",
      "  warnings.warn(\n",
      "/Library/Frameworks/Python.framework/Versions/3.12/lib/python3.12/site-packages/keras/src/layers/rnn/rnn.py:204: UserWarning: Do not pass an `input_shape`/`input_dim` argument to a layer. When using Sequential models, prefer using an `Input(shape)` object as the first layer in the model instead.\n",
      "  super().__init__(**kwargs)\n"
     ]
    },
    {
     "name": "stdout",
     "output_type": "stream",
     "text": [
      "\u001b[1m2/2\u001b[0m \u001b[32m━━━━━━━━━━━━━━━━━━━━\u001b[0m\u001b[37m\u001b[0m \u001b[1m0s\u001b[0m 70ms/step\n"
     ]
    },
    {
     "name": "stderr",
     "output_type": "stream",
     "text": [
      "/Library/Frameworks/Python.framework/Versions/3.12/lib/python3.12/site-packages/sklearn/metrics/_regression.py:492: FutureWarning: 'squared' is deprecated in version 1.4 and will be removed in 1.6. To calculate the root mean squared error, use the function'root_mean_squared_error'.\n",
      "  warnings.warn(\n",
      "/Library/Frameworks/Python.framework/Versions/3.12/lib/python3.12/site-packages/keras/src/layers/rnn/rnn.py:204: UserWarning: Do not pass an `input_shape`/`input_dim` argument to a layer. When using Sequential models, prefer using an `Input(shape)` object as the first layer in the model instead.\n",
      "  super().__init__(**kwargs)\n"
     ]
    },
    {
     "name": "stdout",
     "output_type": "stream",
     "text": [
      "\u001b[1m2/2\u001b[0m \u001b[32m━━━━━━━━━━━━━━━━━━━━\u001b[0m\u001b[37m\u001b[0m \u001b[1m0s\u001b[0m 67ms/step\n"
     ]
    },
    {
     "name": "stderr",
     "output_type": "stream",
     "text": [
      "/Library/Frameworks/Python.framework/Versions/3.12/lib/python3.12/site-packages/sklearn/metrics/_regression.py:492: FutureWarning: 'squared' is deprecated in version 1.4 and will be removed in 1.6. To calculate the root mean squared error, use the function'root_mean_squared_error'.\n",
      "  warnings.warn(\n",
      "/Library/Frameworks/Python.framework/Versions/3.12/lib/python3.12/site-packages/keras/src/layers/rnn/rnn.py:204: UserWarning: Do not pass an `input_shape`/`input_dim` argument to a layer. When using Sequential models, prefer using an `Input(shape)` object as the first layer in the model instead.\n",
      "  super().__init__(**kwargs)\n"
     ]
    },
    {
     "name": "stdout",
     "output_type": "stream",
     "text": [
      "\u001b[1m2/2\u001b[0m \u001b[32m━━━━━━━━━━━━━━━━━━━━\u001b[0m\u001b[37m\u001b[0m \u001b[1m0s\u001b[0m 60ms/step\n"
     ]
    },
    {
     "name": "stderr",
     "output_type": "stream",
     "text": [
      "/Library/Frameworks/Python.framework/Versions/3.12/lib/python3.12/site-packages/sklearn/metrics/_regression.py:492: FutureWarning: 'squared' is deprecated in version 1.4 and will be removed in 1.6. To calculate the root mean squared error, use the function'root_mean_squared_error'.\n",
      "  warnings.warn(\n",
      "/Library/Frameworks/Python.framework/Versions/3.12/lib/python3.12/site-packages/keras/src/layers/rnn/rnn.py:204: UserWarning: Do not pass an `input_shape`/`input_dim` argument to a layer. When using Sequential models, prefer using an `Input(shape)` object as the first layer in the model instead.\n",
      "  super().__init__(**kwargs)\n"
     ]
    },
    {
     "name": "stdout",
     "output_type": "stream",
     "text": [
      "\u001b[1m2/2\u001b[0m \u001b[32m━━━━━━━━━━━━━━━━━━━━\u001b[0m\u001b[37m\u001b[0m \u001b[1m0s\u001b[0m 57ms/step\n"
     ]
    },
    {
     "name": "stderr",
     "output_type": "stream",
     "text": [
      "/Library/Frameworks/Python.framework/Versions/3.12/lib/python3.12/site-packages/sklearn/metrics/_regression.py:492: FutureWarning: 'squared' is deprecated in version 1.4 and will be removed in 1.6. To calculate the root mean squared error, use the function'root_mean_squared_error'.\n",
      "  warnings.warn(\n",
      "/Library/Frameworks/Python.framework/Versions/3.12/lib/python3.12/site-packages/keras/src/layers/rnn/rnn.py:204: UserWarning: Do not pass an `input_shape`/`input_dim` argument to a layer. When using Sequential models, prefer using an `Input(shape)` object as the first layer in the model instead.\n",
      "  super().__init__(**kwargs)\n"
     ]
    },
    {
     "name": "stdout",
     "output_type": "stream",
     "text": [
      "\u001b[1m2/2\u001b[0m \u001b[32m━━━━━━━━━━━━━━━━━━━━\u001b[0m\u001b[37m\u001b[0m \u001b[1m0s\u001b[0m 60ms/step\n"
     ]
    },
    {
     "name": "stderr",
     "output_type": "stream",
     "text": [
      "/Library/Frameworks/Python.framework/Versions/3.12/lib/python3.12/site-packages/sklearn/metrics/_regression.py:492: FutureWarning: 'squared' is deprecated in version 1.4 and will be removed in 1.6. To calculate the root mean squared error, use the function'root_mean_squared_error'.\n",
      "  warnings.warn(\n",
      "/Library/Frameworks/Python.framework/Versions/3.12/lib/python3.12/site-packages/keras/src/layers/rnn/rnn.py:204: UserWarning: Do not pass an `input_shape`/`input_dim` argument to a layer. When using Sequential models, prefer using an `Input(shape)` object as the first layer in the model instead.\n",
      "  super().__init__(**kwargs)\n"
     ]
    },
    {
     "name": "stdout",
     "output_type": "stream",
     "text": [
      "\u001b[1m2/2\u001b[0m \u001b[32m━━━━━━━━━━━━━━━━━━━━\u001b[0m\u001b[37m\u001b[0m \u001b[1m0s\u001b[0m 130ms/step\n"
     ]
    },
    {
     "name": "stderr",
     "output_type": "stream",
     "text": [
      "/Library/Frameworks/Python.framework/Versions/3.12/lib/python3.12/site-packages/sklearn/metrics/_regression.py:492: FutureWarning: 'squared' is deprecated in version 1.4 and will be removed in 1.6. To calculate the root mean squared error, use the function'root_mean_squared_error'.\n",
      "  warnings.warn(\n",
      "/Library/Frameworks/Python.framework/Versions/3.12/lib/python3.12/site-packages/keras/src/layers/rnn/rnn.py:204: UserWarning: Do not pass an `input_shape`/`input_dim` argument to a layer. When using Sequential models, prefer using an `Input(shape)` object as the first layer in the model instead.\n",
      "  super().__init__(**kwargs)\n"
     ]
    },
    {
     "name": "stdout",
     "output_type": "stream",
     "text": [
      "\u001b[1m2/2\u001b[0m \u001b[32m━━━━━━━━━━━━━━━━━━━━\u001b[0m\u001b[37m\u001b[0m \u001b[1m0s\u001b[0m 86ms/step\n"
     ]
    },
    {
     "name": "stderr",
     "output_type": "stream",
     "text": [
      "/Library/Frameworks/Python.framework/Versions/3.12/lib/python3.12/site-packages/sklearn/metrics/_regression.py:492: FutureWarning: 'squared' is deprecated in version 1.4 and will be removed in 1.6. To calculate the root mean squared error, use the function'root_mean_squared_error'.\n",
      "  warnings.warn(\n",
      "/Library/Frameworks/Python.framework/Versions/3.12/lib/python3.12/site-packages/keras/src/layers/rnn/rnn.py:204: UserWarning: Do not pass an `input_shape`/`input_dim` argument to a layer. When using Sequential models, prefer using an `Input(shape)` object as the first layer in the model instead.\n",
      "  super().__init__(**kwargs)\n"
     ]
    },
    {
     "name": "stdout",
     "output_type": "stream",
     "text": [
      "\u001b[1m2/2\u001b[0m \u001b[32m━━━━━━━━━━━━━━━━━━━━\u001b[0m\u001b[37m\u001b[0m \u001b[1m0s\u001b[0m 65ms/step\n"
     ]
    },
    {
     "name": "stderr",
     "output_type": "stream",
     "text": [
      "/Library/Frameworks/Python.framework/Versions/3.12/lib/python3.12/site-packages/sklearn/metrics/_regression.py:492: FutureWarning: 'squared' is deprecated in version 1.4 and will be removed in 1.6. To calculate the root mean squared error, use the function'root_mean_squared_error'.\n",
      "  warnings.warn(\n",
      "/Library/Frameworks/Python.framework/Versions/3.12/lib/python3.12/site-packages/keras/src/layers/rnn/rnn.py:204: UserWarning: Do not pass an `input_shape`/`input_dim` argument to a layer. When using Sequential models, prefer using an `Input(shape)` object as the first layer in the model instead.\n",
      "  super().__init__(**kwargs)\n"
     ]
    },
    {
     "name": "stdout",
     "output_type": "stream",
     "text": [
      "\u001b[1m2/2\u001b[0m \u001b[32m━━━━━━━━━━━━━━━━━━━━\u001b[0m\u001b[37m\u001b[0m \u001b[1m0s\u001b[0m 61ms/step\n"
     ]
    },
    {
     "name": "stderr",
     "output_type": "stream",
     "text": [
      "/Library/Frameworks/Python.framework/Versions/3.12/lib/python3.12/site-packages/sklearn/metrics/_regression.py:492: FutureWarning: 'squared' is deprecated in version 1.4 and will be removed in 1.6. To calculate the root mean squared error, use the function'root_mean_squared_error'.\n",
      "  warnings.warn(\n",
      "/Library/Frameworks/Python.framework/Versions/3.12/lib/python3.12/site-packages/keras/src/layers/rnn/rnn.py:204: UserWarning: Do not pass an `input_shape`/`input_dim` argument to a layer. When using Sequential models, prefer using an `Input(shape)` object as the first layer in the model instead.\n",
      "  super().__init__(**kwargs)\n"
     ]
    },
    {
     "name": "stdout",
     "output_type": "stream",
     "text": [
      "\u001b[1m2/2\u001b[0m \u001b[32m━━━━━━━━━━━━━━━━━━━━\u001b[0m\u001b[37m\u001b[0m \u001b[1m0s\u001b[0m 109ms/step\n"
     ]
    },
    {
     "name": "stderr",
     "output_type": "stream",
     "text": [
      "/Library/Frameworks/Python.framework/Versions/3.12/lib/python3.12/site-packages/sklearn/metrics/_regression.py:492: FutureWarning: 'squared' is deprecated in version 1.4 and will be removed in 1.6. To calculate the root mean squared error, use the function'root_mean_squared_error'.\n",
      "  warnings.warn(\n",
      "/Library/Frameworks/Python.framework/Versions/3.12/lib/python3.12/site-packages/keras/src/layers/rnn/rnn.py:204: UserWarning: Do not pass an `input_shape`/`input_dim` argument to a layer. When using Sequential models, prefer using an `Input(shape)` object as the first layer in the model instead.\n",
      "  super().__init__(**kwargs)\n"
     ]
    },
    {
     "name": "stdout",
     "output_type": "stream",
     "text": [
      "\u001b[1m2/2\u001b[0m \u001b[32m━━━━━━━━━━━━━━━━━━━━\u001b[0m\u001b[37m\u001b[0m \u001b[1m0s\u001b[0m 63ms/step\n",
      "Generation 5/10, Best RMSE: 0.0069\n"
     ]
    },
    {
     "name": "stderr",
     "output_type": "stream",
     "text": [
      "/Library/Frameworks/Python.framework/Versions/3.12/lib/python3.12/site-packages/sklearn/metrics/_regression.py:492: FutureWarning: 'squared' is deprecated in version 1.4 and will be removed in 1.6. To calculate the root mean squared error, use the function'root_mean_squared_error'.\n",
      "  warnings.warn(\n",
      "/Library/Frameworks/Python.framework/Versions/3.12/lib/python3.12/site-packages/keras/src/layers/rnn/rnn.py:204: UserWarning: Do not pass an `input_shape`/`input_dim` argument to a layer. When using Sequential models, prefer using an `Input(shape)` object as the first layer in the model instead.\n",
      "  super().__init__(**kwargs)\n"
     ]
    },
    {
     "name": "stdout",
     "output_type": "stream",
     "text": [
      "\u001b[1m2/2\u001b[0m \u001b[32m━━━━━━━━━━━━━━━━━━━━\u001b[0m\u001b[37m\u001b[0m \u001b[1m0s\u001b[0m 58ms/step\n"
     ]
    },
    {
     "name": "stderr",
     "output_type": "stream",
     "text": [
      "/Library/Frameworks/Python.framework/Versions/3.12/lib/python3.12/site-packages/sklearn/metrics/_regression.py:492: FutureWarning: 'squared' is deprecated in version 1.4 and will be removed in 1.6. To calculate the root mean squared error, use the function'root_mean_squared_error'.\n",
      "  warnings.warn(\n",
      "/Library/Frameworks/Python.framework/Versions/3.12/lib/python3.12/site-packages/keras/src/layers/rnn/rnn.py:204: UserWarning: Do not pass an `input_shape`/`input_dim` argument to a layer. When using Sequential models, prefer using an `Input(shape)` object as the first layer in the model instead.\n",
      "  super().__init__(**kwargs)\n"
     ]
    },
    {
     "name": "stdout",
     "output_type": "stream",
     "text": [
      "\u001b[1m2/2\u001b[0m \u001b[32m━━━━━━━━━━━━━━━━━━━━\u001b[0m\u001b[37m\u001b[0m \u001b[1m0s\u001b[0m 57ms/step\n"
     ]
    },
    {
     "name": "stderr",
     "output_type": "stream",
     "text": [
      "/Library/Frameworks/Python.framework/Versions/3.12/lib/python3.12/site-packages/sklearn/metrics/_regression.py:492: FutureWarning: 'squared' is deprecated in version 1.4 and will be removed in 1.6. To calculate the root mean squared error, use the function'root_mean_squared_error'.\n",
      "  warnings.warn(\n",
      "/Library/Frameworks/Python.framework/Versions/3.12/lib/python3.12/site-packages/keras/src/layers/rnn/rnn.py:204: UserWarning: Do not pass an `input_shape`/`input_dim` argument to a layer. When using Sequential models, prefer using an `Input(shape)` object as the first layer in the model instead.\n",
      "  super().__init__(**kwargs)\n"
     ]
    },
    {
     "name": "stdout",
     "output_type": "stream",
     "text": [
      "\u001b[1m2/2\u001b[0m \u001b[32m━━━━━━━━━━━━━━━━━━━━\u001b[0m\u001b[37m\u001b[0m \u001b[1m0s\u001b[0m 58ms/step\n"
     ]
    },
    {
     "name": "stderr",
     "output_type": "stream",
     "text": [
      "/Library/Frameworks/Python.framework/Versions/3.12/lib/python3.12/site-packages/sklearn/metrics/_regression.py:492: FutureWarning: 'squared' is deprecated in version 1.4 and will be removed in 1.6. To calculate the root mean squared error, use the function'root_mean_squared_error'.\n",
      "  warnings.warn(\n",
      "/Library/Frameworks/Python.framework/Versions/3.12/lib/python3.12/site-packages/keras/src/layers/rnn/rnn.py:204: UserWarning: Do not pass an `input_shape`/`input_dim` argument to a layer. When using Sequential models, prefer using an `Input(shape)` object as the first layer in the model instead.\n",
      "  super().__init__(**kwargs)\n"
     ]
    },
    {
     "name": "stdout",
     "output_type": "stream",
     "text": [
      "\u001b[1m2/2\u001b[0m \u001b[32m━━━━━━━━━━━━━━━━━━━━\u001b[0m\u001b[37m\u001b[0m \u001b[1m0s\u001b[0m 59ms/step\n"
     ]
    },
    {
     "name": "stderr",
     "output_type": "stream",
     "text": [
      "/Library/Frameworks/Python.framework/Versions/3.12/lib/python3.12/site-packages/sklearn/metrics/_regression.py:492: FutureWarning: 'squared' is deprecated in version 1.4 and will be removed in 1.6. To calculate the root mean squared error, use the function'root_mean_squared_error'.\n",
      "  warnings.warn(\n",
      "/Library/Frameworks/Python.framework/Versions/3.12/lib/python3.12/site-packages/keras/src/layers/rnn/rnn.py:204: UserWarning: Do not pass an `input_shape`/`input_dim` argument to a layer. When using Sequential models, prefer using an `Input(shape)` object as the first layer in the model instead.\n",
      "  super().__init__(**kwargs)\n"
     ]
    },
    {
     "name": "stdout",
     "output_type": "stream",
     "text": [
      "\u001b[1m2/2\u001b[0m \u001b[32m━━━━━━━━━━━━━━━━━━━━\u001b[0m\u001b[37m\u001b[0m \u001b[1m0s\u001b[0m 56ms/step\n"
     ]
    },
    {
     "name": "stderr",
     "output_type": "stream",
     "text": [
      "/Library/Frameworks/Python.framework/Versions/3.12/lib/python3.12/site-packages/sklearn/metrics/_regression.py:492: FutureWarning: 'squared' is deprecated in version 1.4 and will be removed in 1.6. To calculate the root mean squared error, use the function'root_mean_squared_error'.\n",
      "  warnings.warn(\n",
      "/Library/Frameworks/Python.framework/Versions/3.12/lib/python3.12/site-packages/keras/src/layers/rnn/rnn.py:204: UserWarning: Do not pass an `input_shape`/`input_dim` argument to a layer. When using Sequential models, prefer using an `Input(shape)` object as the first layer in the model instead.\n",
      "  super().__init__(**kwargs)\n"
     ]
    },
    {
     "name": "stdout",
     "output_type": "stream",
     "text": [
      "\u001b[1m2/2\u001b[0m \u001b[32m━━━━━━━━━━━━━━━━━━━━\u001b[0m\u001b[37m\u001b[0m \u001b[1m0s\u001b[0m 56ms/step\n"
     ]
    },
    {
     "name": "stderr",
     "output_type": "stream",
     "text": [
      "/Library/Frameworks/Python.framework/Versions/3.12/lib/python3.12/site-packages/sklearn/metrics/_regression.py:492: FutureWarning: 'squared' is deprecated in version 1.4 and will be removed in 1.6. To calculate the root mean squared error, use the function'root_mean_squared_error'.\n",
      "  warnings.warn(\n",
      "/Library/Frameworks/Python.framework/Versions/3.12/lib/python3.12/site-packages/keras/src/layers/rnn/rnn.py:204: UserWarning: Do not pass an `input_shape`/`input_dim` argument to a layer. When using Sequential models, prefer using an `Input(shape)` object as the first layer in the model instead.\n",
      "  super().__init__(**kwargs)\n"
     ]
    },
    {
     "name": "stdout",
     "output_type": "stream",
     "text": [
      "\u001b[1m2/2\u001b[0m \u001b[32m━━━━━━━━━━━━━━━━━━━━\u001b[0m\u001b[37m\u001b[0m \u001b[1m0s\u001b[0m 56ms/step\n"
     ]
    },
    {
     "name": "stderr",
     "output_type": "stream",
     "text": [
      "/Library/Frameworks/Python.framework/Versions/3.12/lib/python3.12/site-packages/sklearn/metrics/_regression.py:492: FutureWarning: 'squared' is deprecated in version 1.4 and will be removed in 1.6. To calculate the root mean squared error, use the function'root_mean_squared_error'.\n",
      "  warnings.warn(\n",
      "/Library/Frameworks/Python.framework/Versions/3.12/lib/python3.12/site-packages/keras/src/layers/rnn/rnn.py:204: UserWarning: Do not pass an `input_shape`/`input_dim` argument to a layer. When using Sequential models, prefer using an `Input(shape)` object as the first layer in the model instead.\n",
      "  super().__init__(**kwargs)\n"
     ]
    },
    {
     "name": "stdout",
     "output_type": "stream",
     "text": [
      "\u001b[1m2/2\u001b[0m \u001b[32m━━━━━━━━━━━━━━━━━━━━\u001b[0m\u001b[37m\u001b[0m \u001b[1m0s\u001b[0m 57ms/step\n"
     ]
    },
    {
     "name": "stderr",
     "output_type": "stream",
     "text": [
      "/Library/Frameworks/Python.framework/Versions/3.12/lib/python3.12/site-packages/sklearn/metrics/_regression.py:492: FutureWarning: 'squared' is deprecated in version 1.4 and will be removed in 1.6. To calculate the root mean squared error, use the function'root_mean_squared_error'.\n",
      "  warnings.warn(\n",
      "/Library/Frameworks/Python.framework/Versions/3.12/lib/python3.12/site-packages/keras/src/layers/rnn/rnn.py:204: UserWarning: Do not pass an `input_shape`/`input_dim` argument to a layer. When using Sequential models, prefer using an `Input(shape)` object as the first layer in the model instead.\n",
      "  super().__init__(**kwargs)\n"
     ]
    },
    {
     "name": "stdout",
     "output_type": "stream",
     "text": [
      "\u001b[1m2/2\u001b[0m \u001b[32m━━━━━━━━━━━━━━━━━━━━\u001b[0m\u001b[37m\u001b[0m \u001b[1m0s\u001b[0m 56ms/step\n"
     ]
    },
    {
     "name": "stderr",
     "output_type": "stream",
     "text": [
      "/Library/Frameworks/Python.framework/Versions/3.12/lib/python3.12/site-packages/sklearn/metrics/_regression.py:492: FutureWarning: 'squared' is deprecated in version 1.4 and will be removed in 1.6. To calculate the root mean squared error, use the function'root_mean_squared_error'.\n",
      "  warnings.warn(\n",
      "/Library/Frameworks/Python.framework/Versions/3.12/lib/python3.12/site-packages/keras/src/layers/rnn/rnn.py:204: UserWarning: Do not pass an `input_shape`/`input_dim` argument to a layer. When using Sequential models, prefer using an `Input(shape)` object as the first layer in the model instead.\n",
      "  super().__init__(**kwargs)\n"
     ]
    },
    {
     "name": "stdout",
     "output_type": "stream",
     "text": [
      "\u001b[1m2/2\u001b[0m \u001b[32m━━━━━━━━━━━━━━━━━━━━\u001b[0m\u001b[37m\u001b[0m \u001b[1m0s\u001b[0m 57ms/step\n"
     ]
    },
    {
     "name": "stderr",
     "output_type": "stream",
     "text": [
      "/Library/Frameworks/Python.framework/Versions/3.12/lib/python3.12/site-packages/sklearn/metrics/_regression.py:492: FutureWarning: 'squared' is deprecated in version 1.4 and will be removed in 1.6. To calculate the root mean squared error, use the function'root_mean_squared_error'.\n",
      "  warnings.warn(\n",
      "/Library/Frameworks/Python.framework/Versions/3.12/lib/python3.12/site-packages/keras/src/layers/rnn/rnn.py:204: UserWarning: Do not pass an `input_shape`/`input_dim` argument to a layer. When using Sequential models, prefer using an `Input(shape)` object as the first layer in the model instead.\n",
      "  super().__init__(**kwargs)\n"
     ]
    },
    {
     "name": "stdout",
     "output_type": "stream",
     "text": [
      "\u001b[1m2/2\u001b[0m \u001b[32m━━━━━━━━━━━━━━━━━━━━\u001b[0m\u001b[37m\u001b[0m \u001b[1m0s\u001b[0m 58ms/step\n"
     ]
    },
    {
     "name": "stderr",
     "output_type": "stream",
     "text": [
      "/Library/Frameworks/Python.framework/Versions/3.12/lib/python3.12/site-packages/sklearn/metrics/_regression.py:492: FutureWarning: 'squared' is deprecated in version 1.4 and will be removed in 1.6. To calculate the root mean squared error, use the function'root_mean_squared_error'.\n",
      "  warnings.warn(\n",
      "/Library/Frameworks/Python.framework/Versions/3.12/lib/python3.12/site-packages/keras/src/layers/rnn/rnn.py:204: UserWarning: Do not pass an `input_shape`/`input_dim` argument to a layer. When using Sequential models, prefer using an `Input(shape)` object as the first layer in the model instead.\n",
      "  super().__init__(**kwargs)\n"
     ]
    },
    {
     "name": "stdout",
     "output_type": "stream",
     "text": [
      "\u001b[1m2/2\u001b[0m \u001b[32m━━━━━━━━━━━━━━━━━━━━\u001b[0m\u001b[37m\u001b[0m \u001b[1m0s\u001b[0m 56ms/step\n"
     ]
    },
    {
     "name": "stderr",
     "output_type": "stream",
     "text": [
      "/Library/Frameworks/Python.framework/Versions/3.12/lib/python3.12/site-packages/sklearn/metrics/_regression.py:492: FutureWarning: 'squared' is deprecated in version 1.4 and will be removed in 1.6. To calculate the root mean squared error, use the function'root_mean_squared_error'.\n",
      "  warnings.warn(\n",
      "/Library/Frameworks/Python.framework/Versions/3.12/lib/python3.12/site-packages/keras/src/layers/rnn/rnn.py:204: UserWarning: Do not pass an `input_shape`/`input_dim` argument to a layer. When using Sequential models, prefer using an `Input(shape)` object as the first layer in the model instead.\n",
      "  super().__init__(**kwargs)\n"
     ]
    },
    {
     "name": "stdout",
     "output_type": "stream",
     "text": [
      "\u001b[1m2/2\u001b[0m \u001b[32m━━━━━━━━━━━━━━━━━━━━\u001b[0m\u001b[37m\u001b[0m \u001b[1m0s\u001b[0m 54ms/step\n",
      "Generation 6/10, Best RMSE: 0.0077\n"
     ]
    },
    {
     "name": "stderr",
     "output_type": "stream",
     "text": [
      "/Library/Frameworks/Python.framework/Versions/3.12/lib/python3.12/site-packages/sklearn/metrics/_regression.py:492: FutureWarning: 'squared' is deprecated in version 1.4 and will be removed in 1.6. To calculate the root mean squared error, use the function'root_mean_squared_error'.\n",
      "  warnings.warn(\n",
      "/Library/Frameworks/Python.framework/Versions/3.12/lib/python3.12/site-packages/keras/src/layers/rnn/rnn.py:204: UserWarning: Do not pass an `input_shape`/`input_dim` argument to a layer. When using Sequential models, prefer using an `Input(shape)` object as the first layer in the model instead.\n",
      "  super().__init__(**kwargs)\n"
     ]
    },
    {
     "name": "stdout",
     "output_type": "stream",
     "text": [
      "\u001b[1m2/2\u001b[0m \u001b[32m━━━━━━━━━━━━━━━━━━━━\u001b[0m\u001b[37m\u001b[0m \u001b[1m0s\u001b[0m 56ms/step\n"
     ]
    },
    {
     "name": "stderr",
     "output_type": "stream",
     "text": [
      "/Library/Frameworks/Python.framework/Versions/3.12/lib/python3.12/site-packages/sklearn/metrics/_regression.py:492: FutureWarning: 'squared' is deprecated in version 1.4 and will be removed in 1.6. To calculate the root mean squared error, use the function'root_mean_squared_error'.\n",
      "  warnings.warn(\n",
      "/Library/Frameworks/Python.framework/Versions/3.12/lib/python3.12/site-packages/keras/src/layers/rnn/rnn.py:204: UserWarning: Do not pass an `input_shape`/`input_dim` argument to a layer. When using Sequential models, prefer using an `Input(shape)` object as the first layer in the model instead.\n",
      "  super().__init__(**kwargs)\n"
     ]
    },
    {
     "name": "stdout",
     "output_type": "stream",
     "text": [
      "\u001b[1m2/2\u001b[0m \u001b[32m━━━━━━━━━━━━━━━━━━━━\u001b[0m\u001b[37m\u001b[0m \u001b[1m0s\u001b[0m 55ms/step\n"
     ]
    },
    {
     "name": "stderr",
     "output_type": "stream",
     "text": [
      "/Library/Frameworks/Python.framework/Versions/3.12/lib/python3.12/site-packages/sklearn/metrics/_regression.py:492: FutureWarning: 'squared' is deprecated in version 1.4 and will be removed in 1.6. To calculate the root mean squared error, use the function'root_mean_squared_error'.\n",
      "  warnings.warn(\n",
      "/Library/Frameworks/Python.framework/Versions/3.12/lib/python3.12/site-packages/keras/src/layers/rnn/rnn.py:204: UserWarning: Do not pass an `input_shape`/`input_dim` argument to a layer. When using Sequential models, prefer using an `Input(shape)` object as the first layer in the model instead.\n",
      "  super().__init__(**kwargs)\n"
     ]
    },
    {
     "name": "stdout",
     "output_type": "stream",
     "text": [
      "\u001b[1m2/2\u001b[0m \u001b[32m━━━━━━━━━━━━━━━━━━━━\u001b[0m\u001b[37m\u001b[0m \u001b[1m0s\u001b[0m 55ms/step\n"
     ]
    },
    {
     "name": "stderr",
     "output_type": "stream",
     "text": [
      "/Library/Frameworks/Python.framework/Versions/3.12/lib/python3.12/site-packages/sklearn/metrics/_regression.py:492: FutureWarning: 'squared' is deprecated in version 1.4 and will be removed in 1.6. To calculate the root mean squared error, use the function'root_mean_squared_error'.\n",
      "  warnings.warn(\n",
      "/Library/Frameworks/Python.framework/Versions/3.12/lib/python3.12/site-packages/keras/src/layers/rnn/rnn.py:204: UserWarning: Do not pass an `input_shape`/`input_dim` argument to a layer. When using Sequential models, prefer using an `Input(shape)` object as the first layer in the model instead.\n",
      "  super().__init__(**kwargs)\n"
     ]
    },
    {
     "name": "stdout",
     "output_type": "stream",
     "text": [
      "\u001b[1m2/2\u001b[0m \u001b[32m━━━━━━━━━━━━━━━━━━━━\u001b[0m\u001b[37m\u001b[0m \u001b[1m0s\u001b[0m 56ms/step\n"
     ]
    },
    {
     "name": "stderr",
     "output_type": "stream",
     "text": [
      "/Library/Frameworks/Python.framework/Versions/3.12/lib/python3.12/site-packages/sklearn/metrics/_regression.py:492: FutureWarning: 'squared' is deprecated in version 1.4 and will be removed in 1.6. To calculate the root mean squared error, use the function'root_mean_squared_error'.\n",
      "  warnings.warn(\n",
      "/Library/Frameworks/Python.framework/Versions/3.12/lib/python3.12/site-packages/keras/src/layers/rnn/rnn.py:204: UserWarning: Do not pass an `input_shape`/`input_dim` argument to a layer. When using Sequential models, prefer using an `Input(shape)` object as the first layer in the model instead.\n",
      "  super().__init__(**kwargs)\n"
     ]
    },
    {
     "name": "stdout",
     "output_type": "stream",
     "text": [
      "\u001b[1m2/2\u001b[0m \u001b[32m━━━━━━━━━━━━━━━━━━━━\u001b[0m\u001b[37m\u001b[0m \u001b[1m0s\u001b[0m 57ms/step\n"
     ]
    },
    {
     "name": "stderr",
     "output_type": "stream",
     "text": [
      "/Library/Frameworks/Python.framework/Versions/3.12/lib/python3.12/site-packages/sklearn/metrics/_regression.py:492: FutureWarning: 'squared' is deprecated in version 1.4 and will be removed in 1.6. To calculate the root mean squared error, use the function'root_mean_squared_error'.\n",
      "  warnings.warn(\n",
      "/Library/Frameworks/Python.framework/Versions/3.12/lib/python3.12/site-packages/keras/src/layers/rnn/rnn.py:204: UserWarning: Do not pass an `input_shape`/`input_dim` argument to a layer. When using Sequential models, prefer using an `Input(shape)` object as the first layer in the model instead.\n",
      "  super().__init__(**kwargs)\n"
     ]
    },
    {
     "name": "stdout",
     "output_type": "stream",
     "text": [
      "\u001b[1m2/2\u001b[0m \u001b[32m━━━━━━━━━━━━━━━━━━━━\u001b[0m\u001b[37m\u001b[0m \u001b[1m0s\u001b[0m 57ms/step\n"
     ]
    },
    {
     "name": "stderr",
     "output_type": "stream",
     "text": [
      "/Library/Frameworks/Python.framework/Versions/3.12/lib/python3.12/site-packages/sklearn/metrics/_regression.py:492: FutureWarning: 'squared' is deprecated in version 1.4 and will be removed in 1.6. To calculate the root mean squared error, use the function'root_mean_squared_error'.\n",
      "  warnings.warn(\n",
      "/Library/Frameworks/Python.framework/Versions/3.12/lib/python3.12/site-packages/keras/src/layers/rnn/rnn.py:204: UserWarning: Do not pass an `input_shape`/`input_dim` argument to a layer. When using Sequential models, prefer using an `Input(shape)` object as the first layer in the model instead.\n",
      "  super().__init__(**kwargs)\n"
     ]
    },
    {
     "name": "stdout",
     "output_type": "stream",
     "text": [
      "\u001b[1m2/2\u001b[0m \u001b[32m━━━━━━━━━━━━━━━━━━━━\u001b[0m\u001b[37m\u001b[0m \u001b[1m0s\u001b[0m 67ms/step\n"
     ]
    },
    {
     "name": "stderr",
     "output_type": "stream",
     "text": [
      "/Library/Frameworks/Python.framework/Versions/3.12/lib/python3.12/site-packages/sklearn/metrics/_regression.py:492: FutureWarning: 'squared' is deprecated in version 1.4 and will be removed in 1.6. To calculate the root mean squared error, use the function'root_mean_squared_error'.\n",
      "  warnings.warn(\n",
      "/Library/Frameworks/Python.framework/Versions/3.12/lib/python3.12/site-packages/keras/src/layers/rnn/rnn.py:204: UserWarning: Do not pass an `input_shape`/`input_dim` argument to a layer. When using Sequential models, prefer using an `Input(shape)` object as the first layer in the model instead.\n",
      "  super().__init__(**kwargs)\n"
     ]
    },
    {
     "name": "stdout",
     "output_type": "stream",
     "text": [
      "\u001b[1m2/2\u001b[0m \u001b[32m━━━━━━━━━━━━━━━━━━━━\u001b[0m\u001b[37m\u001b[0m \u001b[1m0s\u001b[0m 56ms/step\n"
     ]
    },
    {
     "name": "stderr",
     "output_type": "stream",
     "text": [
      "/Library/Frameworks/Python.framework/Versions/3.12/lib/python3.12/site-packages/sklearn/metrics/_regression.py:492: FutureWarning: 'squared' is deprecated in version 1.4 and will be removed in 1.6. To calculate the root mean squared error, use the function'root_mean_squared_error'.\n",
      "  warnings.warn(\n",
      "/Library/Frameworks/Python.framework/Versions/3.12/lib/python3.12/site-packages/keras/src/layers/rnn/rnn.py:204: UserWarning: Do not pass an `input_shape`/`input_dim` argument to a layer. When using Sequential models, prefer using an `Input(shape)` object as the first layer in the model instead.\n",
      "  super().__init__(**kwargs)\n"
     ]
    },
    {
     "name": "stdout",
     "output_type": "stream",
     "text": [
      "\u001b[1m2/2\u001b[0m \u001b[32m━━━━━━━━━━━━━━━━━━━━\u001b[0m\u001b[37m\u001b[0m \u001b[1m0s\u001b[0m 56ms/step\n"
     ]
    },
    {
     "name": "stderr",
     "output_type": "stream",
     "text": [
      "/Library/Frameworks/Python.framework/Versions/3.12/lib/python3.12/site-packages/sklearn/metrics/_regression.py:492: FutureWarning: 'squared' is deprecated in version 1.4 and will be removed in 1.6. To calculate the root mean squared error, use the function'root_mean_squared_error'.\n",
      "  warnings.warn(\n",
      "/Library/Frameworks/Python.framework/Versions/3.12/lib/python3.12/site-packages/keras/src/layers/rnn/rnn.py:204: UserWarning: Do not pass an `input_shape`/`input_dim` argument to a layer. When using Sequential models, prefer using an `Input(shape)` object as the first layer in the model instead.\n",
      "  super().__init__(**kwargs)\n"
     ]
    },
    {
     "name": "stdout",
     "output_type": "stream",
     "text": [
      "\u001b[1m2/2\u001b[0m \u001b[32m━━━━━━━━━━━━━━━━━━━━\u001b[0m\u001b[37m\u001b[0m \u001b[1m0s\u001b[0m 59ms/step\n"
     ]
    },
    {
     "name": "stderr",
     "output_type": "stream",
     "text": [
      "/Library/Frameworks/Python.framework/Versions/3.12/lib/python3.12/site-packages/sklearn/metrics/_regression.py:492: FutureWarning: 'squared' is deprecated in version 1.4 and will be removed in 1.6. To calculate the root mean squared error, use the function'root_mean_squared_error'.\n",
      "  warnings.warn(\n",
      "/Library/Frameworks/Python.framework/Versions/3.12/lib/python3.12/site-packages/keras/src/layers/rnn/rnn.py:204: UserWarning: Do not pass an `input_shape`/`input_dim` argument to a layer. When using Sequential models, prefer using an `Input(shape)` object as the first layer in the model instead.\n",
      "  super().__init__(**kwargs)\n"
     ]
    },
    {
     "name": "stdout",
     "output_type": "stream",
     "text": [
      "\u001b[1m2/2\u001b[0m \u001b[32m━━━━━━━━━━━━━━━━━━━━\u001b[0m\u001b[37m\u001b[0m \u001b[1m0s\u001b[0m 57ms/step\n"
     ]
    },
    {
     "name": "stderr",
     "output_type": "stream",
     "text": [
      "/Library/Frameworks/Python.framework/Versions/3.12/lib/python3.12/site-packages/sklearn/metrics/_regression.py:492: FutureWarning: 'squared' is deprecated in version 1.4 and will be removed in 1.6. To calculate the root mean squared error, use the function'root_mean_squared_error'.\n",
      "  warnings.warn(\n",
      "/Library/Frameworks/Python.framework/Versions/3.12/lib/python3.12/site-packages/keras/src/layers/rnn/rnn.py:204: UserWarning: Do not pass an `input_shape`/`input_dim` argument to a layer. When using Sequential models, prefer using an `Input(shape)` object as the first layer in the model instead.\n",
      "  super().__init__(**kwargs)\n"
     ]
    },
    {
     "name": "stdout",
     "output_type": "stream",
     "text": [
      "\u001b[1m2/2\u001b[0m \u001b[32m━━━━━━━━━━━━━━━━━━━━\u001b[0m\u001b[37m\u001b[0m \u001b[1m0s\u001b[0m 56ms/step\n"
     ]
    },
    {
     "name": "stderr",
     "output_type": "stream",
     "text": [
      "/Library/Frameworks/Python.framework/Versions/3.12/lib/python3.12/site-packages/sklearn/metrics/_regression.py:492: FutureWarning: 'squared' is deprecated in version 1.4 and will be removed in 1.6. To calculate the root mean squared error, use the function'root_mean_squared_error'.\n",
      "  warnings.warn(\n",
      "/Library/Frameworks/Python.framework/Versions/3.12/lib/python3.12/site-packages/keras/src/layers/rnn/rnn.py:204: UserWarning: Do not pass an `input_shape`/`input_dim` argument to a layer. When using Sequential models, prefer using an `Input(shape)` object as the first layer in the model instead.\n",
      "  super().__init__(**kwargs)\n"
     ]
    },
    {
     "name": "stdout",
     "output_type": "stream",
     "text": [
      "\u001b[1m2/2\u001b[0m \u001b[32m━━━━━━━━━━━━━━━━━━━━\u001b[0m\u001b[37m\u001b[0m \u001b[1m0s\u001b[0m 58ms/step\n",
      "Generation 7/10, Best RMSE: 0.0067\n"
     ]
    },
    {
     "name": "stderr",
     "output_type": "stream",
     "text": [
      "/Library/Frameworks/Python.framework/Versions/3.12/lib/python3.12/site-packages/sklearn/metrics/_regression.py:492: FutureWarning: 'squared' is deprecated in version 1.4 and will be removed in 1.6. To calculate the root mean squared error, use the function'root_mean_squared_error'.\n",
      "  warnings.warn(\n",
      "/Library/Frameworks/Python.framework/Versions/3.12/lib/python3.12/site-packages/keras/src/layers/rnn/rnn.py:204: UserWarning: Do not pass an `input_shape`/`input_dim` argument to a layer. When using Sequential models, prefer using an `Input(shape)` object as the first layer in the model instead.\n",
      "  super().__init__(**kwargs)\n"
     ]
    },
    {
     "name": "stdout",
     "output_type": "stream",
     "text": [
      "\u001b[1m2/2\u001b[0m \u001b[32m━━━━━━━━━━━━━━━━━━━━\u001b[0m\u001b[37m\u001b[0m \u001b[1m0s\u001b[0m 55ms/step\n"
     ]
    },
    {
     "name": "stderr",
     "output_type": "stream",
     "text": [
      "/Library/Frameworks/Python.framework/Versions/3.12/lib/python3.12/site-packages/sklearn/metrics/_regression.py:492: FutureWarning: 'squared' is deprecated in version 1.4 and will be removed in 1.6. To calculate the root mean squared error, use the function'root_mean_squared_error'.\n",
      "  warnings.warn(\n",
      "/Library/Frameworks/Python.framework/Versions/3.12/lib/python3.12/site-packages/keras/src/layers/rnn/rnn.py:204: UserWarning: Do not pass an `input_shape`/`input_dim` argument to a layer. When using Sequential models, prefer using an `Input(shape)` object as the first layer in the model instead.\n",
      "  super().__init__(**kwargs)\n"
     ]
    },
    {
     "name": "stdout",
     "output_type": "stream",
     "text": [
      "\u001b[1m2/2\u001b[0m \u001b[32m━━━━━━━━━━━━━━━━━━━━\u001b[0m\u001b[37m\u001b[0m \u001b[1m0s\u001b[0m 55ms/step\n"
     ]
    },
    {
     "name": "stderr",
     "output_type": "stream",
     "text": [
      "/Library/Frameworks/Python.framework/Versions/3.12/lib/python3.12/site-packages/sklearn/metrics/_regression.py:492: FutureWarning: 'squared' is deprecated in version 1.4 and will be removed in 1.6. To calculate the root mean squared error, use the function'root_mean_squared_error'.\n",
      "  warnings.warn(\n",
      "/Library/Frameworks/Python.framework/Versions/3.12/lib/python3.12/site-packages/keras/src/layers/rnn/rnn.py:204: UserWarning: Do not pass an `input_shape`/`input_dim` argument to a layer. When using Sequential models, prefer using an `Input(shape)` object as the first layer in the model instead.\n",
      "  super().__init__(**kwargs)\n"
     ]
    },
    {
     "name": "stdout",
     "output_type": "stream",
     "text": [
      "\u001b[1m2/2\u001b[0m \u001b[32m━━━━━━━━━━━━━━━━━━━━\u001b[0m\u001b[37m\u001b[0m \u001b[1m0s\u001b[0m 56ms/step\n"
     ]
    },
    {
     "name": "stderr",
     "output_type": "stream",
     "text": [
      "/Library/Frameworks/Python.framework/Versions/3.12/lib/python3.12/site-packages/sklearn/metrics/_regression.py:492: FutureWarning: 'squared' is deprecated in version 1.4 and will be removed in 1.6. To calculate the root mean squared error, use the function'root_mean_squared_error'.\n",
      "  warnings.warn(\n",
      "/Library/Frameworks/Python.framework/Versions/3.12/lib/python3.12/site-packages/keras/src/layers/rnn/rnn.py:204: UserWarning: Do not pass an `input_shape`/`input_dim` argument to a layer. When using Sequential models, prefer using an `Input(shape)` object as the first layer in the model instead.\n",
      "  super().__init__(**kwargs)\n"
     ]
    },
    {
     "name": "stdout",
     "output_type": "stream",
     "text": [
      "\u001b[1m2/2\u001b[0m \u001b[32m━━━━━━━━━━━━━━━━━━━━\u001b[0m\u001b[37m\u001b[0m \u001b[1m0s\u001b[0m 56ms/step\n"
     ]
    },
    {
     "name": "stderr",
     "output_type": "stream",
     "text": [
      "/Library/Frameworks/Python.framework/Versions/3.12/lib/python3.12/site-packages/sklearn/metrics/_regression.py:492: FutureWarning: 'squared' is deprecated in version 1.4 and will be removed in 1.6. To calculate the root mean squared error, use the function'root_mean_squared_error'.\n",
      "  warnings.warn(\n",
      "/Library/Frameworks/Python.framework/Versions/3.12/lib/python3.12/site-packages/keras/src/layers/rnn/rnn.py:204: UserWarning: Do not pass an `input_shape`/`input_dim` argument to a layer. When using Sequential models, prefer using an `Input(shape)` object as the first layer in the model instead.\n",
      "  super().__init__(**kwargs)\n"
     ]
    },
    {
     "name": "stdout",
     "output_type": "stream",
     "text": [
      "\u001b[1m2/2\u001b[0m \u001b[32m━━━━━━━━━━━━━━━━━━━━\u001b[0m\u001b[37m\u001b[0m \u001b[1m0s\u001b[0m 57ms/step\n"
     ]
    },
    {
     "name": "stderr",
     "output_type": "stream",
     "text": [
      "/Library/Frameworks/Python.framework/Versions/3.12/lib/python3.12/site-packages/sklearn/metrics/_regression.py:492: FutureWarning: 'squared' is deprecated in version 1.4 and will be removed in 1.6. To calculate the root mean squared error, use the function'root_mean_squared_error'.\n",
      "  warnings.warn(\n",
      "/Library/Frameworks/Python.framework/Versions/3.12/lib/python3.12/site-packages/keras/src/layers/rnn/rnn.py:204: UserWarning: Do not pass an `input_shape`/`input_dim` argument to a layer. When using Sequential models, prefer using an `Input(shape)` object as the first layer in the model instead.\n",
      "  super().__init__(**kwargs)\n"
     ]
    },
    {
     "name": "stdout",
     "output_type": "stream",
     "text": [
      "\u001b[1m2/2\u001b[0m \u001b[32m━━━━━━━━━━━━━━━━━━━━\u001b[0m\u001b[37m\u001b[0m \u001b[1m0s\u001b[0m 57ms/step\n"
     ]
    },
    {
     "name": "stderr",
     "output_type": "stream",
     "text": [
      "/Library/Frameworks/Python.framework/Versions/3.12/lib/python3.12/site-packages/sklearn/metrics/_regression.py:492: FutureWarning: 'squared' is deprecated in version 1.4 and will be removed in 1.6. To calculate the root mean squared error, use the function'root_mean_squared_error'.\n",
      "  warnings.warn(\n",
      "/Library/Frameworks/Python.framework/Versions/3.12/lib/python3.12/site-packages/keras/src/layers/rnn/rnn.py:204: UserWarning: Do not pass an `input_shape`/`input_dim` argument to a layer. When using Sequential models, prefer using an `Input(shape)` object as the first layer in the model instead.\n",
      "  super().__init__(**kwargs)\n"
     ]
    },
    {
     "name": "stdout",
     "output_type": "stream",
     "text": [
      "\u001b[1m2/2\u001b[0m \u001b[32m━━━━━━━━━━━━━━━━━━━━\u001b[0m\u001b[37m\u001b[0m \u001b[1m0s\u001b[0m 64ms/step\n"
     ]
    },
    {
     "name": "stderr",
     "output_type": "stream",
     "text": [
      "/Library/Frameworks/Python.framework/Versions/3.12/lib/python3.12/site-packages/sklearn/metrics/_regression.py:492: FutureWarning: 'squared' is deprecated in version 1.4 and will be removed in 1.6. To calculate the root mean squared error, use the function'root_mean_squared_error'.\n",
      "  warnings.warn(\n",
      "/Library/Frameworks/Python.framework/Versions/3.12/lib/python3.12/site-packages/keras/src/layers/rnn/rnn.py:204: UserWarning: Do not pass an `input_shape`/`input_dim` argument to a layer. When using Sequential models, prefer using an `Input(shape)` object as the first layer in the model instead.\n",
      "  super().__init__(**kwargs)\n"
     ]
    },
    {
     "name": "stdout",
     "output_type": "stream",
     "text": [
      "\u001b[1m2/2\u001b[0m \u001b[32m━━━━━━━━━━━━━━━━━━━━\u001b[0m\u001b[37m\u001b[0m \u001b[1m0s\u001b[0m 58ms/step\n"
     ]
    },
    {
     "name": "stderr",
     "output_type": "stream",
     "text": [
      "/Library/Frameworks/Python.framework/Versions/3.12/lib/python3.12/site-packages/sklearn/metrics/_regression.py:492: FutureWarning: 'squared' is deprecated in version 1.4 and will be removed in 1.6. To calculate the root mean squared error, use the function'root_mean_squared_error'.\n",
      "  warnings.warn(\n",
      "/Library/Frameworks/Python.framework/Versions/3.12/lib/python3.12/site-packages/keras/src/layers/rnn/rnn.py:204: UserWarning: Do not pass an `input_shape`/`input_dim` argument to a layer. When using Sequential models, prefer using an `Input(shape)` object as the first layer in the model instead.\n",
      "  super().__init__(**kwargs)\n"
     ]
    },
    {
     "name": "stdout",
     "output_type": "stream",
     "text": [
      "\u001b[1m2/2\u001b[0m \u001b[32m━━━━━━━━━━━━━━━━━━━━\u001b[0m\u001b[37m\u001b[0m \u001b[1m0s\u001b[0m 55ms/step\n"
     ]
    },
    {
     "name": "stderr",
     "output_type": "stream",
     "text": [
      "/Library/Frameworks/Python.framework/Versions/3.12/lib/python3.12/site-packages/sklearn/metrics/_regression.py:492: FutureWarning: 'squared' is deprecated in version 1.4 and will be removed in 1.6. To calculate the root mean squared error, use the function'root_mean_squared_error'.\n",
      "  warnings.warn(\n",
      "/Library/Frameworks/Python.framework/Versions/3.12/lib/python3.12/site-packages/keras/src/layers/rnn/rnn.py:204: UserWarning: Do not pass an `input_shape`/`input_dim` argument to a layer. When using Sequential models, prefer using an `Input(shape)` object as the first layer in the model instead.\n",
      "  super().__init__(**kwargs)\n"
     ]
    },
    {
     "name": "stdout",
     "output_type": "stream",
     "text": [
      "\u001b[1m2/2\u001b[0m \u001b[32m━━━━━━━━━━━━━━━━━━━━\u001b[0m\u001b[37m\u001b[0m \u001b[1m0s\u001b[0m 55ms/step\n"
     ]
    },
    {
     "name": "stderr",
     "output_type": "stream",
     "text": [
      "/Library/Frameworks/Python.framework/Versions/3.12/lib/python3.12/site-packages/sklearn/metrics/_regression.py:492: FutureWarning: 'squared' is deprecated in version 1.4 and will be removed in 1.6. To calculate the root mean squared error, use the function'root_mean_squared_error'.\n",
      "  warnings.warn(\n",
      "/Library/Frameworks/Python.framework/Versions/3.12/lib/python3.12/site-packages/keras/src/layers/rnn/rnn.py:204: UserWarning: Do not pass an `input_shape`/`input_dim` argument to a layer. When using Sequential models, prefer using an `Input(shape)` object as the first layer in the model instead.\n",
      "  super().__init__(**kwargs)\n"
     ]
    },
    {
     "name": "stdout",
     "output_type": "stream",
     "text": [
      "\u001b[1m2/2\u001b[0m \u001b[32m━━━━━━━━━━━━━━━━━━━━\u001b[0m\u001b[37m\u001b[0m \u001b[1m0s\u001b[0m 55ms/step\n"
     ]
    },
    {
     "name": "stderr",
     "output_type": "stream",
     "text": [
      "/Library/Frameworks/Python.framework/Versions/3.12/lib/python3.12/site-packages/sklearn/metrics/_regression.py:492: FutureWarning: 'squared' is deprecated in version 1.4 and will be removed in 1.6. To calculate the root mean squared error, use the function'root_mean_squared_error'.\n",
      "  warnings.warn(\n",
      "/Library/Frameworks/Python.framework/Versions/3.12/lib/python3.12/site-packages/keras/src/layers/rnn/rnn.py:204: UserWarning: Do not pass an `input_shape`/`input_dim` argument to a layer. When using Sequential models, prefer using an `Input(shape)` object as the first layer in the model instead.\n",
      "  super().__init__(**kwargs)\n"
     ]
    },
    {
     "name": "stdout",
     "output_type": "stream",
     "text": [
      "\u001b[1m2/2\u001b[0m \u001b[32m━━━━━━━━━━━━━━━━━━━━\u001b[0m\u001b[37m\u001b[0m \u001b[1m0s\u001b[0m 72ms/step\n"
     ]
    },
    {
     "name": "stderr",
     "output_type": "stream",
     "text": [
      "/Library/Frameworks/Python.framework/Versions/3.12/lib/python3.12/site-packages/sklearn/metrics/_regression.py:492: FutureWarning: 'squared' is deprecated in version 1.4 and will be removed in 1.6. To calculate the root mean squared error, use the function'root_mean_squared_error'.\n",
      "  warnings.warn(\n",
      "/Library/Frameworks/Python.framework/Versions/3.12/lib/python3.12/site-packages/keras/src/layers/rnn/rnn.py:204: UserWarning: Do not pass an `input_shape`/`input_dim` argument to a layer. When using Sequential models, prefer using an `Input(shape)` object as the first layer in the model instead.\n",
      "  super().__init__(**kwargs)\n"
     ]
    },
    {
     "name": "stdout",
     "output_type": "stream",
     "text": [
      "\u001b[1m2/2\u001b[0m \u001b[32m━━━━━━━━━━━━━━━━━━━━\u001b[0m\u001b[37m\u001b[0m \u001b[1m0s\u001b[0m 62ms/step\n",
      "Generation 8/10, Best RMSE: 0.0066\n"
     ]
    },
    {
     "name": "stderr",
     "output_type": "stream",
     "text": [
      "/Library/Frameworks/Python.framework/Versions/3.12/lib/python3.12/site-packages/sklearn/metrics/_regression.py:492: FutureWarning: 'squared' is deprecated in version 1.4 and will be removed in 1.6. To calculate the root mean squared error, use the function'root_mean_squared_error'.\n",
      "  warnings.warn(\n",
      "/Library/Frameworks/Python.framework/Versions/3.12/lib/python3.12/site-packages/keras/src/layers/rnn/rnn.py:204: UserWarning: Do not pass an `input_shape`/`input_dim` argument to a layer. When using Sequential models, prefer using an `Input(shape)` object as the first layer in the model instead.\n",
      "  super().__init__(**kwargs)\n"
     ]
    },
    {
     "name": "stdout",
     "output_type": "stream",
     "text": [
      "\u001b[1m2/2\u001b[0m \u001b[32m━━━━━━━━━━━━━━━━━━━━\u001b[0m\u001b[37m\u001b[0m \u001b[1m0s\u001b[0m 57ms/step\n"
     ]
    },
    {
     "name": "stderr",
     "output_type": "stream",
     "text": [
      "/Library/Frameworks/Python.framework/Versions/3.12/lib/python3.12/site-packages/sklearn/metrics/_regression.py:492: FutureWarning: 'squared' is deprecated in version 1.4 and will be removed in 1.6. To calculate the root mean squared error, use the function'root_mean_squared_error'.\n",
      "  warnings.warn(\n",
      "/Library/Frameworks/Python.framework/Versions/3.12/lib/python3.12/site-packages/keras/src/layers/rnn/rnn.py:204: UserWarning: Do not pass an `input_shape`/`input_dim` argument to a layer. When using Sequential models, prefer using an `Input(shape)` object as the first layer in the model instead.\n",
      "  super().__init__(**kwargs)\n"
     ]
    },
    {
     "name": "stdout",
     "output_type": "stream",
     "text": [
      "\u001b[1m2/2\u001b[0m \u001b[32m━━━━━━━━━━━━━━━━━━━━\u001b[0m\u001b[37m\u001b[0m \u001b[1m0s\u001b[0m 57ms/step\n"
     ]
    },
    {
     "name": "stderr",
     "output_type": "stream",
     "text": [
      "/Library/Frameworks/Python.framework/Versions/3.12/lib/python3.12/site-packages/sklearn/metrics/_regression.py:492: FutureWarning: 'squared' is deprecated in version 1.4 and will be removed in 1.6. To calculate the root mean squared error, use the function'root_mean_squared_error'.\n",
      "  warnings.warn(\n",
      "/Library/Frameworks/Python.framework/Versions/3.12/lib/python3.12/site-packages/keras/src/layers/rnn/rnn.py:204: UserWarning: Do not pass an `input_shape`/`input_dim` argument to a layer. When using Sequential models, prefer using an `Input(shape)` object as the first layer in the model instead.\n",
      "  super().__init__(**kwargs)\n"
     ]
    },
    {
     "name": "stdout",
     "output_type": "stream",
     "text": [
      "\u001b[1m2/2\u001b[0m \u001b[32m━━━━━━━━━━━━━━━━━━━━\u001b[0m\u001b[37m\u001b[0m \u001b[1m0s\u001b[0m 102ms/step\n"
     ]
    },
    {
     "name": "stderr",
     "output_type": "stream",
     "text": [
      "/Library/Frameworks/Python.framework/Versions/3.12/lib/python3.12/site-packages/sklearn/metrics/_regression.py:492: FutureWarning: 'squared' is deprecated in version 1.4 and will be removed in 1.6. To calculate the root mean squared error, use the function'root_mean_squared_error'.\n",
      "  warnings.warn(\n",
      "/Library/Frameworks/Python.framework/Versions/3.12/lib/python3.12/site-packages/keras/src/layers/rnn/rnn.py:204: UserWarning: Do not pass an `input_shape`/`input_dim` argument to a layer. When using Sequential models, prefer using an `Input(shape)` object as the first layer in the model instead.\n",
      "  super().__init__(**kwargs)\n"
     ]
    },
    {
     "name": "stdout",
     "output_type": "stream",
     "text": [
      "\u001b[1m2/2\u001b[0m \u001b[32m━━━━━━━━━━━━━━━━━━━━\u001b[0m\u001b[37m\u001b[0m \u001b[1m0s\u001b[0m 61ms/step\n"
     ]
    },
    {
     "name": "stderr",
     "output_type": "stream",
     "text": [
      "/Library/Frameworks/Python.framework/Versions/3.12/lib/python3.12/site-packages/sklearn/metrics/_regression.py:492: FutureWarning: 'squared' is deprecated in version 1.4 and will be removed in 1.6. To calculate the root mean squared error, use the function'root_mean_squared_error'.\n",
      "  warnings.warn(\n",
      "/Library/Frameworks/Python.framework/Versions/3.12/lib/python3.12/site-packages/keras/src/layers/rnn/rnn.py:204: UserWarning: Do not pass an `input_shape`/`input_dim` argument to a layer. When using Sequential models, prefer using an `Input(shape)` object as the first layer in the model instead.\n",
      "  super().__init__(**kwargs)\n"
     ]
    },
    {
     "name": "stdout",
     "output_type": "stream",
     "text": [
      "\u001b[1m2/2\u001b[0m \u001b[32m━━━━━━━━━━━━━━━━━━━━\u001b[0m\u001b[37m\u001b[0m \u001b[1m0s\u001b[0m 62ms/step\n"
     ]
    },
    {
     "name": "stderr",
     "output_type": "stream",
     "text": [
      "/Library/Frameworks/Python.framework/Versions/3.12/lib/python3.12/site-packages/sklearn/metrics/_regression.py:492: FutureWarning: 'squared' is deprecated in version 1.4 and will be removed in 1.6. To calculate the root mean squared error, use the function'root_mean_squared_error'.\n",
      "  warnings.warn(\n",
      "/Library/Frameworks/Python.framework/Versions/3.12/lib/python3.12/site-packages/keras/src/layers/rnn/rnn.py:204: UserWarning: Do not pass an `input_shape`/`input_dim` argument to a layer. When using Sequential models, prefer using an `Input(shape)` object as the first layer in the model instead.\n",
      "  super().__init__(**kwargs)\n"
     ]
    },
    {
     "name": "stdout",
     "output_type": "stream",
     "text": [
      "\u001b[1m2/2\u001b[0m \u001b[32m━━━━━━━━━━━━━━━━━━━━\u001b[0m\u001b[37m\u001b[0m \u001b[1m0s\u001b[0m 63ms/step\n"
     ]
    },
    {
     "name": "stderr",
     "output_type": "stream",
     "text": [
      "/Library/Frameworks/Python.framework/Versions/3.12/lib/python3.12/site-packages/sklearn/metrics/_regression.py:492: FutureWarning: 'squared' is deprecated in version 1.4 and will be removed in 1.6. To calculate the root mean squared error, use the function'root_mean_squared_error'.\n",
      "  warnings.warn(\n",
      "/Library/Frameworks/Python.framework/Versions/3.12/lib/python3.12/site-packages/keras/src/layers/rnn/rnn.py:204: UserWarning: Do not pass an `input_shape`/`input_dim` argument to a layer. When using Sequential models, prefer using an `Input(shape)` object as the first layer in the model instead.\n",
      "  super().__init__(**kwargs)\n"
     ]
    },
    {
     "name": "stdout",
     "output_type": "stream",
     "text": [
      "\u001b[1m2/2\u001b[0m \u001b[32m━━━━━━━━━━━━━━━━━━━━\u001b[0m\u001b[37m\u001b[0m \u001b[1m0s\u001b[0m 103ms/step\n"
     ]
    },
    {
     "name": "stderr",
     "output_type": "stream",
     "text": [
      "/Library/Frameworks/Python.framework/Versions/3.12/lib/python3.12/site-packages/sklearn/metrics/_regression.py:492: FutureWarning: 'squared' is deprecated in version 1.4 and will be removed in 1.6. To calculate the root mean squared error, use the function'root_mean_squared_error'.\n",
      "  warnings.warn(\n",
      "/Library/Frameworks/Python.framework/Versions/3.12/lib/python3.12/site-packages/keras/src/layers/rnn/rnn.py:204: UserWarning: Do not pass an `input_shape`/`input_dim` argument to a layer. When using Sequential models, prefer using an `Input(shape)` object as the first layer in the model instead.\n",
      "  super().__init__(**kwargs)\n"
     ]
    },
    {
     "name": "stdout",
     "output_type": "stream",
     "text": [
      "\u001b[1m2/2\u001b[0m \u001b[32m━━━━━━━━━━━━━━━━━━━━\u001b[0m\u001b[37m\u001b[0m \u001b[1m0s\u001b[0m 64ms/step\n"
     ]
    },
    {
     "name": "stderr",
     "output_type": "stream",
     "text": [
      "/Library/Frameworks/Python.framework/Versions/3.12/lib/python3.12/site-packages/sklearn/metrics/_regression.py:492: FutureWarning: 'squared' is deprecated in version 1.4 and will be removed in 1.6. To calculate the root mean squared error, use the function'root_mean_squared_error'.\n",
      "  warnings.warn(\n",
      "/Library/Frameworks/Python.framework/Versions/3.12/lib/python3.12/site-packages/keras/src/layers/rnn/rnn.py:204: UserWarning: Do not pass an `input_shape`/`input_dim` argument to a layer. When using Sequential models, prefer using an `Input(shape)` object as the first layer in the model instead.\n",
      "  super().__init__(**kwargs)\n"
     ]
    },
    {
     "name": "stdout",
     "output_type": "stream",
     "text": [
      "\u001b[1m2/2\u001b[0m \u001b[32m━━━━━━━━━━━━━━━━━━━━\u001b[0m\u001b[37m\u001b[0m \u001b[1m0s\u001b[0m 59ms/step\n"
     ]
    },
    {
     "name": "stderr",
     "output_type": "stream",
     "text": [
      "/Library/Frameworks/Python.framework/Versions/3.12/lib/python3.12/site-packages/sklearn/metrics/_regression.py:492: FutureWarning: 'squared' is deprecated in version 1.4 and will be removed in 1.6. To calculate the root mean squared error, use the function'root_mean_squared_error'.\n",
      "  warnings.warn(\n",
      "/Library/Frameworks/Python.framework/Versions/3.12/lib/python3.12/site-packages/keras/src/layers/rnn/rnn.py:204: UserWarning: Do not pass an `input_shape`/`input_dim` argument to a layer. When using Sequential models, prefer using an `Input(shape)` object as the first layer in the model instead.\n",
      "  super().__init__(**kwargs)\n"
     ]
    },
    {
     "name": "stdout",
     "output_type": "stream",
     "text": [
      "\u001b[1m2/2\u001b[0m \u001b[32m━━━━━━━━━━━━━━━━━━━━\u001b[0m\u001b[37m\u001b[0m \u001b[1m0s\u001b[0m 109ms/step\n"
     ]
    },
    {
     "name": "stderr",
     "output_type": "stream",
     "text": [
      "/Library/Frameworks/Python.framework/Versions/3.12/lib/python3.12/site-packages/sklearn/metrics/_regression.py:492: FutureWarning: 'squared' is deprecated in version 1.4 and will be removed in 1.6. To calculate the root mean squared error, use the function'root_mean_squared_error'.\n",
      "  warnings.warn(\n",
      "/Library/Frameworks/Python.framework/Versions/3.12/lib/python3.12/site-packages/keras/src/layers/rnn/rnn.py:204: UserWarning: Do not pass an `input_shape`/`input_dim` argument to a layer. When using Sequential models, prefer using an `Input(shape)` object as the first layer in the model instead.\n",
      "  super().__init__(**kwargs)\n"
     ]
    },
    {
     "name": "stdout",
     "output_type": "stream",
     "text": [
      "\u001b[1m2/2\u001b[0m \u001b[32m━━━━━━━━━━━━━━━━━━━━\u001b[0m\u001b[37m\u001b[0m \u001b[1m0s\u001b[0m 62ms/step\n"
     ]
    },
    {
     "name": "stderr",
     "output_type": "stream",
     "text": [
      "/Library/Frameworks/Python.framework/Versions/3.12/lib/python3.12/site-packages/sklearn/metrics/_regression.py:492: FutureWarning: 'squared' is deprecated in version 1.4 and will be removed in 1.6. To calculate the root mean squared error, use the function'root_mean_squared_error'.\n",
      "  warnings.warn(\n",
      "/Library/Frameworks/Python.framework/Versions/3.12/lib/python3.12/site-packages/keras/src/layers/rnn/rnn.py:204: UserWarning: Do not pass an `input_shape`/`input_dim` argument to a layer. When using Sequential models, prefer using an `Input(shape)` object as the first layer in the model instead.\n",
      "  super().__init__(**kwargs)\n"
     ]
    },
    {
     "name": "stdout",
     "output_type": "stream",
     "text": [
      "\u001b[1m2/2\u001b[0m \u001b[32m━━━━━━━━━━━━━━━━━━━━\u001b[0m\u001b[37m\u001b[0m \u001b[1m0s\u001b[0m 65ms/step\n"
     ]
    },
    {
     "name": "stderr",
     "output_type": "stream",
     "text": [
      "/Library/Frameworks/Python.framework/Versions/3.12/lib/python3.12/site-packages/sklearn/metrics/_regression.py:492: FutureWarning: 'squared' is deprecated in version 1.4 and will be removed in 1.6. To calculate the root mean squared error, use the function'root_mean_squared_error'.\n",
      "  warnings.warn(\n",
      "/Library/Frameworks/Python.framework/Versions/3.12/lib/python3.12/site-packages/keras/src/layers/rnn/rnn.py:204: UserWarning: Do not pass an `input_shape`/`input_dim` argument to a layer. When using Sequential models, prefer using an `Input(shape)` object as the first layer in the model instead.\n",
      "  super().__init__(**kwargs)\n"
     ]
    },
    {
     "name": "stdout",
     "output_type": "stream",
     "text": [
      "\u001b[1m2/2\u001b[0m \u001b[32m━━━━━━━━━━━━━━━━━━━━\u001b[0m\u001b[37m\u001b[0m \u001b[1m0s\u001b[0m 63ms/step\n",
      "Generation 9/10, Best RMSE: 0.0080\n"
     ]
    },
    {
     "name": "stderr",
     "output_type": "stream",
     "text": [
      "/Library/Frameworks/Python.framework/Versions/3.12/lib/python3.12/site-packages/sklearn/metrics/_regression.py:492: FutureWarning: 'squared' is deprecated in version 1.4 and will be removed in 1.6. To calculate the root mean squared error, use the function'root_mean_squared_error'.\n",
      "  warnings.warn(\n",
      "/Library/Frameworks/Python.framework/Versions/3.12/lib/python3.12/site-packages/keras/src/layers/rnn/rnn.py:204: UserWarning: Do not pass an `input_shape`/`input_dim` argument to a layer. When using Sequential models, prefer using an `Input(shape)` object as the first layer in the model instead.\n",
      "  super().__init__(**kwargs)\n"
     ]
    },
    {
     "name": "stdout",
     "output_type": "stream",
     "text": [
      "\u001b[1m2/2\u001b[0m \u001b[32m━━━━━━━━━━━━━━━━━━━━\u001b[0m\u001b[37m\u001b[0m \u001b[1m0s\u001b[0m 68ms/step\n"
     ]
    },
    {
     "name": "stderr",
     "output_type": "stream",
     "text": [
      "/Library/Frameworks/Python.framework/Versions/3.12/lib/python3.12/site-packages/sklearn/metrics/_regression.py:492: FutureWarning: 'squared' is deprecated in version 1.4 and will be removed in 1.6. To calculate the root mean squared error, use the function'root_mean_squared_error'.\n",
      "  warnings.warn(\n",
      "/Library/Frameworks/Python.framework/Versions/3.12/lib/python3.12/site-packages/keras/src/layers/rnn/rnn.py:204: UserWarning: Do not pass an `input_shape`/`input_dim` argument to a layer. When using Sequential models, prefer using an `Input(shape)` object as the first layer in the model instead.\n",
      "  super().__init__(**kwargs)\n"
     ]
    },
    {
     "name": "stdout",
     "output_type": "stream",
     "text": [
      "\u001b[1m2/2\u001b[0m \u001b[32m━━━━━━━━━━━━━━━━━━━━\u001b[0m\u001b[37m\u001b[0m \u001b[1m0s\u001b[0m 60ms/step\n"
     ]
    },
    {
     "name": "stderr",
     "output_type": "stream",
     "text": [
      "/Library/Frameworks/Python.framework/Versions/3.12/lib/python3.12/site-packages/sklearn/metrics/_regression.py:492: FutureWarning: 'squared' is deprecated in version 1.4 and will be removed in 1.6. To calculate the root mean squared error, use the function'root_mean_squared_error'.\n",
      "  warnings.warn(\n",
      "/Library/Frameworks/Python.framework/Versions/3.12/lib/python3.12/site-packages/keras/src/layers/rnn/rnn.py:204: UserWarning: Do not pass an `input_shape`/`input_dim` argument to a layer. When using Sequential models, prefer using an `Input(shape)` object as the first layer in the model instead.\n",
      "  super().__init__(**kwargs)\n"
     ]
    },
    {
     "name": "stdout",
     "output_type": "stream",
     "text": [
      "\u001b[1m2/2\u001b[0m \u001b[32m━━━━━━━━━━━━━━━━━━━━\u001b[0m\u001b[37m\u001b[0m \u001b[1m0s\u001b[0m 62ms/step\n"
     ]
    },
    {
     "name": "stderr",
     "output_type": "stream",
     "text": [
      "/Library/Frameworks/Python.framework/Versions/3.12/lib/python3.12/site-packages/sklearn/metrics/_regression.py:492: FutureWarning: 'squared' is deprecated in version 1.4 and will be removed in 1.6. To calculate the root mean squared error, use the function'root_mean_squared_error'.\n",
      "  warnings.warn(\n",
      "/Library/Frameworks/Python.framework/Versions/3.12/lib/python3.12/site-packages/keras/src/layers/rnn/rnn.py:204: UserWarning: Do not pass an `input_shape`/`input_dim` argument to a layer. When using Sequential models, prefer using an `Input(shape)` object as the first layer in the model instead.\n",
      "  super().__init__(**kwargs)\n"
     ]
    },
    {
     "name": "stdout",
     "output_type": "stream",
     "text": [
      "\u001b[1m2/2\u001b[0m \u001b[32m━━━━━━━━━━━━━━━━━━━━\u001b[0m\u001b[37m\u001b[0m \u001b[1m0s\u001b[0m 72ms/step\n"
     ]
    },
    {
     "name": "stderr",
     "output_type": "stream",
     "text": [
      "/Library/Frameworks/Python.framework/Versions/3.12/lib/python3.12/site-packages/sklearn/metrics/_regression.py:492: FutureWarning: 'squared' is deprecated in version 1.4 and will be removed in 1.6. To calculate the root mean squared error, use the function'root_mean_squared_error'.\n",
      "  warnings.warn(\n",
      "/Library/Frameworks/Python.framework/Versions/3.12/lib/python3.12/site-packages/keras/src/layers/rnn/rnn.py:204: UserWarning: Do not pass an `input_shape`/`input_dim` argument to a layer. When using Sequential models, prefer using an `Input(shape)` object as the first layer in the model instead.\n",
      "  super().__init__(**kwargs)\n"
     ]
    },
    {
     "name": "stdout",
     "output_type": "stream",
     "text": [
      "\u001b[1m2/2\u001b[0m \u001b[32m━━━━━━━━━━━━━━━━━━━━\u001b[0m\u001b[37m\u001b[0m \u001b[1m0s\u001b[0m 61ms/step\n"
     ]
    },
    {
     "name": "stderr",
     "output_type": "stream",
     "text": [
      "/Library/Frameworks/Python.framework/Versions/3.12/lib/python3.12/site-packages/sklearn/metrics/_regression.py:492: FutureWarning: 'squared' is deprecated in version 1.4 and will be removed in 1.6. To calculate the root mean squared error, use the function'root_mean_squared_error'.\n",
      "  warnings.warn(\n",
      "/Library/Frameworks/Python.framework/Versions/3.12/lib/python3.12/site-packages/keras/src/layers/rnn/rnn.py:204: UserWarning: Do not pass an `input_shape`/`input_dim` argument to a layer. When using Sequential models, prefer using an `Input(shape)` object as the first layer in the model instead.\n",
      "  super().__init__(**kwargs)\n"
     ]
    },
    {
     "name": "stdout",
     "output_type": "stream",
     "text": [
      "\u001b[1m2/2\u001b[0m \u001b[32m━━━━━━━━━━━━━━━━━━━━\u001b[0m\u001b[37m\u001b[0m \u001b[1m0s\u001b[0m 81ms/step\n"
     ]
    },
    {
     "name": "stderr",
     "output_type": "stream",
     "text": [
      "/Library/Frameworks/Python.framework/Versions/3.12/lib/python3.12/site-packages/sklearn/metrics/_regression.py:492: FutureWarning: 'squared' is deprecated in version 1.4 and will be removed in 1.6. To calculate the root mean squared error, use the function'root_mean_squared_error'.\n",
      "  warnings.warn(\n",
      "/Library/Frameworks/Python.framework/Versions/3.12/lib/python3.12/site-packages/keras/src/layers/rnn/rnn.py:204: UserWarning: Do not pass an `input_shape`/`input_dim` argument to a layer. When using Sequential models, prefer using an `Input(shape)` object as the first layer in the model instead.\n",
      "  super().__init__(**kwargs)\n"
     ]
    },
    {
     "name": "stdout",
     "output_type": "stream",
     "text": [
      "\u001b[1m2/2\u001b[0m \u001b[32m━━━━━━━━━━━━━━━━━━━━\u001b[0m\u001b[37m\u001b[0m \u001b[1m0s\u001b[0m 69ms/step\n"
     ]
    },
    {
     "name": "stderr",
     "output_type": "stream",
     "text": [
      "/Library/Frameworks/Python.framework/Versions/3.12/lib/python3.12/site-packages/sklearn/metrics/_regression.py:492: FutureWarning: 'squared' is deprecated in version 1.4 and will be removed in 1.6. To calculate the root mean squared error, use the function'root_mean_squared_error'.\n",
      "  warnings.warn(\n",
      "/Library/Frameworks/Python.framework/Versions/3.12/lib/python3.12/site-packages/keras/src/layers/rnn/rnn.py:204: UserWarning: Do not pass an `input_shape`/`input_dim` argument to a layer. When using Sequential models, prefer using an `Input(shape)` object as the first layer in the model instead.\n",
      "  super().__init__(**kwargs)\n"
     ]
    },
    {
     "name": "stdout",
     "output_type": "stream",
     "text": [
      "\u001b[1m2/2\u001b[0m \u001b[32m━━━━━━━━━━━━━━━━━━━━\u001b[0m\u001b[37m\u001b[0m \u001b[1m0s\u001b[0m 68ms/step\n"
     ]
    },
    {
     "name": "stderr",
     "output_type": "stream",
     "text": [
      "/Library/Frameworks/Python.framework/Versions/3.12/lib/python3.12/site-packages/sklearn/metrics/_regression.py:492: FutureWarning: 'squared' is deprecated in version 1.4 and will be removed in 1.6. To calculate the root mean squared error, use the function'root_mean_squared_error'.\n",
      "  warnings.warn(\n",
      "/Library/Frameworks/Python.framework/Versions/3.12/lib/python3.12/site-packages/keras/src/layers/rnn/rnn.py:204: UserWarning: Do not pass an `input_shape`/`input_dim` argument to a layer. When using Sequential models, prefer using an `Input(shape)` object as the first layer in the model instead.\n",
      "  super().__init__(**kwargs)\n"
     ]
    },
    {
     "name": "stdout",
     "output_type": "stream",
     "text": [
      "\u001b[1m2/2\u001b[0m \u001b[32m━━━━━━━━━━━━━━━━━━━━\u001b[0m\u001b[37m\u001b[0m \u001b[1m0s\u001b[0m 65ms/step\n"
     ]
    },
    {
     "name": "stderr",
     "output_type": "stream",
     "text": [
      "/Library/Frameworks/Python.framework/Versions/3.12/lib/python3.12/site-packages/sklearn/metrics/_regression.py:492: FutureWarning: 'squared' is deprecated in version 1.4 and will be removed in 1.6. To calculate the root mean squared error, use the function'root_mean_squared_error'.\n",
      "  warnings.warn(\n",
      "/Library/Frameworks/Python.framework/Versions/3.12/lib/python3.12/site-packages/keras/src/layers/rnn/rnn.py:204: UserWarning: Do not pass an `input_shape`/`input_dim` argument to a layer. When using Sequential models, prefer using an `Input(shape)` object as the first layer in the model instead.\n",
      "  super().__init__(**kwargs)\n"
     ]
    },
    {
     "name": "stdout",
     "output_type": "stream",
     "text": [
      "\u001b[1m2/2\u001b[0m \u001b[32m━━━━━━━━━━━━━━━━━━━━\u001b[0m\u001b[37m\u001b[0m \u001b[1m0s\u001b[0m 76ms/step\n"
     ]
    },
    {
     "name": "stderr",
     "output_type": "stream",
     "text": [
      "/Library/Frameworks/Python.framework/Versions/3.12/lib/python3.12/site-packages/sklearn/metrics/_regression.py:492: FutureWarning: 'squared' is deprecated in version 1.4 and will be removed in 1.6. To calculate the root mean squared error, use the function'root_mean_squared_error'.\n",
      "  warnings.warn(\n",
      "/Library/Frameworks/Python.framework/Versions/3.12/lib/python3.12/site-packages/keras/src/layers/rnn/rnn.py:204: UserWarning: Do not pass an `input_shape`/`input_dim` argument to a layer. When using Sequential models, prefer using an `Input(shape)` object as the first layer in the model instead.\n",
      "  super().__init__(**kwargs)\n"
     ]
    },
    {
     "name": "stdout",
     "output_type": "stream",
     "text": [
      "\u001b[1m2/2\u001b[0m \u001b[32m━━━━━━━━━━━━━━━━━━━━\u001b[0m\u001b[37m\u001b[0m \u001b[1m0s\u001b[0m 62ms/step\n"
     ]
    },
    {
     "name": "stderr",
     "output_type": "stream",
     "text": [
      "/Library/Frameworks/Python.framework/Versions/3.12/lib/python3.12/site-packages/sklearn/metrics/_regression.py:492: FutureWarning: 'squared' is deprecated in version 1.4 and will be removed in 1.6. To calculate the root mean squared error, use the function'root_mean_squared_error'.\n",
      "  warnings.warn(\n",
      "/Library/Frameworks/Python.framework/Versions/3.12/lib/python3.12/site-packages/keras/src/layers/rnn/rnn.py:204: UserWarning: Do not pass an `input_shape`/`input_dim` argument to a layer. When using Sequential models, prefer using an `Input(shape)` object as the first layer in the model instead.\n",
      "  super().__init__(**kwargs)\n"
     ]
    },
    {
     "name": "stdout",
     "output_type": "stream",
     "text": [
      "\u001b[1m2/2\u001b[0m \u001b[32m━━━━━━━━━━━━━━━━━━━━\u001b[0m\u001b[37m\u001b[0m \u001b[1m0s\u001b[0m 120ms/step\n"
     ]
    },
    {
     "name": "stderr",
     "output_type": "stream",
     "text": [
      "/Library/Frameworks/Python.framework/Versions/3.12/lib/python3.12/site-packages/sklearn/metrics/_regression.py:492: FutureWarning: 'squared' is deprecated in version 1.4 and will be removed in 1.6. To calculate the root mean squared error, use the function'root_mean_squared_error'.\n",
      "  warnings.warn(\n",
      "/Library/Frameworks/Python.framework/Versions/3.12/lib/python3.12/site-packages/keras/src/layers/rnn/rnn.py:204: UserWarning: Do not pass an `input_shape`/`input_dim` argument to a layer. When using Sequential models, prefer using an `Input(shape)` object as the first layer in the model instead.\n",
      "  super().__init__(**kwargs)\n"
     ]
    },
    {
     "name": "stdout",
     "output_type": "stream",
     "text": [
      "\u001b[1m2/2\u001b[0m \u001b[32m━━━━━━━━━━━━━━━━━━━━\u001b[0m\u001b[37m\u001b[0m \u001b[1m0s\u001b[0m 61ms/step\n",
      "Generation 10/10, Best RMSE: 0.0077\n"
     ]
    },
    {
     "name": "stderr",
     "output_type": "stream",
     "text": [
      "/Library/Frameworks/Python.framework/Versions/3.12/lib/python3.12/site-packages/sklearn/metrics/_regression.py:492: FutureWarning: 'squared' is deprecated in version 1.4 and will be removed in 1.6. To calculate the root mean squared error, use the function'root_mean_squared_error'.\n",
      "  warnings.warn(\n"
     ]
    }
   ],
   "source": [
    "# Evolutionary process for LSTM hyperparameters optimization\n",
    "for generation in range(num_generations):\n",
    "    # Evaluate fitness for the current population\n",
    "    fitness_scores = [lstm_ega_fitness_function(individual, X_train_lstm, y_train_lstm, X_val_lstm, y_val_lstm)\n",
    "                      for individual in population]\n",
    "    \n",
    "    # Selection: Select top individuals based on fitness scores\n",
    "    selected_indices = np.argsort(fitness_scores)[-5:]  # Select top 5 individuals\n",
    "    selected_population = population[selected_indices]\n",
    "\n",
    "    # Crossover and Mutation to create new offspring\n",
    "    offspring = []\n",
    "    for i in range(len(selected_population) - 1):\n",
    "        parent1, parent2 = selected_population[i], selected_population[i+1]\n",
    "        crossover_point = np.random.randint(1, len(parent1))\n",
    "        child1 = np.concatenate([parent1[:crossover_point], parent2[crossover_point:]])\n",
    "        child2 = np.concatenate([parent2[:crossover_point], parent1[crossover_point:]])\n",
    "        offspring.extend([child1, child2])\n",
    "\n",
    "    # Mutation to introduce diversity\n",
    "    for child in offspring:\n",
    "        mutation_idx = np.random.randint(0, len(child))\n",
    "        child[mutation_idx] += np.random.uniform(-0.05, 0.05)  # Small mutation\n",
    "        child[mutation_idx] = np.clip(child[mutation_idx], 0.1, 1)  # Ensure within bounds\n",
    "\n",
    "    # Update the population\n",
    "    population = np.vstack([selected_population, offspring[:population_size - len(selected_population)]])\n",
    "\n",
    "    # Best RMSE in the current generation\n",
    "    best_rmse = -max(fitness_scores)\n",
    "    print(f\"Generation {generation + 1}/{num_generations}, Best RMSE: {best_rmse:.4f}\")"
   ]
  },
  {
   "cell_type": "code",
   "execution_count": 60,
   "metadata": {},
   "outputs": [
    {
     "name": "stdout",
     "output_type": "stream",
     "text": [
      "Best Hyperparameters from EGA:\n",
      "Units: 116.0, Dropout: 0.2554062238930542, Batch Size: 8.0, Learning Rate: 0.13714585211628613\n",
      "Epoch 1/100\n"
     ]
    },
    {
     "name": "stderr",
     "output_type": "stream",
     "text": [
      "/Library/Frameworks/Python.framework/Versions/3.12/lib/python3.12/site-packages/keras/src/layers/rnn/rnn.py:204: UserWarning: Do not pass an `input_shape`/`input_dim` argument to a layer. When using Sequential models, prefer using an `Input(shape)` object as the first layer in the model instead.\n",
      "  super().__init__(**kwargs)\n"
     ]
    },
    {
     "name": "stdout",
     "output_type": "stream",
     "text": [
      "\u001b[1m20/20\u001b[0m \u001b[32m━━━━━━━━━━━━━━━━━━━━\u001b[0m\u001b[37m\u001b[0m \u001b[1m1s\u001b[0m 7ms/step - loss: 0.3068 - mae: 0.5001 - val_loss: 0.0827 - val_mae: 0.2449\n",
      "Epoch 2/100\n",
      "\u001b[1m20/20\u001b[0m \u001b[32m━━━━━━━━━━━━━━━━━━━━\u001b[0m\u001b[37m\u001b[0m \u001b[1m0s\u001b[0m 1ms/step - loss: 0.0508 - mae: 0.1905 - val_loss: 0.0222 - val_mae: 0.1179\n",
      "Epoch 3/100\n",
      "\u001b[1m20/20\u001b[0m \u001b[32m━━━━━━━━━━━━━━━━━━━━\u001b[0m\u001b[37m\u001b[0m \u001b[1m0s\u001b[0m 1ms/step - loss: 0.0239 - mae: 0.1150 - val_loss: 0.0125 - val_mae: 0.0919\n",
      "Epoch 4/100\n",
      "\u001b[1m20/20\u001b[0m \u001b[32m━━━━━━━━━━━━━━━━━━━━\u001b[0m\u001b[37m\u001b[0m \u001b[1m0s\u001b[0m 1ms/step - loss: 0.0159 - mae: 0.1054 - val_loss: 0.0094 - val_mae: 0.0758\n",
      "Epoch 5/100\n",
      "\u001b[1m20/20\u001b[0m \u001b[32m━━━━━━━━━━━━━━━━━━━━\u001b[0m\u001b[37m\u001b[0m \u001b[1m0s\u001b[0m 1ms/step - loss: 0.0142 - mae: 0.0873 - val_loss: 0.0072 - val_mae: 0.0649\n",
      "Epoch 6/100\n",
      "\u001b[1m20/20\u001b[0m \u001b[32m━━━━━━━━━━━━━━━━━━━━\u001b[0m\u001b[37m\u001b[0m \u001b[1m0s\u001b[0m 1ms/step - loss: 0.0073 - mae: 0.0637 - val_loss: 0.0057 - val_mae: 0.0546\n",
      "Epoch 7/100\n",
      "\u001b[1m20/20\u001b[0m \u001b[32m━━━━━━━━━━━━━━━━━━━━\u001b[0m\u001b[37m\u001b[0m \u001b[1m0s\u001b[0m 1ms/step - loss: 0.0068 - mae: 0.0606 - val_loss: 0.0052 - val_mae: 0.0530\n",
      "Epoch 8/100\n",
      "\u001b[1m20/20\u001b[0m \u001b[32m━━━━━━━━━━━━━━━━━━━━\u001b[0m\u001b[37m\u001b[0m \u001b[1m0s\u001b[0m 1ms/step - loss: 0.0050 - mae: 0.0553 - val_loss: 0.0050 - val_mae: 0.0498\n",
      "Epoch 9/100\n",
      "\u001b[1m20/20\u001b[0m \u001b[32m━━━━━━━━━━━━━━━━━━━━\u001b[0m\u001b[37m\u001b[0m \u001b[1m0s\u001b[0m 1ms/step - loss: 0.0080 - mae: 0.0628 - val_loss: 0.0050 - val_mae: 0.0506\n",
      "Epoch 10/100\n",
      "\u001b[1m20/20\u001b[0m \u001b[32m━━━━━━━━━━━━━━━━━━━━\u001b[0m\u001b[37m\u001b[0m \u001b[1m0s\u001b[0m 1ms/step - loss: 0.0056 - mae: 0.0581 - val_loss: 0.0045 - val_mae: 0.0468\n",
      "Epoch 11/100\n",
      "\u001b[1m20/20\u001b[0m \u001b[32m━━━━━━━━━━━━━━━━━━━━\u001b[0m\u001b[37m\u001b[0m \u001b[1m0s\u001b[0m 1ms/step - loss: 0.0051 - mae: 0.0546 - val_loss: 0.0056 - val_mae: 0.0507\n",
      "Epoch 12/100\n",
      "\u001b[1m20/20\u001b[0m \u001b[32m━━━━━━━━━━━━━━━━━━━━\u001b[0m\u001b[37m\u001b[0m \u001b[1m0s\u001b[0m 1ms/step - loss: 0.0050 - mae: 0.0541 - val_loss: 0.0041 - val_mae: 0.0434\n",
      "Epoch 13/100\n",
      "\u001b[1m20/20\u001b[0m \u001b[32m━━━━━━━━━━━━━━━━━━━━\u001b[0m\u001b[37m\u001b[0m \u001b[1m0s\u001b[0m 1ms/step - loss: 0.0035 - mae: 0.0477 - val_loss: 0.0039 - val_mae: 0.0429\n",
      "Epoch 14/100\n",
      "\u001b[1m20/20\u001b[0m \u001b[32m━━━━━━━━━━━━━━━━━━━━\u001b[0m\u001b[37m\u001b[0m \u001b[1m0s\u001b[0m 1ms/step - loss: 0.0039 - mae: 0.0469 - val_loss: 0.0037 - val_mae: 0.0421\n",
      "Epoch 15/100\n",
      "\u001b[1m20/20\u001b[0m \u001b[32m━━━━━━━━━━━━━━━━━━━━\u001b[0m\u001b[37m\u001b[0m \u001b[1m0s\u001b[0m 1ms/step - loss: 0.0047 - mae: 0.0516 - val_loss: 0.0036 - val_mae: 0.0403\n",
      "Epoch 16/100\n",
      "\u001b[1m20/20\u001b[0m \u001b[32m━━━━━━━━━━━━━━━━━━━━\u001b[0m\u001b[37m\u001b[0m \u001b[1m0s\u001b[0m 2ms/step - loss: 0.0034 - mae: 0.0471 - val_loss: 0.0034 - val_mae: 0.0407\n",
      "Epoch 17/100\n",
      "\u001b[1m20/20\u001b[0m \u001b[32m━━━━━━━━━━━━━━━━━━━━\u001b[0m\u001b[37m\u001b[0m \u001b[1m0s\u001b[0m 1ms/step - loss: 0.0036 - mae: 0.0479 - val_loss: 0.0032 - val_mae: 0.0390\n",
      "Epoch 18/100\n",
      "\u001b[1m20/20\u001b[0m \u001b[32m━━━━━━━━━━━━━━━━━━━━\u001b[0m\u001b[37m\u001b[0m \u001b[1m0s\u001b[0m 1ms/step - loss: 0.0033 - mae: 0.0460 - val_loss: 0.0032 - val_mae: 0.0376\n",
      "Epoch 19/100\n",
      "\u001b[1m20/20\u001b[0m \u001b[32m━━━━━━━━━━━━━━━━━━━━\u001b[0m\u001b[37m\u001b[0m \u001b[1m0s\u001b[0m 1ms/step - loss: 0.0036 - mae: 0.0448 - val_loss: 0.0029 - val_mae: 0.0370\n",
      "Epoch 20/100\n",
      "\u001b[1m20/20\u001b[0m \u001b[32m━━━━━━━━━━━━━━━━━━━━\u001b[0m\u001b[37m\u001b[0m \u001b[1m0s\u001b[0m 1ms/step - loss: 0.0030 - mae: 0.0421 - val_loss: 0.0030 - val_mae: 0.0403\n",
      "Epoch 21/100\n",
      "\u001b[1m20/20\u001b[0m \u001b[32m━━━━━━━━━━━━━━━━━━━━\u001b[0m\u001b[37m\u001b[0m \u001b[1m0s\u001b[0m 1ms/step - loss: 0.0028 - mae: 0.0431 - val_loss: 0.0027 - val_mae: 0.0373\n",
      "Epoch 22/100\n",
      "\u001b[1m20/20\u001b[0m \u001b[32m━━━━━━━━━━━━━━━━━━━━\u001b[0m\u001b[37m\u001b[0m \u001b[1m0s\u001b[0m 1ms/step - loss: 0.0034 - mae: 0.0465 - val_loss: 0.0024 - val_mae: 0.0352\n",
      "Epoch 23/100\n",
      "\u001b[1m20/20\u001b[0m \u001b[32m━━━━━━━━━━━━━━━━━━━━\u001b[0m\u001b[37m\u001b[0m \u001b[1m0s\u001b[0m 1ms/step - loss: 0.0027 - mae: 0.0422 - val_loss: 0.0024 - val_mae: 0.0339\n",
      "Epoch 24/100\n",
      "\u001b[1m20/20\u001b[0m \u001b[32m━━━━━━━━━━━━━━━━━━━━\u001b[0m\u001b[37m\u001b[0m \u001b[1m0s\u001b[0m 1ms/step - loss: 0.0025 - mae: 0.0377 - val_loss: 0.0023 - val_mae: 0.0339\n",
      "Epoch 25/100\n",
      "\u001b[1m20/20\u001b[0m \u001b[32m━━━━━━━━━━━━━━━━━━━━\u001b[0m\u001b[37m\u001b[0m \u001b[1m0s\u001b[0m 1ms/step - loss: 0.0029 - mae: 0.0429 - val_loss: 0.0021 - val_mae: 0.0316\n",
      "Epoch 26/100\n",
      "\u001b[1m20/20\u001b[0m \u001b[32m━━━━━━━━━━━━━━━━━━━━\u001b[0m\u001b[37m\u001b[0m \u001b[1m0s\u001b[0m 1ms/step - loss: 0.0024 - mae: 0.0389 - val_loss: 0.0021 - val_mae: 0.0310\n",
      "Epoch 27/100\n",
      "\u001b[1m20/20\u001b[0m \u001b[32m━━━━━━━━━━━━━━━━━━━━\u001b[0m\u001b[37m\u001b[0m \u001b[1m0s\u001b[0m 1ms/step - loss: 0.0025 - mae: 0.0370 - val_loss: 0.0017 - val_mae: 0.0285\n",
      "Epoch 28/100\n",
      "\u001b[1m20/20\u001b[0m \u001b[32m━━━━━━━━━━━━━━━━━━━━\u001b[0m\u001b[37m\u001b[0m \u001b[1m0s\u001b[0m 1ms/step - loss: 0.0022 - mae: 0.0373 - val_loss: 0.0017 - val_mae: 0.0268\n",
      "Epoch 29/100\n",
      "\u001b[1m20/20\u001b[0m \u001b[32m━━━━━━━━━━━━━━━━━━━━\u001b[0m\u001b[37m\u001b[0m \u001b[1m0s\u001b[0m 1ms/step - loss: 0.0023 - mae: 0.0354 - val_loss: 0.0015 - val_mae: 0.0268\n",
      "Epoch 30/100\n",
      "\u001b[1m20/20\u001b[0m \u001b[32m━━━━━━━━━━━━━━━━━━━━\u001b[0m\u001b[37m\u001b[0m \u001b[1m0s\u001b[0m 1ms/step - loss: 0.0020 - mae: 0.0343 - val_loss: 0.0015 - val_mae: 0.0267\n",
      "Epoch 31/100\n",
      "\u001b[1m20/20\u001b[0m \u001b[32m━━━━━━━━━━━━━━━━━━━━\u001b[0m\u001b[37m\u001b[0m \u001b[1m0s\u001b[0m 1ms/step - loss: 0.0018 - mae: 0.0343 - val_loss: 0.0012 - val_mae: 0.0239\n",
      "Epoch 32/100\n",
      "\u001b[1m20/20\u001b[0m \u001b[32m━━━━━━━━━━━━━━━━━━━━\u001b[0m\u001b[37m\u001b[0m \u001b[1m0s\u001b[0m 2ms/step - loss: 0.0026 - mae: 0.0389 - val_loss: 0.0011 - val_mae: 0.0224\n",
      "Epoch 33/100\n",
      "\u001b[1m20/20\u001b[0m \u001b[32m━━━━━━━━━━━━━━━━━━━━\u001b[0m\u001b[37m\u001b[0m \u001b[1m0s\u001b[0m 1ms/step - loss: 0.0015 - mae: 0.0317 - val_loss: 0.0011 - val_mae: 0.0214\n",
      "Epoch 34/100\n",
      "\u001b[1m20/20\u001b[0m \u001b[32m━━━━━━━━━━━━━━━━━━━━\u001b[0m\u001b[37m\u001b[0m \u001b[1m0s\u001b[0m 1ms/step - loss: 0.0014 - mae: 0.0306 - val_loss: 9.4680e-04 - val_mae: 0.0206\n",
      "Epoch 35/100\n",
      "\u001b[1m20/20\u001b[0m \u001b[32m━━━━━━━━━━━━━━━━━━━━\u001b[0m\u001b[37m\u001b[0m \u001b[1m0s\u001b[0m 1ms/step - loss: 0.0017 - mae: 0.0329 - val_loss: 8.8115e-04 - val_mae: 0.0201\n",
      "Epoch 36/100\n",
      "\u001b[1m20/20\u001b[0m \u001b[32m━━━━━━━━━━━━━━━━━━━━\u001b[0m\u001b[37m\u001b[0m \u001b[1m0s\u001b[0m 1ms/step - loss: 0.0018 - mae: 0.0324 - val_loss: 9.0715e-04 - val_mae: 0.0206\n",
      "Epoch 37/100\n",
      "\u001b[1m20/20\u001b[0m \u001b[32m━━━━━━━━━━━━━━━━━━━━\u001b[0m\u001b[37m\u001b[0m \u001b[1m0s\u001b[0m 983us/step - loss: 0.0021 - mae: 0.0361 - val_loss: 8.0627e-04 - val_mae: 0.0181\n",
      "Epoch 38/100\n",
      "\u001b[1m20/20\u001b[0m \u001b[32m━━━━━━━━━━━━━━━━━━━━\u001b[0m\u001b[37m\u001b[0m \u001b[1m0s\u001b[0m 1ms/step - loss: 0.0018 - mae: 0.0311 - val_loss: 7.4141e-04 - val_mae: 0.0177\n",
      "Epoch 39/100\n",
      "\u001b[1m20/20\u001b[0m \u001b[32m━━━━━━━━━━━━━━━━━━━━\u001b[0m\u001b[37m\u001b[0m \u001b[1m0s\u001b[0m 1ms/step - loss: 0.0013 - mae: 0.0264 - val_loss: 6.8575e-04 - val_mae: 0.0173\n",
      "Epoch 40/100\n",
      "\u001b[1m20/20\u001b[0m \u001b[32m━━━━━━━━━━━━━━━━━━━━\u001b[0m\u001b[37m\u001b[0m \u001b[1m0s\u001b[0m 1ms/step - loss: 0.0016 - mae: 0.0309 - val_loss: 6.6784e-04 - val_mae: 0.0177\n",
      "Epoch 41/100\n",
      "\u001b[1m20/20\u001b[0m \u001b[32m━━━━━━━━━━━━━━━━━━━━\u001b[0m\u001b[37m\u001b[0m \u001b[1m0s\u001b[0m 1ms/step - loss: 0.0017 - mae: 0.0325 - val_loss: 5.9284e-04 - val_mae: 0.0167\n",
      "Epoch 42/100\n",
      "\u001b[1m20/20\u001b[0m \u001b[32m━━━━━━━━━━━━━━━━━━━━\u001b[0m\u001b[37m\u001b[0m \u001b[1m0s\u001b[0m 1ms/step - loss: 0.0017 - mae: 0.0323 - val_loss: 5.1737e-04 - val_mae: 0.0156\n",
      "Epoch 43/100\n",
      "\u001b[1m20/20\u001b[0m \u001b[32m━━━━━━━━━━━━━━━━━━━━\u001b[0m\u001b[37m\u001b[0m \u001b[1m0s\u001b[0m 982us/step - loss: 0.0015 - mae: 0.0278 - val_loss: 5.3735e-04 - val_mae: 0.0155\n",
      "Epoch 44/100\n",
      "\u001b[1m20/20\u001b[0m \u001b[32m━━━━━━━━━━━━━━━━━━━━\u001b[0m\u001b[37m\u001b[0m \u001b[1m0s\u001b[0m 1ms/step - loss: 0.0014 - mae: 0.0283 - val_loss: 4.9180e-04 - val_mae: 0.0139\n",
      "Epoch 45/100\n",
      "\u001b[1m20/20\u001b[0m \u001b[32m━━━━━━━━━━━━━━━━━━━━\u001b[0m\u001b[37m\u001b[0m \u001b[1m0s\u001b[0m 1ms/step - loss: 0.0014 - mae: 0.0289 - val_loss: 6.8192e-04 - val_mae: 0.0215\n",
      "Epoch 46/100\n",
      "\u001b[1m20/20\u001b[0m \u001b[32m━━━━━━━━━━━━━━━━━━━━\u001b[0m\u001b[37m\u001b[0m \u001b[1m0s\u001b[0m 981us/step - loss: 0.0017 - mae: 0.0337 - val_loss: 4.7598e-04 - val_mae: 0.0159\n",
      "Epoch 47/100\n",
      "\u001b[1m20/20\u001b[0m \u001b[32m━━━━━━━━━━━━━━━━━━━━\u001b[0m\u001b[37m\u001b[0m \u001b[1m0s\u001b[0m 972us/step - loss: 0.0012 - mae: 0.0276 - val_loss: 4.1583e-04 - val_mae: 0.0137\n",
      "Epoch 48/100\n",
      "\u001b[1m20/20\u001b[0m \u001b[32m━━━━━━━━━━━━━━━━━━━━\u001b[0m\u001b[37m\u001b[0m \u001b[1m0s\u001b[0m 1ms/step - loss: 0.0016 - mae: 0.0301 - val_loss: 3.2848e-04 - val_mae: 0.0120\n",
      "Epoch 49/100\n",
      "\u001b[1m20/20\u001b[0m \u001b[32m━━━━━━━━━━━━━━━━━━━━\u001b[0m\u001b[37m\u001b[0m \u001b[1m0s\u001b[0m 967us/step - loss: 0.0012 - mae: 0.0249 - val_loss: 3.8725e-04 - val_mae: 0.0146\n",
      "Epoch 50/100\n",
      "\u001b[1m20/20\u001b[0m \u001b[32m━━━━━━━━━━━━━━━━━━━━\u001b[0m\u001b[37m\u001b[0m \u001b[1m0s\u001b[0m 1ms/step - loss: 0.0012 - mae: 0.0270 - val_loss: 6.2849e-04 - val_mae: 0.0217\n",
      "Epoch 51/100\n",
      "\u001b[1m20/20\u001b[0m \u001b[32m━━━━━━━━━━━━━━━━━━━━\u001b[0m\u001b[37m\u001b[0m \u001b[1m0s\u001b[0m 1ms/step - loss: 0.0013 - mae: 0.0295 - val_loss: 4.7616e-04 - val_mae: 0.0177\n",
      "Epoch 52/100\n",
      "\u001b[1m20/20\u001b[0m \u001b[32m━━━━━━━━━━━━━━━━━━━━\u001b[0m\u001b[37m\u001b[0m \u001b[1m0s\u001b[0m 991us/step - loss: 0.0015 - mae: 0.0322 - val_loss: 8.6940e-04 - val_mae: 0.0256\n",
      "Epoch 53/100\n",
      "\u001b[1m20/20\u001b[0m \u001b[32m━━━━━━━━━━━━━━━━━━━━\u001b[0m\u001b[37m\u001b[0m \u001b[1m0s\u001b[0m 1ms/step - loss: 0.0017 - mae: 0.0322 - val_loss: 2.9810e-04 - val_mae: 0.0132\n",
      "Epoch 54/100\n",
      "\u001b[1m20/20\u001b[0m \u001b[32m━━━━━━━━━━━━━━━━━━━━\u001b[0m\u001b[37m\u001b[0m \u001b[1m0s\u001b[0m 1ms/step - loss: 0.0012 - mae: 0.0261 - val_loss: 2.3446e-04 - val_mae: 0.0113\n",
      "Epoch 55/100\n",
      "\u001b[1m20/20\u001b[0m \u001b[32m━━━━━━━━━━━━━━━━━━━━\u001b[0m\u001b[37m\u001b[0m \u001b[1m0s\u001b[0m 998us/step - loss: 0.0013 - mae: 0.0294 - val_loss: 4.0922e-04 - val_mae: 0.0160\n",
      "Epoch 56/100\n",
      "\u001b[1m20/20\u001b[0m \u001b[32m━━━━━━━━━━━━━━━━━━━━\u001b[0m\u001b[37m\u001b[0m \u001b[1m0s\u001b[0m 994us/step - loss: 0.0017 - mae: 0.0317 - val_loss: 2.2220e-04 - val_mae: 0.0105\n",
      "Epoch 57/100\n",
      "\u001b[1m20/20\u001b[0m \u001b[32m━━━━━━━━━━━━━━━━━━━━\u001b[0m\u001b[37m\u001b[0m \u001b[1m0s\u001b[0m 1ms/step - loss: 0.0012 - mae: 0.0260 - val_loss: 1.8070e-04 - val_mae: 0.0099\n",
      "Epoch 58/100\n",
      "\u001b[1m20/20\u001b[0m \u001b[32m━━━━━━━━━━━━━━━━━━━━\u001b[0m\u001b[37m\u001b[0m \u001b[1m0s\u001b[0m 1ms/step - loss: 0.0010 - mae: 0.0250 - val_loss: 1.8959e-04 - val_mae: 0.0096\n",
      "Epoch 59/100\n",
      "\u001b[1m20/20\u001b[0m \u001b[32m━━━━━━━━━━━━━━━━━━━━\u001b[0m\u001b[37m\u001b[0m \u001b[1m0s\u001b[0m 1ms/step - loss: 0.0014 - mae: 0.0278 - val_loss: 2.1675e-04 - val_mae: 0.0108\n",
      "Epoch 60/100\n",
      "\u001b[1m20/20\u001b[0m \u001b[32m━━━━━━━━━━━━━━━━━━━━\u001b[0m\u001b[37m\u001b[0m \u001b[1m0s\u001b[0m 1ms/step - loss: 9.6115e-04 - mae: 0.0253 - val_loss: 1.7103e-04 - val_mae: 0.0089\n",
      "Epoch 61/100\n",
      "\u001b[1m20/20\u001b[0m \u001b[32m━━━━━━━━━━━━━━━━━━━━\u001b[0m\u001b[37m\u001b[0m \u001b[1m0s\u001b[0m 1ms/step - loss: 0.0011 - mae: 0.0254 - val_loss: 3.0078e-04 - val_mae: 0.0125\n",
      "Epoch 62/100\n",
      "\u001b[1m20/20\u001b[0m \u001b[32m━━━━━━━━━━━━━━━━━━━━\u001b[0m\u001b[37m\u001b[0m \u001b[1m0s\u001b[0m 1ms/step - loss: 0.0015 - mae: 0.0290 - val_loss: 1.7188e-04 - val_mae: 0.0094\n",
      "Epoch 63/100\n",
      "\u001b[1m20/20\u001b[0m \u001b[32m━━━━━━━━━━━━━━━━━━━━\u001b[0m\u001b[37m\u001b[0m \u001b[1m0s\u001b[0m 1ms/step - loss: 0.0015 - mae: 0.0289 - val_loss: 3.0932e-04 - val_mae: 0.0159\n",
      "Epoch 64/100\n",
      "\u001b[1m20/20\u001b[0m \u001b[32m━━━━━━━━━━━━━━━━━━━━\u001b[0m\u001b[37m\u001b[0m \u001b[1m0s\u001b[0m 1ms/step - loss: 0.0010 - mae: 0.0238 - val_loss: 1.4490e-04 - val_mae: 0.0085\n",
      "Epoch 65/100\n",
      "\u001b[1m20/20\u001b[0m \u001b[32m━━━━━━━━━━━━━━━━━━━━\u001b[0m\u001b[37m\u001b[0m \u001b[1m0s\u001b[0m 999us/step - loss: 0.0010 - mae: 0.0235 - val_loss: 1.5636e-04 - val_mae: 0.0088\n",
      "Epoch 66/100\n",
      "\u001b[1m20/20\u001b[0m \u001b[32m━━━━━━━━━━━━━━━━━━━━\u001b[0m\u001b[37m\u001b[0m \u001b[1m0s\u001b[0m 1ms/step - loss: 0.0016 - mae: 0.0321 - val_loss: 1.7886e-04 - val_mae: 0.0095\n",
      "Epoch 67/100\n",
      "\u001b[1m20/20\u001b[0m \u001b[32m━━━━━━━━━━━━━━━━━━━━\u001b[0m\u001b[37m\u001b[0m \u001b[1m0s\u001b[0m 1ms/step - loss: 0.0012 - mae: 0.0253 - val_loss: 1.4682e-04 - val_mae: 0.0091\n",
      "Epoch 68/100\n",
      "\u001b[1m20/20\u001b[0m \u001b[32m━━━━━━━━━━━━━━━━━━━━\u001b[0m\u001b[37m\u001b[0m \u001b[1m0s\u001b[0m 1ms/step - loss: 7.5773e-04 - mae: 0.0212 - val_loss: 9.2600e-04 - val_mae: 0.0291\n",
      "Epoch 69/100\n",
      "\u001b[1m20/20\u001b[0m \u001b[32m━━━━━━━━━━━━━━━━━━━━\u001b[0m\u001b[37m\u001b[0m \u001b[1m0s\u001b[0m 1ms/step - loss: 0.0012 - mae: 0.0274 - val_loss: 3.0272e-04 - val_mae: 0.0149\n",
      "Epoch 70/100\n",
      "\u001b[1m20/20\u001b[0m \u001b[32m━━━━━━━━━━━━━━━━━━━━\u001b[0m\u001b[37m\u001b[0m \u001b[1m0s\u001b[0m 998us/step - loss: 0.0011 - mae: 0.0266 - val_loss: 2.1298e-04 - val_mae: 0.0116\n",
      "Epoch 71/100\n",
      "\u001b[1m20/20\u001b[0m \u001b[32m━━━━━━━━━━━━━━━━━━━━\u001b[0m\u001b[37m\u001b[0m \u001b[1m0s\u001b[0m 1ms/step - loss: 0.0011 - mae: 0.0257 - val_loss: 1.1895e-04 - val_mae: 0.0075\n",
      "Epoch 72/100\n",
      "\u001b[1m20/20\u001b[0m \u001b[32m━━━━━━━━━━━━━━━━━━━━\u001b[0m\u001b[37m\u001b[0m \u001b[1m0s\u001b[0m 1ms/step - loss: 0.0011 - mae: 0.0251 - val_loss: 7.1796e-04 - val_mae: 0.0240\n",
      "Epoch 73/100\n",
      "\u001b[1m20/20\u001b[0m \u001b[32m━━━━━━━━━━━━━━━━━━━━\u001b[0m\u001b[37m\u001b[0m \u001b[1m0s\u001b[0m 979us/step - loss: 0.0015 - mae: 0.0312 - val_loss: 3.7849e-04 - val_mae: 0.0163\n",
      "Epoch 74/100\n",
      "\u001b[1m20/20\u001b[0m \u001b[32m━━━━━━━━━━━━━━━━━━━━\u001b[0m\u001b[37m\u001b[0m \u001b[1m0s\u001b[0m 2ms/step - loss: 0.0012 - mae: 0.0254 - val_loss: 2.0536e-04 - val_mae: 0.0100\n",
      "Epoch 75/100\n",
      "\u001b[1m20/20\u001b[0m \u001b[32m━━━━━━━━━━━━━━━━━━━━\u001b[0m\u001b[37m\u001b[0m \u001b[1m0s\u001b[0m 1ms/step - loss: 0.0015 - mae: 0.0283 - val_loss: 4.0635e-04 - val_mae: 0.0174\n",
      "Epoch 76/100\n",
      "\u001b[1m20/20\u001b[0m \u001b[32m━━━━━━━━━━━━━━━━━━━━\u001b[0m\u001b[37m\u001b[0m \u001b[1m0s\u001b[0m 1ms/step - loss: 8.7428e-04 - mae: 0.0213 - val_loss: 1.4601e-04 - val_mae: 0.0089\n",
      "Epoch 77/100\n",
      "\u001b[1m20/20\u001b[0m \u001b[32m━━━━━━━━━━━━━━━━━━━━\u001b[0m\u001b[37m\u001b[0m \u001b[1m0s\u001b[0m 1ms/step - loss: 8.9439e-04 - mae: 0.0228 - val_loss: 1.4137e-04 - val_mae: 0.0085\n",
      "Epoch 78/100\n",
      "\u001b[1m20/20\u001b[0m \u001b[32m━━━━━━━━━━━━━━━━━━━━\u001b[0m\u001b[37m\u001b[0m \u001b[1m0s\u001b[0m 1ms/step - loss: 8.6681e-04 - mae: 0.0218 - val_loss: 5.4997e-04 - val_mae: 0.0201\n",
      "Epoch 79/100\n",
      "\u001b[1m20/20\u001b[0m \u001b[32m━━━━━━━━━━━━━━━━━━━━\u001b[0m\u001b[37m\u001b[0m \u001b[1m0s\u001b[0m 1ms/step - loss: 0.0015 - mae: 0.0299 - val_loss: 4.7394e-04 - val_mae: 0.0181\n",
      "Epoch 80/100\n",
      "\u001b[1m20/20\u001b[0m \u001b[32m━━━━━━━━━━━━━━━━━━━━\u001b[0m\u001b[37m\u001b[0m \u001b[1m0s\u001b[0m 975us/step - loss: 0.0013 - mae: 0.0280 - val_loss: 2.8299e-04 - val_mae: 0.0139\n",
      "Epoch 81/100\n",
      "\u001b[1m20/20\u001b[0m \u001b[32m━━━━━━━━━━━━━━━━━━━━\u001b[0m\u001b[37m\u001b[0m \u001b[1m0s\u001b[0m 1ms/step - loss: 0.0010 - mae: 0.0238 - val_loss: 3.6256e-04 - val_mae: 0.0164\n",
      "Epoch 82/100\n",
      "\u001b[1m20/20\u001b[0m \u001b[32m━━━━━━━━━━━━━━━━━━━━\u001b[0m\u001b[37m\u001b[0m \u001b[1m0s\u001b[0m 1ms/step - loss: 9.9911e-04 - mae: 0.0250 - val_loss: 1.4678e-04 - val_mae: 0.0095\n",
      "Epoch 83/100\n",
      "\u001b[1m20/20\u001b[0m \u001b[32m━━━━━━━━━━━━━━━━━━━━\u001b[0m\u001b[37m\u001b[0m \u001b[1m0s\u001b[0m 999us/step - loss: 9.1923e-04 - mae: 0.0230 - val_loss: 1.0805e-04 - val_mae: 0.0080\n",
      "Epoch 84/100\n",
      "\u001b[1m20/20\u001b[0m \u001b[32m━━━━━━━━━━━━━━━━━━━━\u001b[0m\u001b[37m\u001b[0m \u001b[1m0s\u001b[0m 992us/step - loss: 7.9680e-04 - mae: 0.0223 - val_loss: 1.5448e-04 - val_mae: 0.0100\n",
      "Epoch 85/100\n",
      "\u001b[1m20/20\u001b[0m \u001b[32m━━━━━━━━━━━━━━━━━━━━\u001b[0m\u001b[37m\u001b[0m \u001b[1m0s\u001b[0m 1ms/step - loss: 0.0012 - mae: 0.0251 - val_loss: 4.5097e-04 - val_mae: 0.0183\n",
      "Epoch 86/100\n",
      "\u001b[1m20/20\u001b[0m \u001b[32m━━━━━━━━━━━━━━━━━━━━\u001b[0m\u001b[37m\u001b[0m \u001b[1m0s\u001b[0m 1ms/step - loss: 8.1799e-04 - mae: 0.0214 - val_loss: 6.6310e-04 - val_mae: 0.0239\n",
      "Epoch 87/100\n",
      "\u001b[1m20/20\u001b[0m \u001b[32m━━━━━━━━━━━━━━━━━━━━\u001b[0m\u001b[37m\u001b[0m \u001b[1m0s\u001b[0m 981us/step - loss: 0.0014 - mae: 0.0297 - val_loss: 1.1774e-04 - val_mae: 0.0085\n",
      "Epoch 88/100\n",
      "\u001b[1m20/20\u001b[0m \u001b[32m━━━━━━━━━━━━━━━━━━━━\u001b[0m\u001b[37m\u001b[0m \u001b[1m0s\u001b[0m 1ms/step - loss: 9.4036e-04 - mae: 0.0239 - val_loss: 9.8085e-05 - val_mae: 0.0079\n",
      "Epoch 89/100\n",
      "\u001b[1m20/20\u001b[0m \u001b[32m━━━━━━━━━━━━━━━━━━━━\u001b[0m\u001b[37m\u001b[0m \u001b[1m0s\u001b[0m 1ms/step - loss: 0.0011 - mae: 0.0246 - val_loss: 1.1487e-04 - val_mae: 0.0086\n",
      "Epoch 90/100\n",
      "\u001b[1m20/20\u001b[0m \u001b[32m━━━━━━━━━━━━━━━━━━━━\u001b[0m\u001b[37m\u001b[0m \u001b[1m0s\u001b[0m 1ms/step - loss: 7.5116e-04 - mae: 0.0211 - val_loss: 2.0316e-04 - val_mae: 0.0119\n",
      "Epoch 91/100\n",
      "\u001b[1m20/20\u001b[0m \u001b[32m━━━━━━━━━━━━━━━━━━━━\u001b[0m\u001b[37m\u001b[0m \u001b[1m0s\u001b[0m 996us/step - loss: 9.6318e-04 - mae: 0.0236 - val_loss: 1.5316e-04 - val_mae: 0.0106\n",
      "Epoch 92/100\n",
      "\u001b[1m20/20\u001b[0m \u001b[32m━━━━━━━━━━━━━━━━━━━━\u001b[0m\u001b[37m\u001b[0m \u001b[1m0s\u001b[0m 3ms/step - loss: 8.5684e-04 - mae: 0.0227 - val_loss: 2.3396e-04 - val_mae: 0.0131\n",
      "Epoch 93/100\n",
      "\u001b[1m20/20\u001b[0m \u001b[32m━━━━━━━━━━━━━━━━━━━━\u001b[0m\u001b[37m\u001b[0m \u001b[1m0s\u001b[0m 1ms/step - loss: 9.1441e-04 - mae: 0.0219 - val_loss: 3.8365e-04 - val_mae: 0.0173\n",
      "Epoch 94/100\n",
      "\u001b[1m20/20\u001b[0m \u001b[32m━━━━━━━━━━━━━━━━━━━━\u001b[0m\u001b[37m\u001b[0m \u001b[1m0s\u001b[0m 953us/step - loss: 0.0012 - mae: 0.0240 - val_loss: 1.8397e-04 - val_mae: 0.0104\n",
      "Epoch 95/100\n",
      "\u001b[1m20/20\u001b[0m \u001b[32m━━━━━━━━━━━━━━━━━━━━\u001b[0m\u001b[37m\u001b[0m \u001b[1m0s\u001b[0m 1ms/step - loss: 9.0794e-04 - mae: 0.0242 - val_loss: 3.3035e-04 - val_mae: 0.0152\n",
      "Epoch 96/100\n",
      "\u001b[1m20/20\u001b[0m \u001b[32m━━━━━━━━━━━━━━━━━━━━\u001b[0m\u001b[37m\u001b[0m \u001b[1m0s\u001b[0m 1ms/step - loss: 9.2091e-04 - mae: 0.0216 - val_loss: 1.0022e-04 - val_mae: 0.0081\n",
      "Epoch 97/100\n",
      "\u001b[1m20/20\u001b[0m \u001b[32m━━━━━━━━━━━━━━━━━━━━\u001b[0m\u001b[37m\u001b[0m \u001b[1m0s\u001b[0m 1ms/step - loss: 8.2867e-04 - mae: 0.0225 - val_loss: 9.5475e-05 - val_mae: 0.0077\n",
      "Epoch 98/100\n",
      "\u001b[1m20/20\u001b[0m \u001b[32m━━━━━━━━━━━━━━━━━━━━\u001b[0m\u001b[37m\u001b[0m \u001b[1m0s\u001b[0m 1ms/step - loss: 0.0010 - mae: 0.0229 - val_loss: 1.0790e-04 - val_mae: 0.0079\n",
      "Epoch 99/100\n",
      "\u001b[1m20/20\u001b[0m \u001b[32m━━━━━━━━━━━━━━━━━━━━\u001b[0m\u001b[37m\u001b[0m \u001b[1m0s\u001b[0m 986us/step - loss: 6.4846e-04 - mae: 0.0184 - val_loss: 1.9818e-04 - val_mae: 0.0122\n",
      "Epoch 100/100\n",
      "\u001b[1m20/20\u001b[0m \u001b[32m━━━━━━━━━━━━━━━━━━━━\u001b[0m\u001b[37m\u001b[0m \u001b[1m0s\u001b[0m 976us/step - loss: 6.8260e-04 - mae: 0.0205 - val_loss: 3.1176e-04 - val_mae: 0.0152\n",
      "\u001b[1m2/2\u001b[0m \u001b[32m━━━━━━━━━━━━━━━━━━━━\u001b[0m\u001b[37m\u001b[0m \u001b[1m0s\u001b[0m 55ms/step\n",
      "\n",
      "Final LSTM Model Performance:\n",
      "Validation RMSE: 0.0177\n",
      "Validation R²: 0.9956\n",
      "Validation MAE: 0.0152\n"
     ]
    },
    {
     "name": "stderr",
     "output_type": "stream",
     "text": [
      "/Library/Frameworks/Python.framework/Versions/3.12/lib/python3.12/site-packages/sklearn/metrics/_regression.py:492: FutureWarning: 'squared' is deprecated in version 1.4 and will be removed in 1.6. To calculate the root mean squared error, use the function'root_mean_squared_error'.\n",
      "  warnings.warn(\n"
     ]
    }
   ],
   "source": [
    "# Extract the best hyperparameters from the final population\n",
    "best_individual = population[np.argmax(fitness_scores)]\n",
    "best_units, best_dropout, best_batch_size, best_learning_rate = best_individual\n",
    "\n",
    "print(f\"Best Hyperparameters from EGA:\")\n",
    "print(f\"Units: {best_units}, Dropout: {best_dropout}, Batch Size: {best_batch_size}, Learning Rate: {best_learning_rate}\")\n",
    "\n",
    "# Build the final LSTM model with the best hyperparameters\n",
    "final_lstm_model = Sequential()\n",
    "final_lstm_model.add(LSTM(units=int(best_units), input_shape=(X_train_lstm.shape[1], X_train_lstm.shape[2]), return_sequences=False))\n",
    "final_lstm_model.add(Dropout(best_dropout))\n",
    "final_lstm_model.add(Dense(units=32, activation='relu'))\n",
    "final_lstm_model.add(Dense(units=1, activation='linear'))\n",
    "\n",
    "# Compile the model with the best learning rate\n",
    "final_lstm_model.compile(optimizer='adam', loss='mean_squared_error', metrics=['mae'])\n",
    "\n",
    "# Fit the final model on training data\n",
    "final_lstm_model.fit(\n",
    "    X_train_lstm, y_train_lstm,\n",
    "    validation_data=(X_val_lstm, y_val_lstm),\n",
    "    epochs=100,  # Final training with increased epochs\n",
    "    batch_size=int(best_batch_size),\n",
    "    verbose=1\n",
    ")\n",
    "\n",
    "# Evaluate final model performance on the validation set\n",
    "y_pred_final = final_lstm_model.predict(X_val_lstm)\n",
    "rmse_final = mean_squared_error(y_val_lstm, y_pred_final, squared=False)\n",
    "r2_final = r2_score(y_val_lstm, y_pred_final)\n",
    "mae_final = mean_absolute_error(y_val_lstm, y_pred_final)\n",
    "\n",
    "print(f\"\\nFinal LSTM Model Performance:\")\n",
    "print(f\"Validation RMSE: {rmse_final:.4f}\")\n",
    "print(f\"Validation R²: {r2_final:.4f}\")\n",
    "print(f\"Validation MAE: {mae_final:.4f}\")"
   ]
  },
  {
   "cell_type": "code",
   "execution_count": null,
   "metadata": {},
   "outputs": [],
   "source": []
  },
  {
   "cell_type": "code",
   "execution_count": 61,
   "metadata": {},
   "outputs": [
    {
     "name": "stdout",
     "output_type": "stream",
     "text": [
      "Epoch 1/100\n"
     ]
    },
    {
     "name": "stderr",
     "output_type": "stream",
     "text": [
      "/Library/Frameworks/Python.framework/Versions/3.12/lib/python3.12/site-packages/keras/src/layers/rnn/rnn.py:204: UserWarning: Do not pass an `input_shape`/`input_dim` argument to a layer. When using Sequential models, prefer using an `Input(shape)` object as the first layer in the model instead.\n",
      "  super().__init__(**kwargs)\n"
     ]
    },
    {
     "name": "stdout",
     "output_type": "stream",
     "text": [
      "\u001b[1m20/20\u001b[0m \u001b[32m━━━━━━━━━━━━━━━━━━━━\u001b[0m\u001b[37m\u001b[0m \u001b[1m1s\u001b[0m 7ms/step - loss: 0.3209 - mae: 0.5174 - val_loss: 0.1070 - val_mae: 0.2767\n",
      "Epoch 2/100\n",
      "\u001b[1m20/20\u001b[0m \u001b[32m━━━━━━━━━━━━━━━━━━━━\u001b[0m\u001b[37m\u001b[0m \u001b[1m0s\u001b[0m 1ms/step - loss: 0.0689 - mae: 0.2311 - val_loss: 0.0306 - val_mae: 0.1356\n",
      "Epoch 3/100\n",
      "\u001b[1m20/20\u001b[0m \u001b[32m━━━━━━━━━━━━━━━━━━━━\u001b[0m\u001b[37m\u001b[0m \u001b[1m0s\u001b[0m 1ms/step - loss: 0.0313 - mae: 0.1404 - val_loss: 0.0172 - val_mae: 0.1096\n",
      "Epoch 4/100\n",
      "\u001b[1m20/20\u001b[0m \u001b[32m━━━━━━━━━━━━━━━━━━━━\u001b[0m\u001b[37m\u001b[0m \u001b[1m0s\u001b[0m 1ms/step - loss: 0.0185 - mae: 0.1120 - val_loss: 0.0124 - val_mae: 0.0896\n",
      "Epoch 5/100\n",
      "\u001b[1m20/20\u001b[0m \u001b[32m━━━━━━━━━━━━━━━━━━━━\u001b[0m\u001b[37m\u001b[0m \u001b[1m0s\u001b[0m 1ms/step - loss: 0.0133 - mae: 0.0933 - val_loss: 0.0089 - val_mae: 0.0752\n",
      "Epoch 6/100\n",
      "\u001b[1m20/20\u001b[0m \u001b[32m━━━━━━━━━━━━━━━━━━━━\u001b[0m\u001b[37m\u001b[0m \u001b[1m0s\u001b[0m 1ms/step - loss: 0.0106 - mae: 0.0781 - val_loss: 0.0061 - val_mae: 0.0598\n",
      "Epoch 7/100\n",
      "\u001b[1m20/20\u001b[0m \u001b[32m━━━━━━━━━━━━━━━━━━━━\u001b[0m\u001b[37m\u001b[0m \u001b[1m0s\u001b[0m 1ms/step - loss: 0.0075 - mae: 0.0701 - val_loss: 0.0055 - val_mae: 0.0548\n",
      "Epoch 8/100\n",
      "\u001b[1m20/20\u001b[0m \u001b[32m━━━━━━━━━━━━━━━━━━━━\u001b[0m\u001b[37m\u001b[0m \u001b[1m0s\u001b[0m 1ms/step - loss: 0.0057 - mae: 0.0572 - val_loss: 0.0040 - val_mae: 0.0449\n",
      "Epoch 9/100\n",
      "\u001b[1m20/20\u001b[0m \u001b[32m━━━━━━━━━━━━━━━━━━━━\u001b[0m\u001b[37m\u001b[0m \u001b[1m0s\u001b[0m 2ms/step - loss: 0.0046 - mae: 0.0492 - val_loss: 0.0040 - val_mae: 0.0467\n",
      "Epoch 10/100\n",
      "\u001b[1m20/20\u001b[0m \u001b[32m━━━━━━━━━━━━━━━━━━━━\u001b[0m\u001b[37m\u001b[0m \u001b[1m0s\u001b[0m 1ms/step - loss: 0.0050 - mae: 0.0556 - val_loss: 0.0037 - val_mae: 0.0424\n",
      "Epoch 11/100\n",
      "\u001b[1m20/20\u001b[0m \u001b[32m━━━━━━━━━━━━━━━━━━━━\u001b[0m\u001b[37m\u001b[0m \u001b[1m0s\u001b[0m 1ms/step - loss: 0.0040 - mae: 0.0496 - val_loss: 0.0037 - val_mae: 0.0445\n",
      "Epoch 12/100\n",
      "\u001b[1m20/20\u001b[0m \u001b[32m━━━━━━━━━━━━━━━━━━━━\u001b[0m\u001b[37m\u001b[0m \u001b[1m0s\u001b[0m 1ms/step - loss: 0.0042 - mae: 0.0496 - val_loss: 0.0033 - val_mae: 0.0405\n",
      "Epoch 13/100\n",
      "\u001b[1m20/20\u001b[0m \u001b[32m━━━━━━━━━━━━━━━━━━━━\u001b[0m\u001b[37m\u001b[0m \u001b[1m0s\u001b[0m 1ms/step - loss: 0.0044 - mae: 0.0520 - val_loss: 0.0032 - val_mae: 0.0376\n",
      "Epoch 14/100\n",
      "\u001b[1m20/20\u001b[0m \u001b[32m━━━━━━━━━━━━━━━━━━━━\u001b[0m\u001b[37m\u001b[0m \u001b[1m0s\u001b[0m 1ms/step - loss: 0.0033 - mae: 0.0456 - val_loss: 0.0030 - val_mae: 0.0372\n",
      "Epoch 15/100\n",
      "\u001b[1m20/20\u001b[0m \u001b[32m━━━━━━━━━━━━━━━━━━━━\u001b[0m\u001b[37m\u001b[0m \u001b[1m0s\u001b[0m 1ms/step - loss: 0.0039 - mae: 0.0471 - val_loss: 0.0028 - val_mae: 0.0383\n",
      "Epoch 16/100\n",
      "\u001b[1m20/20\u001b[0m \u001b[32m━━━━━━━━━━━━━━━━━━━━\u001b[0m\u001b[37m\u001b[0m \u001b[1m0s\u001b[0m 1ms/step - loss: 0.0028 - mae: 0.0413 - val_loss: 0.0027 - val_mae: 0.0358\n",
      "Epoch 17/100\n",
      "\u001b[1m20/20\u001b[0m \u001b[32m━━━━━━━━━━━━━━━━━━━━\u001b[0m\u001b[37m\u001b[0m \u001b[1m0s\u001b[0m 1ms/step - loss: 0.0037 - mae: 0.0463 - val_loss: 0.0028 - val_mae: 0.0389\n",
      "Epoch 18/100\n",
      "\u001b[1m20/20\u001b[0m \u001b[32m━━━━━━━━━━━━━━━━━━━━\u001b[0m\u001b[37m\u001b[0m \u001b[1m0s\u001b[0m 1ms/step - loss: 0.0031 - mae: 0.0427 - val_loss: 0.0025 - val_mae: 0.0353\n",
      "Epoch 19/100\n",
      "\u001b[1m20/20\u001b[0m \u001b[32m━━━━━━━━━━━━━━━━━━━━\u001b[0m\u001b[37m\u001b[0m \u001b[1m0s\u001b[0m 984us/step - loss: 0.0033 - mae: 0.0430 - val_loss: 0.0023 - val_mae: 0.0352\n",
      "Epoch 20/100\n",
      "\u001b[1m20/20\u001b[0m \u001b[32m━━━━━━━━━━━━━━━━━━━━\u001b[0m\u001b[37m\u001b[0m \u001b[1m0s\u001b[0m 964us/step - loss: 0.0032 - mae: 0.0427 - val_loss: 0.0027 - val_mae: 0.0411\n",
      "Epoch 21/100\n",
      "\u001b[1m20/20\u001b[0m \u001b[32m━━━━━━━━━━━━━━━━━━━━\u001b[0m\u001b[37m\u001b[0m \u001b[1m0s\u001b[0m 1ms/step - loss: 0.0028 - mae: 0.0405 - val_loss: 0.0021 - val_mae: 0.0317\n",
      "Epoch 22/100\n",
      "\u001b[1m20/20\u001b[0m \u001b[32m━━━━━━━━━━━━━━━━━━━━\u001b[0m\u001b[37m\u001b[0m \u001b[1m0s\u001b[0m 3ms/step - loss: 0.0025 - mae: 0.0380 - val_loss: 0.0023 - val_mae: 0.0318\n",
      "Epoch 23/100\n",
      "\u001b[1m20/20\u001b[0m \u001b[32m━━━━━━━━━━━━━━━━━━━━\u001b[0m\u001b[37m\u001b[0m \u001b[1m0s\u001b[0m 999us/step - loss: 0.0029 - mae: 0.0409 - val_loss: 0.0020 - val_mae: 0.0315\n",
      "Epoch 24/100\n",
      "\u001b[1m20/20\u001b[0m \u001b[32m━━━━━━━━━━━━━━━━━━━━\u001b[0m\u001b[37m\u001b[0m \u001b[1m0s\u001b[0m 1ms/step - loss: 0.0024 - mae: 0.0375 - val_loss: 0.0018 - val_mae: 0.0299\n",
      "Epoch 25/100\n",
      "\u001b[1m20/20\u001b[0m \u001b[32m━━━━━━━━━━━━━━━━━━━━\u001b[0m\u001b[37m\u001b[0m \u001b[1m0s\u001b[0m 1ms/step - loss: 0.0024 - mae: 0.0374 - val_loss: 0.0019 - val_mae: 0.0327\n",
      "Epoch 26/100\n",
      "\u001b[1m20/20\u001b[0m \u001b[32m━━━━━━━━━━━━━━━━━━━━\u001b[0m\u001b[37m\u001b[0m \u001b[1m0s\u001b[0m 998us/step - loss: 0.0029 - mae: 0.0430 - val_loss: 0.0017 - val_mae: 0.0302\n",
      "Epoch 27/100\n",
      "\u001b[1m20/20\u001b[0m \u001b[32m━━━━━━━━━━━━━━━━━━━━\u001b[0m\u001b[37m\u001b[0m \u001b[1m0s\u001b[0m 1ms/step - loss: 0.0023 - mae: 0.0380 - val_loss: 0.0017 - val_mae: 0.0294\n",
      "Epoch 28/100\n",
      "\u001b[1m20/20\u001b[0m \u001b[32m━━━━━━━━━━━━━━━━━━━━\u001b[0m\u001b[37m\u001b[0m \u001b[1m0s\u001b[0m 1ms/step - loss: 0.0026 - mae: 0.0384 - val_loss: 0.0014 - val_mae: 0.0279\n",
      "Epoch 29/100\n",
      "\u001b[1m20/20\u001b[0m \u001b[32m━━━━━━━━━━━━━━━━━━━━\u001b[0m\u001b[37m\u001b[0m \u001b[1m0s\u001b[0m 980us/step - loss: 0.0019 - mae: 0.0359 - val_loss: 0.0017 - val_mae: 0.0295\n",
      "Epoch 30/100\n",
      "\u001b[1m20/20\u001b[0m \u001b[32m━━━━━━━━━━━━━━━━━━━━\u001b[0m\u001b[37m\u001b[0m \u001b[1m0s\u001b[0m 1ms/step - loss: 0.0022 - mae: 0.0370 - val_loss: 0.0015 - val_mae: 0.0297\n",
      "Epoch 31/100\n",
      "\u001b[1m20/20\u001b[0m \u001b[32m━━━━━━━━━━━━━━━━━━━━\u001b[0m\u001b[37m\u001b[0m \u001b[1m0s\u001b[0m 995us/step - loss: 0.0019 - mae: 0.0328 - val_loss: 0.0011 - val_mae: 0.0220\n",
      "Epoch 32/100\n",
      "\u001b[1m20/20\u001b[0m \u001b[32m━━━━━━━━━━━━━━━━━━━━\u001b[0m\u001b[37m\u001b[0m \u001b[1m0s\u001b[0m 995us/step - loss: 0.0018 - mae: 0.0319 - val_loss: 9.8611e-04 - val_mae: 0.0210\n",
      "Epoch 33/100\n",
      "\u001b[1m20/20\u001b[0m \u001b[32m━━━━━━━━━━━━━━━━━━━━\u001b[0m\u001b[37m\u001b[0m \u001b[1m0s\u001b[0m 1ms/step - loss: 0.0019 - mae: 0.0342 - val_loss: 9.8217e-04 - val_mae: 0.0224\n",
      "Epoch 34/100\n",
      "\u001b[1m20/20\u001b[0m \u001b[32m━━━━━━━━━━━━━━━━━━━━\u001b[0m\u001b[37m\u001b[0m \u001b[1m0s\u001b[0m 1ms/step - loss: 0.0020 - mae: 0.0325 - val_loss: 8.8295e-04 - val_mae: 0.0191\n",
      "Epoch 35/100\n",
      "\u001b[1m20/20\u001b[0m \u001b[32m━━━━━━━━━━━━━━━━━━━━\u001b[0m\u001b[37m\u001b[0m \u001b[1m0s\u001b[0m 983us/step - loss: 0.0022 - mae: 0.0330 - val_loss: 7.6606e-04 - val_mae: 0.0179\n",
      "Epoch 36/100\n",
      "\u001b[1m20/20\u001b[0m \u001b[32m━━━━━━━━━━━━━━━━━━━━\u001b[0m\u001b[37m\u001b[0m \u001b[1m0s\u001b[0m 1ms/step - loss: 0.0022 - mae: 0.0352 - val_loss: 7.2806e-04 - val_mae: 0.0191\n",
      "Epoch 37/100\n",
      "\u001b[1m20/20\u001b[0m \u001b[32m━━━━━━━━━━━━━━━━━━━━\u001b[0m\u001b[37m\u001b[0m \u001b[1m0s\u001b[0m 2ms/step - loss: 0.0012 - mae: 0.0283 - val_loss: 6.9650e-04 - val_mae: 0.0178\n",
      "Epoch 38/100\n",
      "\u001b[1m20/20\u001b[0m \u001b[32m━━━━━━━━━━━━━━━━━━━━\u001b[0m\u001b[37m\u001b[0m \u001b[1m0s\u001b[0m 970us/step - loss: 0.0016 - mae: 0.0322 - val_loss: 7.2314e-04 - val_mae: 0.0190\n",
      "Epoch 39/100\n",
      "\u001b[1m20/20\u001b[0m \u001b[32m━━━━━━━━━━━━━━━━━━━━\u001b[0m\u001b[37m\u001b[0m \u001b[1m0s\u001b[0m 1ms/step - loss: 0.0017 - mae: 0.0304 - val_loss: 6.3145e-04 - val_mae: 0.0172\n",
      "Epoch 40/100\n",
      "\u001b[1m20/20\u001b[0m \u001b[32m━━━━━━━━━━━━━━━━━━━━\u001b[0m\u001b[37m\u001b[0m \u001b[1m0s\u001b[0m 995us/step - loss: 0.0014 - mae: 0.0281 - val_loss: 6.1914e-04 - val_mae: 0.0170\n",
      "Epoch 41/100\n",
      "\u001b[1m20/20\u001b[0m \u001b[32m━━━━━━━━━━━━━━━━━━━━\u001b[0m\u001b[37m\u001b[0m \u001b[1m0s\u001b[0m 1ms/step - loss: 0.0016 - mae: 0.0314 - val_loss: 6.3976e-04 - val_mae: 0.0178\n",
      "Epoch 42/100\n",
      "\u001b[1m20/20\u001b[0m \u001b[32m━━━━━━━━━━━━━━━━━━━━\u001b[0m\u001b[37m\u001b[0m \u001b[1m0s\u001b[0m 1ms/step - loss: 0.0020 - mae: 0.0360 - val_loss: 5.6584e-04 - val_mae: 0.0164\n",
      "Epoch 43/100\n",
      "\u001b[1m20/20\u001b[0m \u001b[32m━━━━━━━━━━━━━━━━━━━━\u001b[0m\u001b[37m\u001b[0m \u001b[1m0s\u001b[0m 956us/step - loss: 0.0019 - mae: 0.0322 - val_loss: 6.3668e-04 - val_mae: 0.0188\n",
      "Epoch 44/100\n",
      "\u001b[1m20/20\u001b[0m \u001b[32m━━━━━━━━━━━━━━━━━━━━\u001b[0m\u001b[37m\u001b[0m \u001b[1m0s\u001b[0m 1ms/step - loss: 0.0015 - mae: 0.0296 - val_loss: 4.1939e-04 - val_mae: 0.0137\n",
      "Epoch 45/100\n",
      "\u001b[1m20/20\u001b[0m \u001b[32m━━━━━━━━━━━━━━━━━━━━\u001b[0m\u001b[37m\u001b[0m \u001b[1m0s\u001b[0m 1ms/step - loss: 0.0015 - mae: 0.0282 - val_loss: 4.1923e-04 - val_mae: 0.0152\n",
      "Epoch 46/100\n",
      "\u001b[1m20/20\u001b[0m \u001b[32m━━━━━━━━━━━━━━━━━━━━\u001b[0m\u001b[37m\u001b[0m \u001b[1m0s\u001b[0m 1ms/step - loss: 0.0010 - mae: 0.0256 - val_loss: 5.0347e-04 - val_mae: 0.0168\n",
      "Epoch 47/100\n",
      "\u001b[1m20/20\u001b[0m \u001b[32m━━━━━━━━━━━━━━━━━━━━\u001b[0m\u001b[37m\u001b[0m \u001b[1m0s\u001b[0m 1ms/step - loss: 0.0019 - mae: 0.0348 - val_loss: 5.4407e-04 - val_mae: 0.0174\n",
      "Epoch 48/100\n",
      "\u001b[1m20/20\u001b[0m \u001b[32m━━━━━━━━━━━━━━━━━━━━\u001b[0m\u001b[37m\u001b[0m \u001b[1m0s\u001b[0m 1ms/step - loss: 0.0017 - mae: 0.0319 - val_loss: 9.1808e-04 - val_mae: 0.0261\n",
      "Epoch 49/100\n",
      "\u001b[1m20/20\u001b[0m \u001b[32m━━━━━━━━━━━━━━━━━━━━\u001b[0m\u001b[37m\u001b[0m \u001b[1m0s\u001b[0m 978us/step - loss: 0.0021 - mae: 0.0376 - val_loss: 6.4920e-04 - val_mae: 0.0211\n",
      "Epoch 50/100\n",
      "\u001b[1m20/20\u001b[0m \u001b[32m━━━━━━━━━━━━━━━━━━━━\u001b[0m\u001b[37m\u001b[0m \u001b[1m0s\u001b[0m 979us/step - loss: 0.0012 - mae: 0.0266 - val_loss: 4.3154e-04 - val_mae: 0.0165\n",
      "Epoch 51/100\n",
      "\u001b[1m20/20\u001b[0m \u001b[32m━━━━━━━━━━━━━━━━━━━━\u001b[0m\u001b[37m\u001b[0m \u001b[1m0s\u001b[0m 989us/step - loss: 0.0018 - mae: 0.0321 - val_loss: 5.5613e-04 - val_mae: 0.0194\n",
      "Epoch 52/100\n",
      "\u001b[1m20/20\u001b[0m \u001b[32m━━━━━━━━━━━━━━━━━━━━\u001b[0m\u001b[37m\u001b[0m \u001b[1m0s\u001b[0m 1ms/step - loss: 0.0018 - mae: 0.0298 - val_loss: 3.8813e-04 - val_mae: 0.0153\n",
      "Epoch 53/100\n",
      "\u001b[1m20/20\u001b[0m \u001b[32m━━━━━━━━━━━━━━━━━━━━\u001b[0m\u001b[37m\u001b[0m \u001b[1m0s\u001b[0m 982us/step - loss: 0.0012 - mae: 0.0278 - val_loss: 4.1610e-04 - val_mae: 0.0161\n",
      "Epoch 54/100\n",
      "\u001b[1m20/20\u001b[0m \u001b[32m━━━━━━━━━━━━━━━━━━━━\u001b[0m\u001b[37m\u001b[0m \u001b[1m0s\u001b[0m 990us/step - loss: 0.0013 - mae: 0.0278 - val_loss: 4.5307e-04 - val_mae: 0.0174\n",
      "Epoch 55/100\n",
      "\u001b[1m20/20\u001b[0m \u001b[32m━━━━━━━━━━━━━━━━━━━━\u001b[0m\u001b[37m\u001b[0m \u001b[1m0s\u001b[0m 1ms/step - loss: 0.0011 - mae: 0.0244 - val_loss: 3.2123e-04 - val_mae: 0.0134\n",
      "Epoch 56/100\n",
      "\u001b[1m20/20\u001b[0m \u001b[32m━━━━━━━━━━━━━━━━━━━━\u001b[0m\u001b[37m\u001b[0m \u001b[1m0s\u001b[0m 1ms/step - loss: 0.0011 - mae: 0.0259 - val_loss: 2.9317e-04 - val_mae: 0.0117\n",
      "Epoch 57/100\n",
      "\u001b[1m20/20\u001b[0m \u001b[32m━━━━━━━━━━━━━━━━━━━━\u001b[0m\u001b[37m\u001b[0m \u001b[1m0s\u001b[0m 981us/step - loss: 0.0012 - mae: 0.0269 - val_loss: 3.7570e-04 - val_mae: 0.0146\n",
      "Epoch 58/100\n",
      "\u001b[1m20/20\u001b[0m \u001b[32m━━━━━━━━━━━━━━━━━━━━\u001b[0m\u001b[37m\u001b[0m \u001b[1m0s\u001b[0m 1ms/step - loss: 0.0013 - mae: 0.0269 - val_loss: 2.2785e-04 - val_mae: 0.0102\n",
      "Epoch 59/100\n",
      "\u001b[1m20/20\u001b[0m \u001b[32m━━━━━━━━━━━━━━━━━━━━\u001b[0m\u001b[37m\u001b[0m \u001b[1m0s\u001b[0m 993us/step - loss: 0.0014 - mae: 0.0271 - val_loss: 7.6244e-04 - val_mae: 0.0244\n",
      "Epoch 60/100\n",
      "\u001b[1m20/20\u001b[0m \u001b[32m━━━━━━━━━━━━━━━━━━━━\u001b[0m\u001b[37m\u001b[0m \u001b[1m0s\u001b[0m 965us/step - loss: 0.0017 - mae: 0.0325 - val_loss: 7.6283e-04 - val_mae: 0.0236\n",
      "Epoch 61/100\n",
      "\u001b[1m20/20\u001b[0m \u001b[32m━━━━━━━━━━━━━━━━━━━━\u001b[0m\u001b[37m\u001b[0m \u001b[1m0s\u001b[0m 1ms/step - loss: 0.0012 - mae: 0.0265 - val_loss: 2.0714e-04 - val_mae: 0.0105\n",
      "Epoch 62/100\n",
      "\u001b[1m20/20\u001b[0m \u001b[32m━━━━━━━━━━━━━━━━━━━━\u001b[0m\u001b[37m\u001b[0m \u001b[1m0s\u001b[0m 1ms/step - loss: 6.2279e-04 - mae: 0.0191 - val_loss: 2.3332e-04 - val_mae: 0.0114\n",
      "Epoch 63/100\n",
      "\u001b[1m20/20\u001b[0m \u001b[32m━━━━━━━━━━━━━━━━━━━━\u001b[0m\u001b[37m\u001b[0m \u001b[1m0s\u001b[0m 1ms/step - loss: 0.0013 - mae: 0.0251 - val_loss: 1.4108e-04 - val_mae: 0.0093\n",
      "Epoch 64/100\n",
      "\u001b[1m20/20\u001b[0m \u001b[32m━━━━━━━━━━━━━━━━━━━━\u001b[0m\u001b[37m\u001b[0m \u001b[1m0s\u001b[0m 965us/step - loss: 9.5099e-04 - mae: 0.0232 - val_loss: 1.5549e-04 - val_mae: 0.0098\n",
      "Epoch 65/100\n",
      "\u001b[1m20/20\u001b[0m \u001b[32m━━━━━━━━━━━━━━━━━━━━\u001b[0m\u001b[37m\u001b[0m \u001b[1m0s\u001b[0m 1ms/step - loss: 0.0010 - mae: 0.0255 - val_loss: 1.1821e-04 - val_mae: 0.0080\n",
      "Epoch 66/100\n",
      "\u001b[1m20/20\u001b[0m \u001b[32m━━━━━━━━━━━━━━━━━━━━\u001b[0m\u001b[37m\u001b[0m \u001b[1m0s\u001b[0m 982us/step - loss: 8.4309e-04 - mae: 0.0228 - val_loss: 1.4365e-04 - val_mae: 0.0094\n",
      "Epoch 67/100\n",
      "\u001b[1m20/20\u001b[0m \u001b[32m━━━━━━━━━━━━━━━━━━━━\u001b[0m\u001b[37m\u001b[0m \u001b[1m0s\u001b[0m 981us/step - loss: 0.0011 - mae: 0.0250 - val_loss: 1.3957e-04 - val_mae: 0.0087\n",
      "Epoch 68/100\n",
      "\u001b[1m20/20\u001b[0m \u001b[32m━━━━━━━━━━━━━━━━━━━━\u001b[0m\u001b[37m\u001b[0m \u001b[1m0s\u001b[0m 968us/step - loss: 0.0012 - mae: 0.0258 - val_loss: 2.0898e-04 - val_mae: 0.0119\n",
      "Epoch 69/100\n",
      "\u001b[1m20/20\u001b[0m \u001b[32m━━━━━━━━━━━━━━━━━━━━\u001b[0m\u001b[37m\u001b[0m \u001b[1m0s\u001b[0m 1ms/step - loss: 0.0011 - mae: 0.0248 - val_loss: 1.1458e-04 - val_mae: 0.0081\n",
      "Epoch 70/100\n",
      "\u001b[1m20/20\u001b[0m \u001b[32m━━━━━━━━━━━━━━━━━━━━\u001b[0m\u001b[37m\u001b[0m \u001b[1m0s\u001b[0m 1ms/step - loss: 8.6037e-04 - mae: 0.0232 - val_loss: 8.2312e-05 - val_mae: 0.0063\n",
      "Epoch 71/100\n",
      "\u001b[1m20/20\u001b[0m \u001b[32m━━━━━━━━━━━━━━━━━━━━\u001b[0m\u001b[37m\u001b[0m \u001b[1m0s\u001b[0m 1ms/step - loss: 7.0164e-04 - mae: 0.0205 - val_loss: 7.9781e-05 - val_mae: 0.0064\n",
      "Epoch 72/100\n",
      "\u001b[1m20/20\u001b[0m \u001b[32m━━━━━━━━━━━━━━━━━━━━\u001b[0m\u001b[37m\u001b[0m \u001b[1m0s\u001b[0m 1ms/step - loss: 0.0011 - mae: 0.0243 - val_loss: 1.1496e-04 - val_mae: 0.0077\n",
      "Epoch 73/100\n",
      "\u001b[1m20/20\u001b[0m \u001b[32m━━━━━━━━━━━━━━━━━━━━\u001b[0m\u001b[37m\u001b[0m \u001b[1m0s\u001b[0m 964us/step - loss: 8.5781e-04 - mae: 0.0234 - val_loss: 9.7074e-05 - val_mae: 0.0076\n",
      "Epoch 74/100\n",
      "\u001b[1m20/20\u001b[0m \u001b[32m━━━━━━━━━━━━━━━━━━━━\u001b[0m\u001b[37m\u001b[0m \u001b[1m0s\u001b[0m 992us/step - loss: 8.8481e-04 - mae: 0.0228 - val_loss: 1.2194e-04 - val_mae: 0.0091\n",
      "Epoch 75/100\n",
      "\u001b[1m20/20\u001b[0m \u001b[32m━━━━━━━━━━━━━━━━━━━━\u001b[0m\u001b[37m\u001b[0m \u001b[1m0s\u001b[0m 1ms/step - loss: 8.6525e-04 - mae: 0.0225 - val_loss: 1.3395e-04 - val_mae: 0.0095\n",
      "Epoch 76/100\n",
      "\u001b[1m20/20\u001b[0m \u001b[32m━━━━━━━━━━━━━━━━━━━━\u001b[0m\u001b[37m\u001b[0m \u001b[1m0s\u001b[0m 1ms/step - loss: 8.8384e-04 - mae: 0.0223 - val_loss: 1.0788e-04 - val_mae: 0.0074\n",
      "Epoch 77/100\n",
      "\u001b[1m20/20\u001b[0m \u001b[32m━━━━━━━━━━━━━━━━━━━━\u001b[0m\u001b[37m\u001b[0m \u001b[1m0s\u001b[0m 1ms/step - loss: 0.0011 - mae: 0.0243 - val_loss: 1.4315e-04 - val_mae: 0.0096\n",
      "Epoch 78/100\n",
      "\u001b[1m20/20\u001b[0m \u001b[32m━━━━━━━━━━━━━━━━━━━━\u001b[0m\u001b[37m\u001b[0m \u001b[1m0s\u001b[0m 995us/step - loss: 8.5819e-04 - mae: 0.0217 - val_loss: 6.8306e-05 - val_mae: 0.0065\n",
      "Epoch 79/100\n",
      "\u001b[1m20/20\u001b[0m \u001b[32m━━━━━━━━━━━━━━━━━━━━\u001b[0m\u001b[37m\u001b[0m \u001b[1m0s\u001b[0m 966us/step - loss: 0.0011 - mae: 0.0258 - val_loss: 5.7493e-04 - val_mae: 0.0203\n",
      "Epoch 80/100\n",
      "\u001b[1m20/20\u001b[0m \u001b[32m━━━━━━━━━━━━━━━━━━━━\u001b[0m\u001b[37m\u001b[0m \u001b[1m0s\u001b[0m 2ms/step - loss: 8.7090e-04 - mae: 0.0222 - val_loss: 1.1569e-04 - val_mae: 0.0077\n",
      "Epoch 81/100\n",
      "\u001b[1m20/20\u001b[0m \u001b[32m━━━━━━━━━━━━━━━━━━━━\u001b[0m\u001b[37m\u001b[0m \u001b[1m0s\u001b[0m 962us/step - loss: 6.8838e-04 - mae: 0.0192 - val_loss: 1.0928e-04 - val_mae: 0.0085\n",
      "Epoch 82/100\n",
      "\u001b[1m20/20\u001b[0m \u001b[32m━━━━━━━━━━━━━━━━━━━━\u001b[0m\u001b[37m\u001b[0m \u001b[1m0s\u001b[0m 989us/step - loss: 7.1683e-04 - mae: 0.0215 - val_loss: 8.8268e-05 - val_mae: 0.0071\n",
      "Epoch 83/100\n",
      "\u001b[1m20/20\u001b[0m \u001b[32m━━━━━━━━━━━━━━━━━━━━\u001b[0m\u001b[37m\u001b[0m \u001b[1m0s\u001b[0m 1ms/step - loss: 0.0010 - mae: 0.0236 - val_loss: 8.4727e-05 - val_mae: 0.0074\n",
      "Epoch 84/100\n",
      "\u001b[1m20/20\u001b[0m \u001b[32m━━━━━━━━━━━━━━━━━━━━\u001b[0m\u001b[37m\u001b[0m \u001b[1m0s\u001b[0m 946us/step - loss: 7.2885e-04 - mae: 0.0209 - val_loss: 1.1326e-04 - val_mae: 0.0083\n",
      "Epoch 85/100\n",
      "\u001b[1m20/20\u001b[0m \u001b[32m━━━━━━━━━━━━━━━━━━━━\u001b[0m\u001b[37m\u001b[0m \u001b[1m0s\u001b[0m 3ms/step - loss: 9.9646e-04 - mae: 0.0221 - val_loss: 9.2512e-05 - val_mae: 0.0073\n",
      "Epoch 86/100\n",
      "\u001b[1m20/20\u001b[0m \u001b[32m━━━━━━━━━━━━━━━━━━━━\u001b[0m\u001b[37m\u001b[0m \u001b[1m0s\u001b[0m 998us/step - loss: 7.0692e-04 - mae: 0.0206 - val_loss: 3.6936e-04 - val_mae: 0.0175\n",
      "Epoch 87/100\n",
      "\u001b[1m20/20\u001b[0m \u001b[32m━━━━━━━━━━━━━━━━━━━━\u001b[0m\u001b[37m\u001b[0m \u001b[1m0s\u001b[0m 986us/step - loss: 8.8112e-04 - mae: 0.0228 - val_loss: 7.2753e-05 - val_mae: 0.0066\n",
      "Epoch 88/100\n",
      "\u001b[1m20/20\u001b[0m \u001b[32m━━━━━━━━━━━━━━━━━━━━\u001b[0m\u001b[37m\u001b[0m \u001b[1m0s\u001b[0m 1ms/step - loss: 6.3862e-04 - mae: 0.0188 - val_loss: 2.6698e-04 - val_mae: 0.0144\n",
      "\u001b[1m2/2\u001b[0m \u001b[32m━━━━━━━━━━━━━━━━━━━━\u001b[0m\u001b[37m\u001b[0m \u001b[1m0s\u001b[0m 52ms/step\n",
      "Final LSTM Model Performance:\n",
      "Validation RMSE: 0.0083\n",
      "Validation R²: 0.9990\n",
      "Validation MAE: 0.0065\n"
     ]
    },
    {
     "name": "stderr",
     "output_type": "stream",
     "text": [
      "/Library/Frameworks/Python.framework/Versions/3.12/lib/python3.12/site-packages/sklearn/metrics/_regression.py:492: FutureWarning: 'squared' is deprecated in version 1.4 and will be removed in 1.6. To calculate the root mean squared error, use the function'root_mean_squared_error'.\n",
      "  warnings.warn(\n"
     ]
    }
   ],
   "source": [
    "from tensorflow.keras.callbacks import EarlyStopping\n",
    "\n",
    "# Define early stopping to prevent overfitting\n",
    "early_stopping = EarlyStopping(\n",
    "    monitor='val_loss', \n",
    "    patience=10,  # Stop training if no improvement after 10 epochs\n",
    "    restore_best_weights=True  # Restore the best weights\n",
    ")\n",
    "\n",
    "# Adjust the final LSTM model with the optimized hyperparameters\n",
    "def build_final_lstm_model(input_shape, units, dropout, learning_rate):\n",
    "    model = Sequential()\n",
    "    model.add(LSTM(units=int(units), input_shape=input_shape, return_sequences=False))\n",
    "    model.add(Dropout(dropout))\n",
    "    model.add(Dense(units=32, activation='relu'))\n",
    "    model.add(Dense(units=1, activation='linear'))\n",
    "    \n",
    "    # Compile model with adjusted learning rate\n",
    "    model.compile(optimizer='adam', \n",
    "                  loss='mean_squared_error', \n",
    "                  metrics=['mae'])\n",
    "    return model\n",
    "\n",
    "# Set final hyperparameters\n",
    "final_units = 116\n",
    "final_dropout = 0.255\n",
    "final_batch_size = 8\n",
    "final_learning_rate = 0.137  # Although this is unusually high, we keep it as per EGA output\n",
    "\n",
    "# Build the final model\n",
    "final_lstm_model = build_final_lstm_model(input_shape_lstm, final_units, final_dropout, final_learning_rate)\n",
    "\n",
    "# Train the final model with extended epochs and early stopping\n",
    "final_history = final_lstm_model.fit(\n",
    "    X_train_lstm, y_train_lstm,\n",
    "    validation_data=(X_val_lstm, y_val_lstm),\n",
    "    epochs=100,  # Increased number of epochs\n",
    "    batch_size=int(final_batch_size),\n",
    "    callbacks=[early_stopping],\n",
    "    verbose=1\n",
    ")\n",
    "\n",
    "# Predict on validation set\n",
    "final_y_pred_lstm = final_lstm_model.predict(X_val_lstm)\n",
    "\n",
    "# Calculate validation metrics\n",
    "final_rmse_lstm = mean_squared_error(y_val_lstm, final_y_pred_lstm, squared=False)\n",
    "final_r2_lstm = r2_score(y_val_lstm, final_y_pred_lstm)\n",
    "final_mae_lstm = mean_absolute_error(y_val_lstm, final_y_pred_lstm)\n",
    "\n",
    "print(f\"Final LSTM Model Performance:\")\n",
    "print(f\"Validation RMSE: {final_rmse_lstm:.4f}\")\n",
    "print(f\"Validation R²: {final_r2_lstm:.4f}\")\n",
    "print(f\"Validation MAE: {final_mae_lstm:.4f}\")"
   ]
  },
  {
   "cell_type": "code",
   "execution_count": null,
   "metadata": {},
   "outputs": [],
   "source": []
  },
  {
   "cell_type": "code",
   "execution_count": 62,
   "metadata": {},
   "outputs": [
    {
     "name": "stdout",
     "output_type": "stream",
     "text": [
      "\n",
      "Model Comparison:\n",
      "Final LSTM - RMSE: 0.0083, R²: 0.9990, MAE: 0.0065\n",
      "XGBoost - RMSE: 0.0135, R²: 0.9963, MAE: 0.0097\n",
      "LightGBM - RMSE: 0.0455, R²: 0.9582, MAE: 0.0346\n"
     ]
    }
   ],
   "source": [
    "# Assume the best results from XGBoost and LightGBM are available\n",
    "xgb_rmse, xgb_r2, xgb_mae = 0.0135, 0.9963, 0.0097\n",
    "lgbm_rmse, lgbm_r2, lgbm_mae = 0.0455, 0.9582, 0.0346\n",
    "\n",
    "# Print comparison of results\n",
    "print(\"\\nModel Comparison:\")\n",
    "print(f\"Final LSTM - RMSE: {final_rmse_lstm:.4f}, R²: {final_r2_lstm:.4f}, MAE: {final_mae_lstm:.4f}\")\n",
    "print(f\"XGBoost - RMSE: {xgb_rmse:.4f}, R²: {xgb_r2:.4f}, MAE: {xgb_mae:.4f}\")\n",
    "print(f\"LightGBM - RMSE: {lgbm_rmse:.4f}, R²: {lgbm_r2:.4f}, MAE: {lgbm_mae:.4f}\")"
   ]
  },
  {
   "cell_type": "code",
   "execution_count": null,
   "metadata": {},
   "outputs": [],
   "source": []
  },
  {
   "cell_type": "code",
   "execution_count": 64,
   "metadata": {},
   "outputs": [
    {
     "name": "stdout",
     "output_type": "stream",
     "text": [
      "Training data shape for LSTM: (136, 1, 8)\n",
      "Validation data shape for LSTM: (29, 1, 8)\n",
      "Test data shape for LSTM: (30, 1, 8)\n"
     ]
    }
   ],
   "source": [
    "# Import necessary libraries\n",
    "from sklearn.model_selection import train_test_split\n",
    "\n",
    "# Split the original dataset into training, validation, and test sets\n",
    "X_train_lstm, X_temp_lstm, y_train_lstm, y_temp_lstm = train_test_split(\n",
    "    X_lstm, y_lstm, test_size=0.3, random_state=42\n",
    ")\n",
    "\n",
    "X_val_lstm, X_test_lstm, y_val_lstm, y_test_lstm = train_test_split(\n",
    "    X_temp_lstm, y_temp_lstm, test_size=0.5, random_state=42\n",
    ")\n",
    "\n",
    "# Display the shapes to verify\n",
    "print(f\"Training data shape for LSTM: {X_train_lstm.shape}\")\n",
    "print(f\"Validation data shape for LSTM: {X_val_lstm.shape}\")\n",
    "print(f\"Test data shape for LSTM: {X_test_lstm.shape}\")"
   ]
  },
  {
   "cell_type": "code",
   "execution_count": 65,
   "metadata": {},
   "outputs": [
    {
     "name": "stdout",
     "output_type": "stream",
     "text": [
      "\u001b[1m1/1\u001b[0m \u001b[32m━━━━━━━━━━━━━━━━━━━━\u001b[0m\u001b[37m\u001b[0m \u001b[1m0s\u001b[0m 10ms/step\n",
      "\n",
      "Final LSTM Model Performance on Test Data:\n",
      "Test RMSE: 0.0086\n",
      "Test R²: 0.9988\n",
      "Test MAE: 0.0071\n"
     ]
    },
    {
     "name": "stderr",
     "output_type": "stream",
     "text": [
      "/Library/Frameworks/Python.framework/Versions/3.12/lib/python3.12/site-packages/sklearn/metrics/_regression.py:492: FutureWarning: 'squared' is deprecated in version 1.4 and will be removed in 1.6. To calculate the root mean squared error, use the function'root_mean_squared_error'.\n",
      "  warnings.warn(\n"
     ]
    }
   ],
   "source": [
    "# Predict on the test set\n",
    "test_y_pred_lstm = final_lstm_model.predict(X_test_lstm)\n",
    "\n",
    "# Calculate test metrics\n",
    "test_rmse_lstm = mean_squared_error(y_test_lstm, test_y_pred_lstm, squared=False)\n",
    "test_r2_lstm = r2_score(y_test_lstm, test_y_pred_lstm)\n",
    "test_mae_lstm = mean_absolute_error(y_test_lstm, test_y_pred_lstm)\n",
    "\n",
    "print(\"\\nFinal LSTM Model Performance on Test Data:\")\n",
    "print(f\"Test RMSE: {test_rmse_lstm:.4f}\")\n",
    "print(f\"Test R²: {test_r2_lstm:.4f}\")\n",
    "print(f\"Test MAE: {test_mae_lstm:.4f}\")"
   ]
  },
  {
   "cell_type": "code",
   "execution_count": 66,
   "metadata": {},
   "outputs": [
    {
     "data": {
      "image/png": "[encoded data removed]",
      "text/plain": [
       "<Figure size 1000x600 with 1 Axes>"
      ]
     },
     "metadata": {},
     "output_type": "display_data"
    }
   ],
   "source": [
    "import matplotlib.pyplot as plt\n",
    "\n",
    "# Plot predictions vs actual values for the test set\n",
    "plt.figure(figsize=(10, 6))\n",
    "plt.plot(y_test_lstm, label='Actual')\n",
    "plt.plot(test_y_pred_lstm, label='Predicted', alpha=0.7)\n",
    "plt.xlabel('Samples')\n",
    "plt.ylabel('HDI')\n",
    "plt.title('Final LSTM Model: Predictions vs Actuals (Test Set)')\n",
    "plt.legend()\n",
    "plt.grid(True)\n",
    "plt.show()"
   ]
  },
  {
   "cell_type": "code",
   "execution_count": null,
   "metadata": {},
   "outputs": [],
   "source": []
  }
 ],
 "metadata": {
  "kernelspec": {
   "display_name": "Python 3",
   "language": "python",
   "name": "python3"
  },
  "language_info": {
   "codemirror_mode": {
    "name": "ipython",
    "version": 3
   },
   "file_extension": ".py",
   "mimetype": "text/x-python",
   "name": "python",
   "nbconvert_exporter": "python",
   "pygments_lexer": "ipython3",
   "version": "3.12.3"
  }
 },
 "nbformat": 4,
 "nbformat_minor": 2
}
